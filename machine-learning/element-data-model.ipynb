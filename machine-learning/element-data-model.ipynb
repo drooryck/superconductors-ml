{
 "cells": [
  {
   "cell_type": "code",
   "execution_count": null,
   "id": "849fb886",
   "metadata": {
    "is_executing": true
   },
   "outputs": [],
   "source": [
    "# Import relevant stuff\n",
    "import pandas as pd\n",
    "import numpy as np\n",
    "from ast import literal_eval"
   ]
  },
  {
   "cell_type": "code",
   "execution_count": 15,
   "id": "851a35e4",
   "metadata": {
    "ExecuteTime": {
     "end_time": "2023-07-04T18:09:44.706472100Z",
     "start_time": "2023-07-04T18:09:44.696670900Z"
    }
   },
   "outputs": [],
   "source": [
    "# Goes from a list stored in a df to just the value inside.\n",
    "def fix_list_format(df, col_title):\n",
    "    fixed_row = []\n",
    "    for index, row in df.iterrows():\n",
    "        str1 = row[col_title]\n",
    "        if len(str1) > 2:\n",
    "            fixed_row.append(row[col_title][1:-1])\n",
    "        else:\n",
    "            fixed_row.append(np.nan)\n",
    "    df[col_title] = fixed_row"
   ]
  },
  {
   "cell_type": "code",
   "execution_count": 16,
   "id": "963d787c",
   "metadata": {
    "ExecuteTime": {
     "end_time": "2023-07-04T18:09:47.945660700Z",
     "start_time": "2023-07-04T18:09:46.918825Z"
    }
   },
   "outputs": [
    {
     "data": {
      "text/plain": "     sc_id   supercon_formula  cleaned_formula  \\\n0  [18852]              Ag1B2            Ag1B2   \n1  [20016]   Ag1Ba2Ca2Cu3O9-z   Ag1Ba2Ca2Cu3O9   \n2  [20017]  Ag1Ba2Ca3Cu4O11-z  Ag1Ba2Ca3Cu4O11   \n3  [20018]  Ag1Ba2Ca4Cu5O13-z  Ag1Ba2Ca4Cu5O13   \n4  [20019]  Ag1Ba2Ca5Cu6O15-z  Ag1Ba2Ca5Cu6O15   \n\n                                       material_dict highest_Tc  average_Tc  \\\n0                              {'Ag': 1.0, 'B': 2.0}        6.7         6.7   \n1  {'Ag': 1.0, 'Ba': 2.0, 'Ca': 2.0, 'Cu': 3.0, '...        110       110.0   \n2  {'Ag': 1.0, 'Ba': 2.0, 'Ca': 3.0, 'Cu': 4.0, '...        117       117.0   \n3  {'Ag': 1.0, 'Ba': 2.0, 'Ca': 4.0, 'Cu': 5.0, '...        105       105.0   \n4  {'Ag': 1.0, 'Ba': 2.0, 'Ca': 5.0, 'Cu': 6.0, '...         80        80.0   \n\n   std_Tc  entry_count matches_by_element matches_by_dict  ...  Dy  Er  Ho  \\\n0     0.0            1                 []              []  ... NaN NaN NaN   \n1     0.0            1                 []              []  ... NaN NaN NaN   \n2     0.0            1                 []              []  ... NaN NaN NaN   \n3     0.0            1                 []              []  ... NaN NaN NaN   \n4     0.0            1                 []              []  ... NaN NaN NaN   \n\n   Tm  Br  Nd  Hg  Cl  Tc  Mn  \n0 NaN NaN NaN NaN NaN NaN NaN  \n1 NaN NaN NaN NaN NaN NaN NaN  \n2 NaN NaN NaN NaN NaN NaN NaN  \n3 NaN NaN NaN NaN NaN NaN NaN  \n4 NaN NaN NaN NaN NaN NaN NaN  \n\n[5 rows x 89 columns]",
      "text/html": "<div>\n<style scoped>\n    .dataframe tbody tr th:only-of-type {\n        vertical-align: middle;\n    }\n\n    .dataframe tbody tr th {\n        vertical-align: top;\n    }\n\n    .dataframe thead th {\n        text-align: right;\n    }\n</style>\n<table border=\"1\" class=\"dataframe\">\n  <thead>\n    <tr style=\"text-align: right;\">\n      <th></th>\n      <th>sc_id</th>\n      <th>supercon_formula</th>\n      <th>cleaned_formula</th>\n      <th>material_dict</th>\n      <th>highest_Tc</th>\n      <th>average_Tc</th>\n      <th>std_Tc</th>\n      <th>entry_count</th>\n      <th>matches_by_element</th>\n      <th>matches_by_dict</th>\n      <th>...</th>\n      <th>Dy</th>\n      <th>Er</th>\n      <th>Ho</th>\n      <th>Tm</th>\n      <th>Br</th>\n      <th>Nd</th>\n      <th>Hg</th>\n      <th>Cl</th>\n      <th>Tc</th>\n      <th>Mn</th>\n    </tr>\n  </thead>\n  <tbody>\n    <tr>\n      <th>0</th>\n      <td>[18852]</td>\n      <td>Ag1B2</td>\n      <td>Ag1B2</td>\n      <td>{'Ag': 1.0, 'B': 2.0}</td>\n      <td>6.7</td>\n      <td>6.7</td>\n      <td>0.0</td>\n      <td>1</td>\n      <td>[]</td>\n      <td>[]</td>\n      <td>...</td>\n      <td>NaN</td>\n      <td>NaN</td>\n      <td>NaN</td>\n      <td>NaN</td>\n      <td>NaN</td>\n      <td>NaN</td>\n      <td>NaN</td>\n      <td>NaN</td>\n      <td>NaN</td>\n      <td>NaN</td>\n    </tr>\n    <tr>\n      <th>1</th>\n      <td>[20016]</td>\n      <td>Ag1Ba2Ca2Cu3O9-z</td>\n      <td>Ag1Ba2Ca2Cu3O9</td>\n      <td>{'Ag': 1.0, 'Ba': 2.0, 'Ca': 2.0, 'Cu': 3.0, '...</td>\n      <td>110</td>\n      <td>110.0</td>\n      <td>0.0</td>\n      <td>1</td>\n      <td>[]</td>\n      <td>[]</td>\n      <td>...</td>\n      <td>NaN</td>\n      <td>NaN</td>\n      <td>NaN</td>\n      <td>NaN</td>\n      <td>NaN</td>\n      <td>NaN</td>\n      <td>NaN</td>\n      <td>NaN</td>\n      <td>NaN</td>\n      <td>NaN</td>\n    </tr>\n    <tr>\n      <th>2</th>\n      <td>[20017]</td>\n      <td>Ag1Ba2Ca3Cu4O11-z</td>\n      <td>Ag1Ba2Ca3Cu4O11</td>\n      <td>{'Ag': 1.0, 'Ba': 2.0, 'Ca': 3.0, 'Cu': 4.0, '...</td>\n      <td>117</td>\n      <td>117.0</td>\n      <td>0.0</td>\n      <td>1</td>\n      <td>[]</td>\n      <td>[]</td>\n      <td>...</td>\n      <td>NaN</td>\n      <td>NaN</td>\n      <td>NaN</td>\n      <td>NaN</td>\n      <td>NaN</td>\n      <td>NaN</td>\n      <td>NaN</td>\n      <td>NaN</td>\n      <td>NaN</td>\n      <td>NaN</td>\n    </tr>\n    <tr>\n      <th>3</th>\n      <td>[20018]</td>\n      <td>Ag1Ba2Ca4Cu5O13-z</td>\n      <td>Ag1Ba2Ca4Cu5O13</td>\n      <td>{'Ag': 1.0, 'Ba': 2.0, 'Ca': 4.0, 'Cu': 5.0, '...</td>\n      <td>105</td>\n      <td>105.0</td>\n      <td>0.0</td>\n      <td>1</td>\n      <td>[]</td>\n      <td>[]</td>\n      <td>...</td>\n      <td>NaN</td>\n      <td>NaN</td>\n      <td>NaN</td>\n      <td>NaN</td>\n      <td>NaN</td>\n      <td>NaN</td>\n      <td>NaN</td>\n      <td>NaN</td>\n      <td>NaN</td>\n      <td>NaN</td>\n    </tr>\n    <tr>\n      <th>4</th>\n      <td>[20019]</td>\n      <td>Ag1Ba2Ca5Cu6O15-z</td>\n      <td>Ag1Ba2Ca5Cu6O15</td>\n      <td>{'Ag': 1.0, 'Ba': 2.0, 'Ca': 5.0, 'Cu': 6.0, '...</td>\n      <td>80</td>\n      <td>80.0</td>\n      <td>0.0</td>\n      <td>1</td>\n      <td>[]</td>\n      <td>[]</td>\n      <td>...</td>\n      <td>NaN</td>\n      <td>NaN</td>\n      <td>NaN</td>\n      <td>NaN</td>\n      <td>NaN</td>\n      <td>NaN</td>\n      <td>NaN</td>\n      <td>NaN</td>\n      <td>NaN</td>\n      <td>NaN</td>\n    </tr>\n  </tbody>\n</table>\n<p>5 rows × 89 columns</p>\n</div>"
     },
     "execution_count": 16,
     "metadata": {},
     "output_type": "execute_result"
    }
   ],
   "source": [
    "# Load mp-stable matches (2.1k)\n",
    "df0 = pd.read_excel(\"C:/Users/Droor/OneDrive - Harvard University/Desktop/Master Folder/College (2022-2026)/Hoffman summer/git-clone/superconductors-ml/datasets/only_stable_mp_matches.xlsx\")\n",
    "df0 = df0.drop('material_dict_queried', axis=1)\n",
    "df0['material_dict'] = df0['material_dict'].apply(literal_eval) #convert to list type\n",
    "fix_list_format(df0, 'unit_cell_volumes')\n",
    "df0_normalized = pd.json_normalize(df0['material_dict'])\n",
    "df0_exploded = pd.concat([df0, df0_normalized], axis=1)\n",
    "df0_exploded.head()"
   ]
  },
  {
   "cell_type": "code",
   "execution_count": 39,
   "outputs": [
    {
     "data": {
      "text/plain": "     sc_id   supercon_formula  cleaned_formula  \\\n0  [18852]              Ag1B2            Ag1B2   \n1  [20016]   Ag1Ba2Ca2Cu3O9-z   Ag1Ba2Ca2Cu3O9   \n2  [20017]  Ag1Ba2Ca3Cu4O11-z  Ag1Ba2Ca3Cu4O11   \n3  [20018]  Ag1Ba2Ca4Cu5O13-z  Ag1Ba2Ca4Cu5O13   \n4  [20019]  Ag1Ba2Ca5Cu6O15-z  Ag1Ba2Ca5Cu6O15   \n\n                                       material_dict  highest_Tc  average_Tc  \\\n0                              {'Ag': 1.0, 'B': 2.0}         6.7         6.7   \n1  {'Ag': 1.0, 'Ba': 2.0, 'Ca': 2.0, 'Cu': 3.0, '...       110.0       110.0   \n2  {'Ag': 1.0, 'Ba': 2.0, 'Ca': 3.0, 'Cu': 4.0, '...       117.0       117.0   \n3  {'Ag': 1.0, 'Ba': 2.0, 'Ca': 4.0, 'Cu': 5.0, '...       105.0       105.0   \n4  {'Ag': 1.0, 'Ba': 2.0, 'Ca': 5.0, 'Cu': 6.0, '...        80.0        80.0   \n\n   std_Tc  entry_count   Ag    B  ...  Dy  Er  Ho  Tm  Br  Nd  Hg  Cl  Tc  Mn  \n0     0.0            1  1.0  2.0  ... NaN NaN NaN NaN NaN NaN NaN NaN NaN NaN  \n1     0.0            1  1.0  NaN  ... NaN NaN NaN NaN NaN NaN NaN NaN NaN NaN  \n2     0.0            1  1.0  NaN  ... NaN NaN NaN NaN NaN NaN NaN NaN NaN NaN  \n3     0.0            1  1.0  NaN  ... NaN NaN NaN NaN NaN NaN NaN NaN NaN NaN  \n4     0.0            1  1.0  NaN  ... NaN NaN NaN NaN NaN NaN NaN NaN NaN NaN  \n\n[5 rows x 85 columns]",
      "text/html": "<div>\n<style scoped>\n    .dataframe tbody tr th:only-of-type {\n        vertical-align: middle;\n    }\n\n    .dataframe tbody tr th {\n        vertical-align: top;\n    }\n\n    .dataframe thead th {\n        text-align: right;\n    }\n</style>\n<table border=\"1\" class=\"dataframe\">\n  <thead>\n    <tr style=\"text-align: right;\">\n      <th></th>\n      <th>sc_id</th>\n      <th>supercon_formula</th>\n      <th>cleaned_formula</th>\n      <th>material_dict</th>\n      <th>highest_Tc</th>\n      <th>average_Tc</th>\n      <th>std_Tc</th>\n      <th>entry_count</th>\n      <th>Ag</th>\n      <th>B</th>\n      <th>...</th>\n      <th>Dy</th>\n      <th>Er</th>\n      <th>Ho</th>\n      <th>Tm</th>\n      <th>Br</th>\n      <th>Nd</th>\n      <th>Hg</th>\n      <th>Cl</th>\n      <th>Tc</th>\n      <th>Mn</th>\n    </tr>\n  </thead>\n  <tbody>\n    <tr>\n      <th>0</th>\n      <td>[18852]</td>\n      <td>Ag1B2</td>\n      <td>Ag1B2</td>\n      <td>{'Ag': 1.0, 'B': 2.0}</td>\n      <td>6.7</td>\n      <td>6.7</td>\n      <td>0.0</td>\n      <td>1</td>\n      <td>1.0</td>\n      <td>2.0</td>\n      <td>...</td>\n      <td>NaN</td>\n      <td>NaN</td>\n      <td>NaN</td>\n      <td>NaN</td>\n      <td>NaN</td>\n      <td>NaN</td>\n      <td>NaN</td>\n      <td>NaN</td>\n      <td>NaN</td>\n      <td>NaN</td>\n    </tr>\n    <tr>\n      <th>1</th>\n      <td>[20016]</td>\n      <td>Ag1Ba2Ca2Cu3O9-z</td>\n      <td>Ag1Ba2Ca2Cu3O9</td>\n      <td>{'Ag': 1.0, 'Ba': 2.0, 'Ca': 2.0, 'Cu': 3.0, '...</td>\n      <td>110.0</td>\n      <td>110.0</td>\n      <td>0.0</td>\n      <td>1</td>\n      <td>1.0</td>\n      <td>NaN</td>\n      <td>...</td>\n      <td>NaN</td>\n      <td>NaN</td>\n      <td>NaN</td>\n      <td>NaN</td>\n      <td>NaN</td>\n      <td>NaN</td>\n      <td>NaN</td>\n      <td>NaN</td>\n      <td>NaN</td>\n      <td>NaN</td>\n    </tr>\n    <tr>\n      <th>2</th>\n      <td>[20017]</td>\n      <td>Ag1Ba2Ca3Cu4O11-z</td>\n      <td>Ag1Ba2Ca3Cu4O11</td>\n      <td>{'Ag': 1.0, 'Ba': 2.0, 'Ca': 3.0, 'Cu': 4.0, '...</td>\n      <td>117.0</td>\n      <td>117.0</td>\n      <td>0.0</td>\n      <td>1</td>\n      <td>1.0</td>\n      <td>NaN</td>\n      <td>...</td>\n      <td>NaN</td>\n      <td>NaN</td>\n      <td>NaN</td>\n      <td>NaN</td>\n      <td>NaN</td>\n      <td>NaN</td>\n      <td>NaN</td>\n      <td>NaN</td>\n      <td>NaN</td>\n      <td>NaN</td>\n    </tr>\n    <tr>\n      <th>3</th>\n      <td>[20018]</td>\n      <td>Ag1Ba2Ca4Cu5O13-z</td>\n      <td>Ag1Ba2Ca4Cu5O13</td>\n      <td>{'Ag': 1.0, 'Ba': 2.0, 'Ca': 4.0, 'Cu': 5.0, '...</td>\n      <td>105.0</td>\n      <td>105.0</td>\n      <td>0.0</td>\n      <td>1</td>\n      <td>1.0</td>\n      <td>NaN</td>\n      <td>...</td>\n      <td>NaN</td>\n      <td>NaN</td>\n      <td>NaN</td>\n      <td>NaN</td>\n      <td>NaN</td>\n      <td>NaN</td>\n      <td>NaN</td>\n      <td>NaN</td>\n      <td>NaN</td>\n      <td>NaN</td>\n    </tr>\n    <tr>\n      <th>4</th>\n      <td>[20019]</td>\n      <td>Ag1Ba2Ca5Cu6O15-z</td>\n      <td>Ag1Ba2Ca5Cu6O15</td>\n      <td>{'Ag': 1.0, 'Ba': 2.0, 'Ca': 5.0, 'Cu': 6.0, '...</td>\n      <td>80.0</td>\n      <td>80.0</td>\n      <td>0.0</td>\n      <td>1</td>\n      <td>1.0</td>\n      <td>NaN</td>\n      <td>...</td>\n      <td>NaN</td>\n      <td>NaN</td>\n      <td>NaN</td>\n      <td>NaN</td>\n      <td>NaN</td>\n      <td>NaN</td>\n      <td>NaN</td>\n      <td>NaN</td>\n      <td>NaN</td>\n      <td>NaN</td>\n    </tr>\n  </tbody>\n</table>\n<p>5 rows × 85 columns</p>\n</div>"
     },
     "execution_count": 39,
     "metadata": {},
     "output_type": "execute_result"
    }
   ],
   "source": [
    "# Load all non-doped unique materials (14k)\n",
    "df2 = pd.read_json(\"C:/Users/Droor/OneDrive - Harvard University/Desktop/Master Folder/College (2022-2026)/Hoffman summer/git-clone/superconductors-ml/datasets/non_doped_materials.json\")\n",
    "df_normalized = pd.json_normalize(df2['material_dict'])\n",
    "df2_exploded = pd.concat([df2, df_normalized], axis=1)\n",
    "df2_exploded.head()"
   ],
   "metadata": {
    "collapsed": false,
    "ExecuteTime": {
     "end_time": "2023-07-04T21:32:46.098188Z",
     "start_time": "2023-07-04T21:32:46.017980300Z"
    }
   }
  },
  {
   "cell_type": "code",
   "execution_count": 34,
   "outputs": [
    {
     "data": {
      "text/plain": "(14577, 85)"
     },
     "execution_count": 34,
     "metadata": {},
     "output_type": "execute_result"
    }
   ],
   "source": [
    "# Load all non-doped unique materials (14k)\n",
    "df3 = pd.read_json(\"C:/Users/Droor/OneDrive - Harvard University/Desktop/Master Folder/College (2022-2026)/Hoffman summer/git-clone/superconductors-ml/data-prep/unique_materials_14k.json\")\n",
    "df_normalized = pd.json_normalize(df3['material_dict'])\n",
    "df3_exploded = pd.concat([df3, df_normalized], axis=1)\n",
    "df3_exploded.shape"
   ],
   "metadata": {
    "collapsed": false,
    "ExecuteTime": {
     "end_time": "2023-07-04T21:31:59.884769900Z",
     "start_time": "2023-07-04T21:31:59.471589600Z"
    }
   }
  },
  {
   "cell_type": "code",
   "execution_count": 35,
   "id": "d3182b88",
   "metadata": {
    "scrolled": true,
    "ExecuteTime": {
     "end_time": "2023-07-04T21:32:04.355611500Z",
     "start_time": "2023-07-04T21:32:04.294714900Z"
    }
   },
   "outputs": [
    {
     "data": {
      "text/plain": "  Element  AtomicMass  AtomicNumber  FirstIonizationEnergy  AtomicRadius  \\\n0       H    1.007940             1                 1311.3          53.0   \n1      He    4.002602             2                 2361.3          31.0   \n2      Li    6.941000             3                  519.9         167.0   \n3      Be    9.012182             4                  898.8         112.0   \n4       B   10.811000             5                  800.2          87.0   \n\n   BoilingPoint  BrinellHardness  CovalentRadius    Density  \\\n0       -252.87              NaN              31     0.0899   \n1       -268.93              NaN              28     0.1785   \n2       1342.00              NaN             128   535.0000   \n3       2470.00            600.0              96  1848.0000   \n4       4000.00              NaN              85  2460.0000   \n\n   ElectricalConductivity  ...   Resistivity  SoundSpeed  SpaceGroupNumber  \\\n0                     NaN  ...           NaN      1270.0             194.0   \n1                     NaN  ...           NaN       970.0             225.0   \n2            1.100000e+07  ...  9.400000e-08      6000.0             229.0   \n3            2.500000e+07  ...  4.000000e-08     13000.0             194.0   \n4            1.000000e-04  ...  1.000000e+04     16200.0             166.0   \n\n   SpecificHeat  ThermalConductivity  ThermalExpansion  Valence  \\\n0       14300.0               0.1805               NaN        1   \n1        5193.1               0.1513               NaN        0   \n2        3570.0              85.0000          0.000046        1   \n3        1820.0             190.0000          0.000011        2   \n4        1030.0              27.0000          0.000006        3   \n\n   VaporizationHeat  VolumeMagneticSusceptibility  SuperconductingPoint  \n0             0.452                 -2.230000e-09                   NaN  \n1             0.083                 -1.050000e-09                   NaN  \n2           147.000                  1.370000e-05                   NaN  \n3           297.000                 -2.328000e-05                 0.026  \n4           507.000                 -2.140000e-05                   NaN  \n\n[5 rows x 31 columns]",
      "text/html": "<div>\n<style scoped>\n    .dataframe tbody tr th:only-of-type {\n        vertical-align: middle;\n    }\n\n    .dataframe tbody tr th {\n        vertical-align: top;\n    }\n\n    .dataframe thead th {\n        text-align: right;\n    }\n</style>\n<table border=\"1\" class=\"dataframe\">\n  <thead>\n    <tr style=\"text-align: right;\">\n      <th></th>\n      <th>Element</th>\n      <th>AtomicMass</th>\n      <th>AtomicNumber</th>\n      <th>FirstIonizationEnergy</th>\n      <th>AtomicRadius</th>\n      <th>BoilingPoint</th>\n      <th>BrinellHardness</th>\n      <th>CovalentRadius</th>\n      <th>Density</th>\n      <th>ElectricalConductivity</th>\n      <th>...</th>\n      <th>Resistivity</th>\n      <th>SoundSpeed</th>\n      <th>SpaceGroupNumber</th>\n      <th>SpecificHeat</th>\n      <th>ThermalConductivity</th>\n      <th>ThermalExpansion</th>\n      <th>Valence</th>\n      <th>VaporizationHeat</th>\n      <th>VolumeMagneticSusceptibility</th>\n      <th>SuperconductingPoint</th>\n    </tr>\n  </thead>\n  <tbody>\n    <tr>\n      <th>0</th>\n      <td>H</td>\n      <td>1.007940</td>\n      <td>1</td>\n      <td>1311.3</td>\n      <td>53.0</td>\n      <td>-252.87</td>\n      <td>NaN</td>\n      <td>31</td>\n      <td>0.0899</td>\n      <td>NaN</td>\n      <td>...</td>\n      <td>NaN</td>\n      <td>1270.0</td>\n      <td>194.0</td>\n      <td>14300.0</td>\n      <td>0.1805</td>\n      <td>NaN</td>\n      <td>1</td>\n      <td>0.452</td>\n      <td>-2.230000e-09</td>\n      <td>NaN</td>\n    </tr>\n    <tr>\n      <th>1</th>\n      <td>He</td>\n      <td>4.002602</td>\n      <td>2</td>\n      <td>2361.3</td>\n      <td>31.0</td>\n      <td>-268.93</td>\n      <td>NaN</td>\n      <td>28</td>\n      <td>0.1785</td>\n      <td>NaN</td>\n      <td>...</td>\n      <td>NaN</td>\n      <td>970.0</td>\n      <td>225.0</td>\n      <td>5193.1</td>\n      <td>0.1513</td>\n      <td>NaN</td>\n      <td>0</td>\n      <td>0.083</td>\n      <td>-1.050000e-09</td>\n      <td>NaN</td>\n    </tr>\n    <tr>\n      <th>2</th>\n      <td>Li</td>\n      <td>6.941000</td>\n      <td>3</td>\n      <td>519.9</td>\n      <td>167.0</td>\n      <td>1342.00</td>\n      <td>NaN</td>\n      <td>128</td>\n      <td>535.0000</td>\n      <td>1.100000e+07</td>\n      <td>...</td>\n      <td>9.400000e-08</td>\n      <td>6000.0</td>\n      <td>229.0</td>\n      <td>3570.0</td>\n      <td>85.0000</td>\n      <td>0.000046</td>\n      <td>1</td>\n      <td>147.000</td>\n      <td>1.370000e-05</td>\n      <td>NaN</td>\n    </tr>\n    <tr>\n      <th>3</th>\n      <td>Be</td>\n      <td>9.012182</td>\n      <td>4</td>\n      <td>898.8</td>\n      <td>112.0</td>\n      <td>2470.00</td>\n      <td>600.0</td>\n      <td>96</td>\n      <td>1848.0000</td>\n      <td>2.500000e+07</td>\n      <td>...</td>\n      <td>4.000000e-08</td>\n      <td>13000.0</td>\n      <td>194.0</td>\n      <td>1820.0</td>\n      <td>190.0000</td>\n      <td>0.000011</td>\n      <td>2</td>\n      <td>297.000</td>\n      <td>-2.328000e-05</td>\n      <td>0.026</td>\n    </tr>\n    <tr>\n      <th>4</th>\n      <td>B</td>\n      <td>10.811000</td>\n      <td>5</td>\n      <td>800.2</td>\n      <td>87.0</td>\n      <td>4000.00</td>\n      <td>NaN</td>\n      <td>85</td>\n      <td>2460.0000</td>\n      <td>1.000000e-04</td>\n      <td>...</td>\n      <td>1.000000e+04</td>\n      <td>16200.0</td>\n      <td>166.0</td>\n      <td>1030.0</td>\n      <td>27.0000</td>\n      <td>0.000006</td>\n      <td>3</td>\n      <td>507.000</td>\n      <td>-2.140000e-05</td>\n      <td>NaN</td>\n    </tr>\n  </tbody>\n</table>\n<p>5 rows × 31 columns</p>\n</div>"
     },
     "execution_count": 35,
     "metadata": {},
     "output_type": "execute_result"
    }
   ],
   "source": [
    "# Load element-data\n",
    "element_data = pd.read_csv(\"C:/Users/Droor/OneDrive - Harvard University/Desktop/Master Folder/College (2022-2026)/Hoffman summer/git-clone/superconductors-ml/datasets/element_data.csv\")\n",
    "element_data = element_data.drop(\"Unnamed: 0\", axis=1)\n",
    "numeric_columns = element_data.select_dtypes(include=np.number).columns\n",
    "element_data = element_data[[element_data.columns[0]] + list(numeric_columns)]\n",
    "element_data.head()"
   ]
  },
  {
   "cell_type": "markdown",
   "id": "d298f0c0",
   "metadata": {
    "id": "9vOm3Kl2rV49"
   },
   "source": [
    "#### **Hamidieh-style model using element data**"
   ]
  },
  {
   "cell_type": "code",
   "execution_count": 37,
   "outputs": [
    {
     "data": {
      "text/plain": "     sc_id    supercon_formula     cleaned_formula  \\\n0  [12787]      Ag0.002Al0.998      Ag0.002Al0.998   \n1  [12816]      Ag0.005Zn0.995      Ag0.005Zn0.995   \n2  [25145]    Bi3.99Ag0.01S3O4    Bi3.99Ag0.01S3O4   \n3  [23179]  Sr1Pd1.98Ag0.02Ge2  Sr1Pd1.98Ag0.02Ge2   \n4  [25146]    Bi3.97Ag0.03S3O4    Bi3.97Ag0.03S3O4   \n\n                                       material_dict  highest_Tc  average_Tc  \\\n0                         {'Ag': 0.002, 'Al': 0.998}       1.128       1.128   \n1                         {'Ag': 0.005, 'Zn': 0.995}       0.763       0.763   \n2       {'Ag': 0.01, 'Bi': 3.99, 'O': 4.0, 'S': 3.0}       4.310       4.310   \n3     {'Ag': 0.02, 'Ge': 2.0, 'Pd': 1.98, 'Sr': 1.0}       2.640       2.640   \n4  {'Ag': 0.03, 'Bi': 3.9699999999999998, 'O': 4....       4.200       4.200   \n\n   std_Tc  entry_count     Ag     Al  ...  Sm  Dy  Ir   K  Rb  Cs  Tm  Br  Cl  \\\n0     0.0            1  0.002  0.998  ... NaN NaN NaN NaN NaN NaN NaN NaN NaN   \n1     0.0            1  0.005    NaN  ... NaN NaN NaN NaN NaN NaN NaN NaN NaN   \n2     0.0            1  0.010    NaN  ... NaN NaN NaN NaN NaN NaN NaN NaN NaN   \n3     0.0            1  0.020    NaN  ... NaN NaN NaN NaN NaN NaN NaN NaN NaN   \n4     0.0            1  0.030    NaN  ... NaN NaN NaN NaN NaN NaN NaN NaN NaN   \n\n   Tc  \n0 NaN  \n1 NaN  \n2 NaN  \n3 NaN  \n4 NaN  \n\n[5 rows x 85 columns]",
      "text/html": "<div>\n<style scoped>\n    .dataframe tbody tr th:only-of-type {\n        vertical-align: middle;\n    }\n\n    .dataframe tbody tr th {\n        vertical-align: top;\n    }\n\n    .dataframe thead th {\n        text-align: right;\n    }\n</style>\n<table border=\"1\" class=\"dataframe\">\n  <thead>\n    <tr style=\"text-align: right;\">\n      <th></th>\n      <th>sc_id</th>\n      <th>supercon_formula</th>\n      <th>cleaned_formula</th>\n      <th>material_dict</th>\n      <th>highest_Tc</th>\n      <th>average_Tc</th>\n      <th>std_Tc</th>\n      <th>entry_count</th>\n      <th>Ag</th>\n      <th>Al</th>\n      <th>...</th>\n      <th>Sm</th>\n      <th>Dy</th>\n      <th>Ir</th>\n      <th>K</th>\n      <th>Rb</th>\n      <th>Cs</th>\n      <th>Tm</th>\n      <th>Br</th>\n      <th>Cl</th>\n      <th>Tc</th>\n    </tr>\n  </thead>\n  <tbody>\n    <tr>\n      <th>0</th>\n      <td>[12787]</td>\n      <td>Ag0.002Al0.998</td>\n      <td>Ag0.002Al0.998</td>\n      <td>{'Ag': 0.002, 'Al': 0.998}</td>\n      <td>1.128</td>\n      <td>1.128</td>\n      <td>0.0</td>\n      <td>1</td>\n      <td>0.002</td>\n      <td>0.998</td>\n      <td>...</td>\n      <td>NaN</td>\n      <td>NaN</td>\n      <td>NaN</td>\n      <td>NaN</td>\n      <td>NaN</td>\n      <td>NaN</td>\n      <td>NaN</td>\n      <td>NaN</td>\n      <td>NaN</td>\n      <td>NaN</td>\n    </tr>\n    <tr>\n      <th>1</th>\n      <td>[12816]</td>\n      <td>Ag0.005Zn0.995</td>\n      <td>Ag0.005Zn0.995</td>\n      <td>{'Ag': 0.005, 'Zn': 0.995}</td>\n      <td>0.763</td>\n      <td>0.763</td>\n      <td>0.0</td>\n      <td>1</td>\n      <td>0.005</td>\n      <td>NaN</td>\n      <td>...</td>\n      <td>NaN</td>\n      <td>NaN</td>\n      <td>NaN</td>\n      <td>NaN</td>\n      <td>NaN</td>\n      <td>NaN</td>\n      <td>NaN</td>\n      <td>NaN</td>\n      <td>NaN</td>\n      <td>NaN</td>\n    </tr>\n    <tr>\n      <th>2</th>\n      <td>[25145]</td>\n      <td>Bi3.99Ag0.01S3O4</td>\n      <td>Bi3.99Ag0.01S3O4</td>\n      <td>{'Ag': 0.01, 'Bi': 3.99, 'O': 4.0, 'S': 3.0}</td>\n      <td>4.310</td>\n      <td>4.310</td>\n      <td>0.0</td>\n      <td>1</td>\n      <td>0.010</td>\n      <td>NaN</td>\n      <td>...</td>\n      <td>NaN</td>\n      <td>NaN</td>\n      <td>NaN</td>\n      <td>NaN</td>\n      <td>NaN</td>\n      <td>NaN</td>\n      <td>NaN</td>\n      <td>NaN</td>\n      <td>NaN</td>\n      <td>NaN</td>\n    </tr>\n    <tr>\n      <th>3</th>\n      <td>[23179]</td>\n      <td>Sr1Pd1.98Ag0.02Ge2</td>\n      <td>Sr1Pd1.98Ag0.02Ge2</td>\n      <td>{'Ag': 0.02, 'Ge': 2.0, 'Pd': 1.98, 'Sr': 1.0}</td>\n      <td>2.640</td>\n      <td>2.640</td>\n      <td>0.0</td>\n      <td>1</td>\n      <td>0.020</td>\n      <td>NaN</td>\n      <td>...</td>\n      <td>NaN</td>\n      <td>NaN</td>\n      <td>NaN</td>\n      <td>NaN</td>\n      <td>NaN</td>\n      <td>NaN</td>\n      <td>NaN</td>\n      <td>NaN</td>\n      <td>NaN</td>\n      <td>NaN</td>\n    </tr>\n    <tr>\n      <th>4</th>\n      <td>[25146]</td>\n      <td>Bi3.97Ag0.03S3O4</td>\n      <td>Bi3.97Ag0.03S3O4</td>\n      <td>{'Ag': 0.03, 'Bi': 3.9699999999999998, 'O': 4....</td>\n      <td>4.200</td>\n      <td>4.200</td>\n      <td>0.0</td>\n      <td>1</td>\n      <td>0.030</td>\n      <td>NaN</td>\n      <td>...</td>\n      <td>NaN</td>\n      <td>NaN</td>\n      <td>NaN</td>\n      <td>NaN</td>\n      <td>NaN</td>\n      <td>NaN</td>\n      <td>NaN</td>\n      <td>NaN</td>\n      <td>NaN</td>\n      <td>NaN</td>\n    </tr>\n  </tbody>\n</table>\n<p>5 rows × 85 columns</p>\n</div>"
     },
     "execution_count": 37,
     "metadata": {},
     "output_type": "execute_result"
    }
   ],
   "source": [
    "# Choose the dataframe to use:\n",
    "df_used = df3_exploded\n",
    "df_used.head()"
   ],
   "metadata": {
    "collapsed": false,
    "ExecuteTime": {
     "end_time": "2023-07-04T21:32:24.101428500Z",
     "start_time": "2023-07-04T21:32:24.053655500Z"
    }
   }
  },
  {
   "cell_type": "code",
   "execution_count": 40,
   "id": "cf5fd25c",
   "metadata": {
    "id": "b643t8kxvCfq",
    "ExecuteTime": {
     "end_time": "2023-07-04T22:04:55.331733100Z",
     "start_time": "2023-07-04T21:33:06.793487500Z"
    }
   },
   "outputs": [
    {
     "name": "stderr",
     "output_type": "stream",
     "text": [
      "C:\\Users\\Droor\\AppData\\Local\\Temp\\ipykernel_6404\\1558332072.py:30: FutureWarning: iteritems is deprecated and will be removed in a future version. Use .items instead.\n",
      "  for index1, value1 in elem_row[mask].iteritems():\n",
      "C:\\Users\\Droor\\anaconda3\\lib\\site-packages\\scipy\\stats\\_stats_py.py:267: RuntimeWarning: invalid value encountered in log\n",
      "  log_a = np.log(a)\n",
      "C:\\Users\\Droor\\AppData\\Local\\Temp\\ipykernel_6404\\1558332072.py:59: RuntimeWarning: invalid value encountered in power\n",
      "  data[material_index][property_index][3] = np.prod(np.power(t_list, p_list))\n",
      "C:\\Users\\Droor\\AppData\\Local\\Temp\\ipykernel_6404\\1558332072.py:60: RuntimeWarning: invalid value encountered in log\n",
      "  data[material_index][property_index][4] = -np.sum(w_list * np.log(w_list))\n",
      "C:\\Users\\Droor\\AppData\\Local\\Temp\\ipykernel_6404\\1558332072.py:60: RuntimeWarning: divide by zero encountered in log\n",
      "  data[material_index][property_index][4] = -np.sum(w_list * np.log(w_list))\n",
      "C:\\Users\\Droor\\AppData\\Local\\Temp\\ipykernel_6404\\1558332072.py:60: RuntimeWarning: invalid value encountered in multiply\n",
      "  data[material_index][property_index][4] = -np.sum(w_list * np.log(w_list))\n",
      "C:\\Users\\Droor\\AppData\\Local\\Temp\\ipykernel_6404\\1558332072.py:53: RuntimeWarning: invalid value encountered in divide\n",
      "  w_list = t_list / np.sum(t_list) # Could be wrong\n"
     ]
    }
   ],
   "source": [
    "# # 30m runtime !!!\n",
    "# from numpy.ma.core import mean\n",
    "# from scipy.stats import gmean\n",
    "# from statsmodels.stats.weightstats import DescrStatsW\n",
    "#\n",
    "# # We are going to create a 3D space (np array) with coordinates (feature, property, material_name)\n",
    "#\n",
    "# data = np.empty((len(df_used),30,9), dtype=object)\n",
    "# data.fill(None)\n",
    "#\n",
    "# # Iterate over every *material*\n",
    "# for material_index, row in df_used.iterrows():\n",
    "#\n",
    "#   # Get the formula/name of the material early\n",
    "#   material_formula = row[0]\n",
    "#\n",
    "#   # NEXT TWO LINES CONTAIN MAGIC NUMBERS\n",
    "#   # Get the total number of atoms in a material.\n",
    "#   n_atoms = np.nansum(row[8:85])\n",
    "#\n",
    "#   # get a series object of all the elements and how there are in the mat.\n",
    "#   elem_row = row[8:85]\n",
    "#\n",
    "#   # Create a Boolean mask for non-null entries\n",
    "#   mask = elem_row.notna()\n",
    "#\n",
    "#   # Get intermediate variables to calculate features ---\n",
    "#   atom_name_list = []\n",
    "#   p_list = []\n",
    "#\n",
    "#   for index1, value1 in elem_row[mask].iteritems():\n",
    "#     atom_name_list.append(index1)\n",
    "#     p_list.append( value1 / n_atoms)\n",
    "#\n",
    "#   # Iterate over every *property*\n",
    "#   for property_index, property_name in enumerate(element_data.columns[1:31]):\n",
    "#\n",
    "#     t_list = []\n",
    "#\n",
    "#     # Go through the atoms\n",
    "#     for index2, value2 in elem_row[mask].items():\n",
    "#\n",
    "#       # Find the row where 'Element' matches the value of index2\n",
    "#       element_row = element_data[element_data['Element'] == index2]\n",
    "#\n",
    "#       # Extract the value from the specified column (property_name)\n",
    "#       property_value = element_row[property_name].values[0]\n",
    "#\n",
    "#       # Append the property value to t_list\n",
    "#       t_list.append(property_value)\n",
    "#\n",
    "#     p_list = np.array(p_list)\n",
    "#     t_list = np.array(t_list)\n",
    "#     w_list = t_list / np.sum(t_list) # Could be wrong\n",
    "#\n",
    "#     # Add into our *3D-magic-thing* this coordinate.\n",
    "#     data[material_index][property_index][0] = np.mean(t_list)\n",
    "#     data[material_index][property_index][1] = np.dot(t_list, p_list)\n",
    "#     data[material_index][property_index][2] = gmean(t_list)\n",
    "#     data[material_index][property_index][3] = np.prod(np.power(t_list, p_list))\n",
    "#     data[material_index][property_index][4] = -np.sum(w_list * np.log(w_list))\n",
    "#     data[material_index][property_index][5] = np.ptp(t_list)\n",
    "#     data[material_index][property_index][6] = np.ptp(np.multiply(t_list, p_list))\n",
    "#     data[material_index][property_index][7] = np.std(t_list)\n",
    "#     data[material_index][property_index][8] = DescrStatsW(t_list, weights=p_list).std"
   ]
  },
  {
   "cell_type": "code",
   "execution_count": 46,
   "outputs": [],
   "source": [
    "# # STEPS to go from 3d and collapse down to 2d to get all features of a property (10*30 = 300 features total)\n",
    "\n",
    "# # Step 1: Create column names for the features\n",
    "# column_names = ['mean', 'weighted_mean', 'geom_mean', 'weighted_geom_mean',\n",
    "#                 'entropy', 'range', 'weighted_range', 'std', 'weighted_std']\n",
    "#\n",
    "# # Step 2: Create an empty dictionary\n",
    "# new_columns = {}\n",
    "#\n",
    "# # Step 3: Iterate over each material\n",
    "# for material_index, row in df_used.iterrows():\n",
    "#\n",
    "#   # Step 4: Iterate over each property\n",
    "#   for property_index, property_name in enumerate(element_data.columns[1:31]):\n",
    "#\n",
    "#     # Step 5: Iterate over each feature index\n",
    "#     for feature_index in range(9):\n",
    "#\n",
    "#       # Step 6: Retrieve the feature value\n",
    "#       feature_value = data[material_index][property_index][feature_index]\n",
    "#\n",
    "#       # Step 7: Assign the feature value to the dictionary with unique column name\n",
    "#       column_name = f'{property_name}_{column_names[feature_index]}'\n",
    "#       new_columns.setdefault(column_name, []).append(feature_value)\n",
    "#\n",
    "# # Step 8: Create a DataFrame from the dictionary\n",
    "# new_columns_df = pd.DataFrame(new_columns)\n",
    "#\n",
    "# # Step 9: Merge the new DataFrame with df_used\n",
    "# updated_df = pd.merge(df_used, new_columns_df, left_index=True, right_index=True)"
   ],
   "metadata": {
    "collapsed": false,
    "ExecuteTime": {
     "end_time": "2023-07-04T22:12:04.657604300Z",
     "start_time": "2023-07-04T22:11:56.802895400Z"
    }
   }
  },
  {
   "cell_type": "code",
   "execution_count": 48,
   "outputs": [],
   "source": [
    "# # Uncomment based on what you want to do.\n",
    "\n",
    "updated_df = pd.read.json(\"C:/Users/Droor/OneDrive - Harvard University/Desktop/Master Folder/College (2022-2026)/Hoffman summer/git-clone/superconductors-ml/machine-learning/df_unique_materials_wfeatures.json\")\n",
    "\n",
    "# updated_df.to_json('df_nondoped_materials_wfeatures.json')\n",
    "# updated_df.to_excel('df_nondoped_materials_wfeatures.xlsx')"
   ],
   "metadata": {
    "collapsed": false,
    "ExecuteTime": {
     "end_time": "2023-07-04T22:17:39.924898900Z",
     "start_time": "2023-07-04T22:15:41.853447800Z"
    }
   }
  },
  {
   "cell_type": "code",
   "execution_count": null,
   "outputs": [],
   "source": [
    "# XGBoost model without optimizing:\n",
    "I want to try and train a deep learning neural network using keras to predict the Tc of a list of superconductors. This is previous code I had using a classical regressor to achieve the same goal. Can you code some rudimentary neural network to do the task?\n",
    "\n",
    "# I want to tune the XGBoost hyperparameters of the following model, and keep the best settings:\n",
    "\n",
    "import xgboost as xgb\n",
    "import matplotlib.pyplot as plt\n",
    "from sklearn.model_selection import train_test_split\n",
    "from sklearn.metrics import mean_squared_error, r2_score\n",
    "\n",
    "# Step 1: Select the features and target variable\n",
    "X = updated_df.iloc[:,8:].values\n",
    "y = updated_df['average_Tc'].values\n",
    "\n",
    "# Get the column names of the selected features\n",
    "feature_columns = updated_df.columns[8:]\n",
    "\n",
    "# Step 2: Split the data into training and testing sets\n",
    "X_train, X_test, y_train, y_test = train_test_split(X, y, test_size=0.25, random_state=33)\n",
    "\n",
    "# Step 3: Create an XGBoost regression model\n",
    "model = xgb.XGBRegressor()\n",
    "\n",
    "# Step 4: Fit the model on the training data\n",
    "model.fit(X_train, y_train)\n",
    "\n",
    "# Step 5: Make predictions on the testing data\n",
    "y_pred = model.predict(X_test)\n",
    "\n",
    "# Step 6: Evaluate the model\n",
    "mse = mean_squared_error(y_test, y_pred)\n",
    "r2 = r2_score(y_test, y_pred)\n",
    "\n",
    "print('ROOT Mean Squared Error:', np.sqrt(mse))\n",
    "print('R-squared Score:', r2)"
   ],
   "metadata": {
    "collapsed": false
   }
  },
  {
   "cell_type": "code",
   "execution_count": 166,
   "outputs": [
    {
     "ename": "KeyboardInterrupt",
     "evalue": "",
     "output_type": "error",
     "traceback": [
      "\u001B[1;31m---------------------------------------------------------------------------\u001B[0m",
      "\u001B[1;31mKeyboardInterrupt\u001B[0m                         Traceback (most recent call last)",
      "Cell \u001B[1;32mIn[166], line 28\u001B[0m\n\u001B[0;32m     26\u001B[0m \u001B[38;5;66;03m# Step 5: Perform grid search to find the best hyperparameters\u001B[39;00m\n\u001B[0;32m     27\u001B[0m grid_search \u001B[38;5;241m=\u001B[39m GridSearchCV(model, param_grid, scoring\u001B[38;5;241m=\u001B[39m\u001B[38;5;124m'\u001B[39m\u001B[38;5;124mneg_mean_squared_error\u001B[39m\u001B[38;5;124m'\u001B[39m, cv\u001B[38;5;241m=\u001B[39m\u001B[38;5;241m5\u001B[39m)\n\u001B[1;32m---> 28\u001B[0m \u001B[43mgrid_search\u001B[49m\u001B[38;5;241;43m.\u001B[39;49m\u001B[43mfit\u001B[49m\u001B[43m(\u001B[49m\u001B[43mX_train\u001B[49m\u001B[43m,\u001B[49m\u001B[43m \u001B[49m\u001B[43my_train\u001B[49m\u001B[43m)\u001B[49m\n\u001B[0;32m     30\u001B[0m \u001B[38;5;66;03m# Get the best model with the optimized hyperparameters\u001B[39;00m\n\u001B[0;32m     31\u001B[0m best_model \u001B[38;5;241m=\u001B[39m grid_search\u001B[38;5;241m.\u001B[39mbest_estimator_\n",
      "File \u001B[1;32m~\\anaconda3\\lib\\site-packages\\sklearn\\model_selection\\_search.py:874\u001B[0m, in \u001B[0;36mBaseSearchCV.fit\u001B[1;34m(self, X, y, groups, **fit_params)\u001B[0m\n\u001B[0;32m    868\u001B[0m     results \u001B[38;5;241m=\u001B[39m \u001B[38;5;28mself\u001B[39m\u001B[38;5;241m.\u001B[39m_format_results(\n\u001B[0;32m    869\u001B[0m         all_candidate_params, n_splits, all_out, all_more_results\n\u001B[0;32m    870\u001B[0m     )\n\u001B[0;32m    872\u001B[0m     \u001B[38;5;28;01mreturn\u001B[39;00m results\n\u001B[1;32m--> 874\u001B[0m \u001B[38;5;28;43mself\u001B[39;49m\u001B[38;5;241;43m.\u001B[39;49m\u001B[43m_run_search\u001B[49m\u001B[43m(\u001B[49m\u001B[43mevaluate_candidates\u001B[49m\u001B[43m)\u001B[49m\n\u001B[0;32m    876\u001B[0m \u001B[38;5;66;03m# multimetric is determined here because in the case of a callable\u001B[39;00m\n\u001B[0;32m    877\u001B[0m \u001B[38;5;66;03m# self.scoring the return type is only known after calling\u001B[39;00m\n\u001B[0;32m    878\u001B[0m first_test_score \u001B[38;5;241m=\u001B[39m all_out[\u001B[38;5;241m0\u001B[39m][\u001B[38;5;124m\"\u001B[39m\u001B[38;5;124mtest_scores\u001B[39m\u001B[38;5;124m\"\u001B[39m]\n",
      "File \u001B[1;32m~\\anaconda3\\lib\\site-packages\\sklearn\\model_selection\\_search.py:1388\u001B[0m, in \u001B[0;36mGridSearchCV._run_search\u001B[1;34m(self, evaluate_candidates)\u001B[0m\n\u001B[0;32m   1386\u001B[0m \u001B[38;5;28;01mdef\u001B[39;00m \u001B[38;5;21m_run_search\u001B[39m(\u001B[38;5;28mself\u001B[39m, evaluate_candidates):\n\u001B[0;32m   1387\u001B[0m     \u001B[38;5;124;03m\"\"\"Search all candidates in param_grid\"\"\"\u001B[39;00m\n\u001B[1;32m-> 1388\u001B[0m     \u001B[43mevaluate_candidates\u001B[49m\u001B[43m(\u001B[49m\u001B[43mParameterGrid\u001B[49m\u001B[43m(\u001B[49m\u001B[38;5;28;43mself\u001B[39;49m\u001B[38;5;241;43m.\u001B[39;49m\u001B[43mparam_grid\u001B[49m\u001B[43m)\u001B[49m\u001B[43m)\u001B[49m\n",
      "File \u001B[1;32m~\\anaconda3\\lib\\site-packages\\sklearn\\model_selection\\_search.py:821\u001B[0m, in \u001B[0;36mBaseSearchCV.fit.<locals>.evaluate_candidates\u001B[1;34m(candidate_params, cv, more_results)\u001B[0m\n\u001B[0;32m    813\u001B[0m \u001B[38;5;28;01mif\u001B[39;00m \u001B[38;5;28mself\u001B[39m\u001B[38;5;241m.\u001B[39mverbose \u001B[38;5;241m>\u001B[39m \u001B[38;5;241m0\u001B[39m:\n\u001B[0;32m    814\u001B[0m     \u001B[38;5;28mprint\u001B[39m(\n\u001B[0;32m    815\u001B[0m         \u001B[38;5;124m\"\u001B[39m\u001B[38;5;124mFitting \u001B[39m\u001B[38;5;132;01m{0}\u001B[39;00m\u001B[38;5;124m folds for each of \u001B[39m\u001B[38;5;132;01m{1}\u001B[39;00m\u001B[38;5;124m candidates,\u001B[39m\u001B[38;5;124m\"\u001B[39m\n\u001B[0;32m    816\u001B[0m         \u001B[38;5;124m\"\u001B[39m\u001B[38;5;124m totalling \u001B[39m\u001B[38;5;132;01m{2}\u001B[39;00m\u001B[38;5;124m fits\u001B[39m\u001B[38;5;124m\"\u001B[39m\u001B[38;5;241m.\u001B[39mformat(\n\u001B[0;32m    817\u001B[0m             n_splits, n_candidates, n_candidates \u001B[38;5;241m*\u001B[39m n_splits\n\u001B[0;32m    818\u001B[0m         )\n\u001B[0;32m    819\u001B[0m     )\n\u001B[1;32m--> 821\u001B[0m out \u001B[38;5;241m=\u001B[39m \u001B[43mparallel\u001B[49m\u001B[43m(\u001B[49m\n\u001B[0;32m    822\u001B[0m \u001B[43m    \u001B[49m\u001B[43mdelayed\u001B[49m\u001B[43m(\u001B[49m\u001B[43m_fit_and_score\u001B[49m\u001B[43m)\u001B[49m\u001B[43m(\u001B[49m\n\u001B[0;32m    823\u001B[0m \u001B[43m        \u001B[49m\u001B[43mclone\u001B[49m\u001B[43m(\u001B[49m\u001B[43mbase_estimator\u001B[49m\u001B[43m)\u001B[49m\u001B[43m,\u001B[49m\n\u001B[0;32m    824\u001B[0m \u001B[43m        \u001B[49m\u001B[43mX\u001B[49m\u001B[43m,\u001B[49m\n\u001B[0;32m    825\u001B[0m \u001B[43m        \u001B[49m\u001B[43my\u001B[49m\u001B[43m,\u001B[49m\n\u001B[0;32m    826\u001B[0m \u001B[43m        \u001B[49m\u001B[43mtrain\u001B[49m\u001B[38;5;241;43m=\u001B[39;49m\u001B[43mtrain\u001B[49m\u001B[43m,\u001B[49m\n\u001B[0;32m    827\u001B[0m \u001B[43m        \u001B[49m\u001B[43mtest\u001B[49m\u001B[38;5;241;43m=\u001B[39;49m\u001B[43mtest\u001B[49m\u001B[43m,\u001B[49m\n\u001B[0;32m    828\u001B[0m \u001B[43m        \u001B[49m\u001B[43mparameters\u001B[49m\u001B[38;5;241;43m=\u001B[39;49m\u001B[43mparameters\u001B[49m\u001B[43m,\u001B[49m\n\u001B[0;32m    829\u001B[0m \u001B[43m        \u001B[49m\u001B[43msplit_progress\u001B[49m\u001B[38;5;241;43m=\u001B[39;49m\u001B[43m(\u001B[49m\u001B[43msplit_idx\u001B[49m\u001B[43m,\u001B[49m\u001B[43m \u001B[49m\u001B[43mn_splits\u001B[49m\u001B[43m)\u001B[49m\u001B[43m,\u001B[49m\n\u001B[0;32m    830\u001B[0m \u001B[43m        \u001B[49m\u001B[43mcandidate_progress\u001B[49m\u001B[38;5;241;43m=\u001B[39;49m\u001B[43m(\u001B[49m\u001B[43mcand_idx\u001B[49m\u001B[43m,\u001B[49m\u001B[43m \u001B[49m\u001B[43mn_candidates\u001B[49m\u001B[43m)\u001B[49m\u001B[43m,\u001B[49m\n\u001B[0;32m    831\u001B[0m \u001B[43m        \u001B[49m\u001B[38;5;241;43m*\u001B[39;49m\u001B[38;5;241;43m*\u001B[39;49m\u001B[43mfit_and_score_kwargs\u001B[49m\u001B[43m,\u001B[49m\n\u001B[0;32m    832\u001B[0m \u001B[43m    \u001B[49m\u001B[43m)\u001B[49m\n\u001B[0;32m    833\u001B[0m \u001B[43m    \u001B[49m\u001B[38;5;28;43;01mfor\u001B[39;49;00m\u001B[43m \u001B[49m\u001B[43m(\u001B[49m\u001B[43mcand_idx\u001B[49m\u001B[43m,\u001B[49m\u001B[43m \u001B[49m\u001B[43mparameters\u001B[49m\u001B[43m)\u001B[49m\u001B[43m,\u001B[49m\u001B[43m \u001B[49m\u001B[43m(\u001B[49m\u001B[43msplit_idx\u001B[49m\u001B[43m,\u001B[49m\u001B[43m \u001B[49m\u001B[43m(\u001B[49m\u001B[43mtrain\u001B[49m\u001B[43m,\u001B[49m\u001B[43m \u001B[49m\u001B[43mtest\u001B[49m\u001B[43m)\u001B[49m\u001B[43m)\u001B[49m\u001B[43m \u001B[49m\u001B[38;5;129;43;01min\u001B[39;49;00m\u001B[43m \u001B[49m\u001B[43mproduct\u001B[49m\u001B[43m(\u001B[49m\n\u001B[0;32m    834\u001B[0m \u001B[43m        \u001B[49m\u001B[38;5;28;43menumerate\u001B[39;49m\u001B[43m(\u001B[49m\u001B[43mcandidate_params\u001B[49m\u001B[43m)\u001B[49m\u001B[43m,\u001B[49m\u001B[43m \u001B[49m\u001B[38;5;28;43menumerate\u001B[39;49m\u001B[43m(\u001B[49m\u001B[43mcv\u001B[49m\u001B[38;5;241;43m.\u001B[39;49m\u001B[43msplit\u001B[49m\u001B[43m(\u001B[49m\u001B[43mX\u001B[49m\u001B[43m,\u001B[49m\u001B[43m \u001B[49m\u001B[43my\u001B[49m\u001B[43m,\u001B[49m\u001B[43m \u001B[49m\u001B[43mgroups\u001B[49m\u001B[43m)\u001B[49m\u001B[43m)\u001B[49m\n\u001B[0;32m    835\u001B[0m \u001B[43m    \u001B[49m\u001B[43m)\u001B[49m\n\u001B[0;32m    836\u001B[0m \u001B[43m\u001B[49m\u001B[43m)\u001B[49m\n\u001B[0;32m    838\u001B[0m \u001B[38;5;28;01mif\u001B[39;00m \u001B[38;5;28mlen\u001B[39m(out) \u001B[38;5;241m<\u001B[39m \u001B[38;5;241m1\u001B[39m:\n\u001B[0;32m    839\u001B[0m     \u001B[38;5;28;01mraise\u001B[39;00m \u001B[38;5;167;01mValueError\u001B[39;00m(\n\u001B[0;32m    840\u001B[0m         \u001B[38;5;124m\"\u001B[39m\u001B[38;5;124mNo fits were performed. \u001B[39m\u001B[38;5;124m\"\u001B[39m\n\u001B[0;32m    841\u001B[0m         \u001B[38;5;124m\"\u001B[39m\u001B[38;5;124mWas the CV iterator empty? \u001B[39m\u001B[38;5;124m\"\u001B[39m\n\u001B[0;32m    842\u001B[0m         \u001B[38;5;124m\"\u001B[39m\u001B[38;5;124mWere there no candidates?\u001B[39m\u001B[38;5;124m\"\u001B[39m\n\u001B[0;32m    843\u001B[0m     )\n",
      "File \u001B[1;32m~\\anaconda3\\lib\\site-packages\\sklearn\\utils\\parallel.py:63\u001B[0m, in \u001B[0;36mParallel.__call__\u001B[1;34m(self, iterable)\u001B[0m\n\u001B[0;32m     58\u001B[0m config \u001B[38;5;241m=\u001B[39m get_config()\n\u001B[0;32m     59\u001B[0m iterable_with_config \u001B[38;5;241m=\u001B[39m (\n\u001B[0;32m     60\u001B[0m     (_with_config(delayed_func, config), args, kwargs)\n\u001B[0;32m     61\u001B[0m     \u001B[38;5;28;01mfor\u001B[39;00m delayed_func, args, kwargs \u001B[38;5;129;01min\u001B[39;00m iterable\n\u001B[0;32m     62\u001B[0m )\n\u001B[1;32m---> 63\u001B[0m \u001B[38;5;28;01mreturn\u001B[39;00m \u001B[38;5;28;43msuper\u001B[39;49m\u001B[43m(\u001B[49m\u001B[43m)\u001B[49m\u001B[38;5;241;43m.\u001B[39;49m\u001B[38;5;21;43m__call__\u001B[39;49m\u001B[43m(\u001B[49m\u001B[43miterable_with_config\u001B[49m\u001B[43m)\u001B[49m\n",
      "File \u001B[1;32m~\\anaconda3\\lib\\site-packages\\joblib\\parallel.py:1051\u001B[0m, in \u001B[0;36mParallel.__call__\u001B[1;34m(self, iterable)\u001B[0m\n\u001B[0;32m   1048\u001B[0m \u001B[38;5;28;01mif\u001B[39;00m \u001B[38;5;28mself\u001B[39m\u001B[38;5;241m.\u001B[39mdispatch_one_batch(iterator):\n\u001B[0;32m   1049\u001B[0m     \u001B[38;5;28mself\u001B[39m\u001B[38;5;241m.\u001B[39m_iterating \u001B[38;5;241m=\u001B[39m \u001B[38;5;28mself\u001B[39m\u001B[38;5;241m.\u001B[39m_original_iterator \u001B[38;5;129;01mis\u001B[39;00m \u001B[38;5;129;01mnot\u001B[39;00m \u001B[38;5;28;01mNone\u001B[39;00m\n\u001B[1;32m-> 1051\u001B[0m \u001B[38;5;28;01mwhile\u001B[39;00m \u001B[38;5;28;43mself\u001B[39;49m\u001B[38;5;241;43m.\u001B[39;49m\u001B[43mdispatch_one_batch\u001B[49m\u001B[43m(\u001B[49m\u001B[43miterator\u001B[49m\u001B[43m)\u001B[49m:\n\u001B[0;32m   1052\u001B[0m     \u001B[38;5;28;01mpass\u001B[39;00m\n\u001B[0;32m   1054\u001B[0m \u001B[38;5;28;01mif\u001B[39;00m pre_dispatch \u001B[38;5;241m==\u001B[39m \u001B[38;5;124m\"\u001B[39m\u001B[38;5;124mall\u001B[39m\u001B[38;5;124m\"\u001B[39m \u001B[38;5;129;01mor\u001B[39;00m n_jobs \u001B[38;5;241m==\u001B[39m \u001B[38;5;241m1\u001B[39m:\n\u001B[0;32m   1055\u001B[0m     \u001B[38;5;66;03m# The iterable was consumed all at once by the above for loop.\u001B[39;00m\n\u001B[0;32m   1056\u001B[0m     \u001B[38;5;66;03m# No need to wait for async callbacks to trigger to\u001B[39;00m\n\u001B[0;32m   1057\u001B[0m     \u001B[38;5;66;03m# consumption.\u001B[39;00m\n",
      "File \u001B[1;32m~\\anaconda3\\lib\\site-packages\\joblib\\parallel.py:864\u001B[0m, in \u001B[0;36mParallel.dispatch_one_batch\u001B[1;34m(self, iterator)\u001B[0m\n\u001B[0;32m    862\u001B[0m     \u001B[38;5;28;01mreturn\u001B[39;00m \u001B[38;5;28;01mFalse\u001B[39;00m\n\u001B[0;32m    863\u001B[0m \u001B[38;5;28;01melse\u001B[39;00m:\n\u001B[1;32m--> 864\u001B[0m     \u001B[38;5;28;43mself\u001B[39;49m\u001B[38;5;241;43m.\u001B[39;49m\u001B[43m_dispatch\u001B[49m\u001B[43m(\u001B[49m\u001B[43mtasks\u001B[49m\u001B[43m)\u001B[49m\n\u001B[0;32m    865\u001B[0m     \u001B[38;5;28;01mreturn\u001B[39;00m \u001B[38;5;28;01mTrue\u001B[39;00m\n",
      "File \u001B[1;32m~\\anaconda3\\lib\\site-packages\\joblib\\parallel.py:782\u001B[0m, in \u001B[0;36mParallel._dispatch\u001B[1;34m(self, batch)\u001B[0m\n\u001B[0;32m    780\u001B[0m \u001B[38;5;28;01mwith\u001B[39;00m \u001B[38;5;28mself\u001B[39m\u001B[38;5;241m.\u001B[39m_lock:\n\u001B[0;32m    781\u001B[0m     job_idx \u001B[38;5;241m=\u001B[39m \u001B[38;5;28mlen\u001B[39m(\u001B[38;5;28mself\u001B[39m\u001B[38;5;241m.\u001B[39m_jobs)\n\u001B[1;32m--> 782\u001B[0m     job \u001B[38;5;241m=\u001B[39m \u001B[38;5;28;43mself\u001B[39;49m\u001B[38;5;241;43m.\u001B[39;49m\u001B[43m_backend\u001B[49m\u001B[38;5;241;43m.\u001B[39;49m\u001B[43mapply_async\u001B[49m\u001B[43m(\u001B[49m\u001B[43mbatch\u001B[49m\u001B[43m,\u001B[49m\u001B[43m \u001B[49m\u001B[43mcallback\u001B[49m\u001B[38;5;241;43m=\u001B[39;49m\u001B[43mcb\u001B[49m\u001B[43m)\u001B[49m\n\u001B[0;32m    783\u001B[0m     \u001B[38;5;66;03m# A job can complete so quickly than its callback is\u001B[39;00m\n\u001B[0;32m    784\u001B[0m     \u001B[38;5;66;03m# called before we get here, causing self._jobs to\u001B[39;00m\n\u001B[0;32m    785\u001B[0m     \u001B[38;5;66;03m# grow. To ensure correct results ordering, .insert is\u001B[39;00m\n\u001B[0;32m    786\u001B[0m     \u001B[38;5;66;03m# used (rather than .append) in the following line\u001B[39;00m\n\u001B[0;32m    787\u001B[0m     \u001B[38;5;28mself\u001B[39m\u001B[38;5;241m.\u001B[39m_jobs\u001B[38;5;241m.\u001B[39minsert(job_idx, job)\n",
      "File \u001B[1;32m~\\anaconda3\\lib\\site-packages\\joblib\\_parallel_backends.py:208\u001B[0m, in \u001B[0;36mSequentialBackend.apply_async\u001B[1;34m(self, func, callback)\u001B[0m\n\u001B[0;32m    206\u001B[0m \u001B[38;5;28;01mdef\u001B[39;00m \u001B[38;5;21mapply_async\u001B[39m(\u001B[38;5;28mself\u001B[39m, func, callback\u001B[38;5;241m=\u001B[39m\u001B[38;5;28;01mNone\u001B[39;00m):\n\u001B[0;32m    207\u001B[0m     \u001B[38;5;124;03m\"\"\"Schedule a func to be run\"\"\"\u001B[39;00m\n\u001B[1;32m--> 208\u001B[0m     result \u001B[38;5;241m=\u001B[39m \u001B[43mImmediateResult\u001B[49m\u001B[43m(\u001B[49m\u001B[43mfunc\u001B[49m\u001B[43m)\u001B[49m\n\u001B[0;32m    209\u001B[0m     \u001B[38;5;28;01mif\u001B[39;00m callback:\n\u001B[0;32m    210\u001B[0m         callback(result)\n",
      "File \u001B[1;32m~\\anaconda3\\lib\\site-packages\\joblib\\_parallel_backends.py:572\u001B[0m, in \u001B[0;36mImmediateResult.__init__\u001B[1;34m(self, batch)\u001B[0m\n\u001B[0;32m    569\u001B[0m \u001B[38;5;28;01mdef\u001B[39;00m \u001B[38;5;21m__init__\u001B[39m(\u001B[38;5;28mself\u001B[39m, batch):\n\u001B[0;32m    570\u001B[0m     \u001B[38;5;66;03m# Don't delay the application, to avoid keeping the input\u001B[39;00m\n\u001B[0;32m    571\u001B[0m     \u001B[38;5;66;03m# arguments in memory\u001B[39;00m\n\u001B[1;32m--> 572\u001B[0m     \u001B[38;5;28mself\u001B[39m\u001B[38;5;241m.\u001B[39mresults \u001B[38;5;241m=\u001B[39m \u001B[43mbatch\u001B[49m\u001B[43m(\u001B[49m\u001B[43m)\u001B[49m\n",
      "File \u001B[1;32m~\\anaconda3\\lib\\site-packages\\joblib\\parallel.py:263\u001B[0m, in \u001B[0;36mBatchedCalls.__call__\u001B[1;34m(self)\u001B[0m\n\u001B[0;32m    259\u001B[0m \u001B[38;5;28;01mdef\u001B[39;00m \u001B[38;5;21m__call__\u001B[39m(\u001B[38;5;28mself\u001B[39m):\n\u001B[0;32m    260\u001B[0m     \u001B[38;5;66;03m# Set the default nested backend to self._backend but do not set the\u001B[39;00m\n\u001B[0;32m    261\u001B[0m     \u001B[38;5;66;03m# change the default number of processes to -1\u001B[39;00m\n\u001B[0;32m    262\u001B[0m     \u001B[38;5;28;01mwith\u001B[39;00m parallel_backend(\u001B[38;5;28mself\u001B[39m\u001B[38;5;241m.\u001B[39m_backend, n_jobs\u001B[38;5;241m=\u001B[39m\u001B[38;5;28mself\u001B[39m\u001B[38;5;241m.\u001B[39m_n_jobs):\n\u001B[1;32m--> 263\u001B[0m         \u001B[38;5;28;01mreturn\u001B[39;00m [func(\u001B[38;5;241m*\u001B[39margs, \u001B[38;5;241m*\u001B[39m\u001B[38;5;241m*\u001B[39mkwargs)\n\u001B[0;32m    264\u001B[0m                 \u001B[38;5;28;01mfor\u001B[39;00m func, args, kwargs \u001B[38;5;129;01min\u001B[39;00m \u001B[38;5;28mself\u001B[39m\u001B[38;5;241m.\u001B[39mitems]\n",
      "File \u001B[1;32m~\\anaconda3\\lib\\site-packages\\joblib\\parallel.py:263\u001B[0m, in \u001B[0;36m<listcomp>\u001B[1;34m(.0)\u001B[0m\n\u001B[0;32m    259\u001B[0m \u001B[38;5;28;01mdef\u001B[39;00m \u001B[38;5;21m__call__\u001B[39m(\u001B[38;5;28mself\u001B[39m):\n\u001B[0;32m    260\u001B[0m     \u001B[38;5;66;03m# Set the default nested backend to self._backend but do not set the\u001B[39;00m\n\u001B[0;32m    261\u001B[0m     \u001B[38;5;66;03m# change the default number of processes to -1\u001B[39;00m\n\u001B[0;32m    262\u001B[0m     \u001B[38;5;28;01mwith\u001B[39;00m parallel_backend(\u001B[38;5;28mself\u001B[39m\u001B[38;5;241m.\u001B[39m_backend, n_jobs\u001B[38;5;241m=\u001B[39m\u001B[38;5;28mself\u001B[39m\u001B[38;5;241m.\u001B[39m_n_jobs):\n\u001B[1;32m--> 263\u001B[0m         \u001B[38;5;28;01mreturn\u001B[39;00m [func(\u001B[38;5;241m*\u001B[39margs, \u001B[38;5;241m*\u001B[39m\u001B[38;5;241m*\u001B[39mkwargs)\n\u001B[0;32m    264\u001B[0m                 \u001B[38;5;28;01mfor\u001B[39;00m func, args, kwargs \u001B[38;5;129;01min\u001B[39;00m \u001B[38;5;28mself\u001B[39m\u001B[38;5;241m.\u001B[39mitems]\n",
      "File \u001B[1;32m~\\anaconda3\\lib\\site-packages\\sklearn\\utils\\parallel.py:123\u001B[0m, in \u001B[0;36m_FuncWrapper.__call__\u001B[1;34m(self, *args, **kwargs)\u001B[0m\n\u001B[0;32m    121\u001B[0m     config \u001B[38;5;241m=\u001B[39m {}\n\u001B[0;32m    122\u001B[0m \u001B[38;5;28;01mwith\u001B[39;00m config_context(\u001B[38;5;241m*\u001B[39m\u001B[38;5;241m*\u001B[39mconfig):\n\u001B[1;32m--> 123\u001B[0m     \u001B[38;5;28;01mreturn\u001B[39;00m \u001B[38;5;28mself\u001B[39m\u001B[38;5;241m.\u001B[39mfunction(\u001B[38;5;241m*\u001B[39margs, \u001B[38;5;241m*\u001B[39m\u001B[38;5;241m*\u001B[39mkwargs)\n",
      "File \u001B[1;32m~\\anaconda3\\lib\\site-packages\\sklearn\\model_selection\\_validation.py:686\u001B[0m, in \u001B[0;36m_fit_and_score\u001B[1;34m(estimator, X, y, scorer, train, test, verbose, parameters, fit_params, return_train_score, return_parameters, return_n_test_samples, return_times, return_estimator, split_progress, candidate_progress, error_score)\u001B[0m\n\u001B[0;32m    684\u001B[0m         estimator\u001B[38;5;241m.\u001B[39mfit(X_train, \u001B[38;5;241m*\u001B[39m\u001B[38;5;241m*\u001B[39mfit_params)\n\u001B[0;32m    685\u001B[0m     \u001B[38;5;28;01melse\u001B[39;00m:\n\u001B[1;32m--> 686\u001B[0m         estimator\u001B[38;5;241m.\u001B[39mfit(X_train, y_train, \u001B[38;5;241m*\u001B[39m\u001B[38;5;241m*\u001B[39mfit_params)\n\u001B[0;32m    688\u001B[0m \u001B[38;5;28;01mexcept\u001B[39;00m \u001B[38;5;167;01mException\u001B[39;00m:\n\u001B[0;32m    689\u001B[0m     \u001B[38;5;66;03m# Note fit time as time until error\u001B[39;00m\n\u001B[0;32m    690\u001B[0m     fit_time \u001B[38;5;241m=\u001B[39m time\u001B[38;5;241m.\u001B[39mtime() \u001B[38;5;241m-\u001B[39m start_time\n",
      "File \u001B[1;32m~\\anaconda3\\lib\\site-packages\\xgboost\\core.py:620\u001B[0m, in \u001B[0;36mrequire_keyword_args.<locals>.throw_if.<locals>.inner_f\u001B[1;34m(*args, **kwargs)\u001B[0m\n\u001B[0;32m    618\u001B[0m \u001B[38;5;28;01mfor\u001B[39;00m k, arg \u001B[38;5;129;01min\u001B[39;00m \u001B[38;5;28mzip\u001B[39m(sig\u001B[38;5;241m.\u001B[39mparameters, args):\n\u001B[0;32m    619\u001B[0m     kwargs[k] \u001B[38;5;241m=\u001B[39m arg\n\u001B[1;32m--> 620\u001B[0m \u001B[38;5;28;01mreturn\u001B[39;00m func(\u001B[38;5;241m*\u001B[39m\u001B[38;5;241m*\u001B[39mkwargs)\n",
      "File \u001B[1;32m~\\anaconda3\\lib\\site-packages\\xgboost\\sklearn.py:1025\u001B[0m, in \u001B[0;36mXGBModel.fit\u001B[1;34m(self, X, y, sample_weight, base_margin, eval_set, eval_metric, early_stopping_rounds, verbose, xgb_model, sample_weight_eval_set, base_margin_eval_set, feature_weights, callbacks)\u001B[0m\n\u001B[0;32m   1014\u001B[0m     obj \u001B[38;5;241m=\u001B[39m \u001B[38;5;28;01mNone\u001B[39;00m\n\u001B[0;32m   1016\u001B[0m (\n\u001B[0;32m   1017\u001B[0m     model,\n\u001B[0;32m   1018\u001B[0m     metric,\n\u001B[1;32m   (...)\u001B[0m\n\u001B[0;32m   1023\u001B[0m     xgb_model, eval_metric, params, early_stopping_rounds, callbacks\n\u001B[0;32m   1024\u001B[0m )\n\u001B[1;32m-> 1025\u001B[0m \u001B[38;5;28mself\u001B[39m\u001B[38;5;241m.\u001B[39m_Booster \u001B[38;5;241m=\u001B[39m \u001B[43mtrain\u001B[49m\u001B[43m(\u001B[49m\n\u001B[0;32m   1026\u001B[0m \u001B[43m    \u001B[49m\u001B[43mparams\u001B[49m\u001B[43m,\u001B[49m\n\u001B[0;32m   1027\u001B[0m \u001B[43m    \u001B[49m\u001B[43mtrain_dmatrix\u001B[49m\u001B[43m,\u001B[49m\n\u001B[0;32m   1028\u001B[0m \u001B[43m    \u001B[49m\u001B[38;5;28;43mself\u001B[39;49m\u001B[38;5;241;43m.\u001B[39;49m\u001B[43mget_num_boosting_rounds\u001B[49m\u001B[43m(\u001B[49m\u001B[43m)\u001B[49m\u001B[43m,\u001B[49m\n\u001B[0;32m   1029\u001B[0m \u001B[43m    \u001B[49m\u001B[43mevals\u001B[49m\u001B[38;5;241;43m=\u001B[39;49m\u001B[43mevals\u001B[49m\u001B[43m,\u001B[49m\n\u001B[0;32m   1030\u001B[0m \u001B[43m    \u001B[49m\u001B[43mearly_stopping_rounds\u001B[49m\u001B[38;5;241;43m=\u001B[39;49m\u001B[43mearly_stopping_rounds\u001B[49m\u001B[43m,\u001B[49m\n\u001B[0;32m   1031\u001B[0m \u001B[43m    \u001B[49m\u001B[43mevals_result\u001B[49m\u001B[38;5;241;43m=\u001B[39;49m\u001B[43mevals_result\u001B[49m\u001B[43m,\u001B[49m\n\u001B[0;32m   1032\u001B[0m \u001B[43m    \u001B[49m\u001B[43mobj\u001B[49m\u001B[38;5;241;43m=\u001B[39;49m\u001B[43mobj\u001B[49m\u001B[43m,\u001B[49m\n\u001B[0;32m   1033\u001B[0m \u001B[43m    \u001B[49m\u001B[43mcustom_metric\u001B[49m\u001B[38;5;241;43m=\u001B[39;49m\u001B[43mmetric\u001B[49m\u001B[43m,\u001B[49m\n\u001B[0;32m   1034\u001B[0m \u001B[43m    \u001B[49m\u001B[43mverbose_eval\u001B[49m\u001B[38;5;241;43m=\u001B[39;49m\u001B[43mverbose\u001B[49m\u001B[43m,\u001B[49m\n\u001B[0;32m   1035\u001B[0m \u001B[43m    \u001B[49m\u001B[43mxgb_model\u001B[49m\u001B[38;5;241;43m=\u001B[39;49m\u001B[43mmodel\u001B[49m\u001B[43m,\u001B[49m\n\u001B[0;32m   1036\u001B[0m \u001B[43m    \u001B[49m\u001B[43mcallbacks\u001B[49m\u001B[38;5;241;43m=\u001B[39;49m\u001B[43mcallbacks\u001B[49m\u001B[43m,\u001B[49m\n\u001B[0;32m   1037\u001B[0m \u001B[43m\u001B[49m\u001B[43m)\u001B[49m\n\u001B[0;32m   1039\u001B[0m \u001B[38;5;28mself\u001B[39m\u001B[38;5;241m.\u001B[39m_set_evaluation_result(evals_result)\n\u001B[0;32m   1040\u001B[0m \u001B[38;5;28;01mreturn\u001B[39;00m \u001B[38;5;28mself\u001B[39m\n",
      "File \u001B[1;32m~\\anaconda3\\lib\\site-packages\\xgboost\\core.py:620\u001B[0m, in \u001B[0;36mrequire_keyword_args.<locals>.throw_if.<locals>.inner_f\u001B[1;34m(*args, **kwargs)\u001B[0m\n\u001B[0;32m    618\u001B[0m \u001B[38;5;28;01mfor\u001B[39;00m k, arg \u001B[38;5;129;01min\u001B[39;00m \u001B[38;5;28mzip\u001B[39m(sig\u001B[38;5;241m.\u001B[39mparameters, args):\n\u001B[0;32m    619\u001B[0m     kwargs[k] \u001B[38;5;241m=\u001B[39m arg\n\u001B[1;32m--> 620\u001B[0m \u001B[38;5;28;01mreturn\u001B[39;00m func(\u001B[38;5;241m*\u001B[39m\u001B[38;5;241m*\u001B[39mkwargs)\n",
      "File \u001B[1;32m~\\anaconda3\\lib\\site-packages\\xgboost\\training.py:185\u001B[0m, in \u001B[0;36mtrain\u001B[1;34m(params, dtrain, num_boost_round, evals, obj, feval, maximize, early_stopping_rounds, evals_result, verbose_eval, xgb_model, callbacks, custom_metric)\u001B[0m\n\u001B[0;32m    183\u001B[0m \u001B[38;5;28;01mif\u001B[39;00m cb_container\u001B[38;5;241m.\u001B[39mbefore_iteration(bst, i, dtrain, evals):\n\u001B[0;32m    184\u001B[0m     \u001B[38;5;28;01mbreak\u001B[39;00m\n\u001B[1;32m--> 185\u001B[0m \u001B[43mbst\u001B[49m\u001B[38;5;241;43m.\u001B[39;49m\u001B[43mupdate\u001B[49m\u001B[43m(\u001B[49m\u001B[43mdtrain\u001B[49m\u001B[43m,\u001B[49m\u001B[43m \u001B[49m\u001B[43mi\u001B[49m\u001B[43m,\u001B[49m\u001B[43m \u001B[49m\u001B[43mobj\u001B[49m\u001B[43m)\u001B[49m\n\u001B[0;32m    186\u001B[0m \u001B[38;5;28;01mif\u001B[39;00m cb_container\u001B[38;5;241m.\u001B[39mafter_iteration(bst, i, dtrain, evals):\n\u001B[0;32m    187\u001B[0m     \u001B[38;5;28;01mbreak\u001B[39;00m\n",
      "File \u001B[1;32m~\\anaconda3\\lib\\site-packages\\xgboost\\core.py:1918\u001B[0m, in \u001B[0;36mBooster.update\u001B[1;34m(self, dtrain, iteration, fobj)\u001B[0m\n\u001B[0;32m   1915\u001B[0m \u001B[38;5;28mself\u001B[39m\u001B[38;5;241m.\u001B[39m_validate_dmatrix_features(dtrain)\n\u001B[0;32m   1917\u001B[0m \u001B[38;5;28;01mif\u001B[39;00m fobj \u001B[38;5;129;01mis\u001B[39;00m \u001B[38;5;28;01mNone\u001B[39;00m:\n\u001B[1;32m-> 1918\u001B[0m     _check_call(\u001B[43m_LIB\u001B[49m\u001B[38;5;241;43m.\u001B[39;49m\u001B[43mXGBoosterUpdateOneIter\u001B[49m\u001B[43m(\u001B[49m\u001B[38;5;28;43mself\u001B[39;49m\u001B[38;5;241;43m.\u001B[39;49m\u001B[43mhandle\u001B[49m\u001B[43m,\u001B[49m\n\u001B[0;32m   1919\u001B[0m \u001B[43m                                            \u001B[49m\u001B[43mctypes\u001B[49m\u001B[38;5;241;43m.\u001B[39;49m\u001B[43mc_int\u001B[49m\u001B[43m(\u001B[49m\u001B[43miteration\u001B[49m\u001B[43m)\u001B[49m\u001B[43m,\u001B[49m\n\u001B[0;32m   1920\u001B[0m \u001B[43m                                            \u001B[49m\u001B[43mdtrain\u001B[49m\u001B[38;5;241;43m.\u001B[39;49m\u001B[43mhandle\u001B[49m\u001B[43m)\u001B[49m)\n\u001B[0;32m   1921\u001B[0m \u001B[38;5;28;01melse\u001B[39;00m:\n\u001B[0;32m   1922\u001B[0m     pred \u001B[38;5;241m=\u001B[39m \u001B[38;5;28mself\u001B[39m\u001B[38;5;241m.\u001B[39mpredict(dtrain, output_margin\u001B[38;5;241m=\u001B[39m\u001B[38;5;28;01mTrue\u001B[39;00m, training\u001B[38;5;241m=\u001B[39m\u001B[38;5;28;01mTrue\u001B[39;00m)\n",
      "\u001B[1;31mKeyboardInterrupt\u001B[0m: "
     ]
    }
   ],
   "source": [
    "# Grid-search hyperparameter tuning:\n",
    "import xgboost as xgb\n",
    "from sklearn.model_selection import train_test_split, GridSearchCV\n",
    "from sklearn.metrics import mean_squared_error, r2_score\n",
    "\n",
    "# Step 1: Select the features and target variable\n",
    "X = updated_df.iloc[:, 8:].values\n",
    "y = updated_df['average_Tc'].values\n",
    "\n",
    "# Step 2: Split the data into training and testing sets\n",
    "X_train, X_test, y_train, y_test = train_test_split(X, y, test_size=0.25, random_state=33)\n",
    "\n",
    "# Step 3: Define the parameter grid for tuning\n",
    "param_grid = {\n",
    "  'learning_rate': [0.1, 0.01, 0.001],\n",
    "  'max_depth': [3, 5, 7],\n",
    "  'n_estimators': [100, 500, 1000],\n",
    "}\n",
    "\n",
    "# Step 4: Create an XGBoost regression model\n",
    "model = xgb.XGBRegressor()\n",
    "\n",
    "# Step 5: Perform grid search to find the best hyperparameters\n",
    "grid_search = GridSearchCV(model, param_grid, scoring='neg_mean_squared_error', cv=5)\n",
    "grid_search.fit(X_train, y_train)\n",
    "\n",
    "# Get the best model with the optimized hyperparameters\n",
    "best_model = grid_search.best_estimator_\n",
    "\n",
    "# Step 6: Make predictions on the testing data using the best model\n",
    "y_pred = best_model.predict(X_test)\n",
    "\n",
    "# Step 7: Evaluate the model\n",
    "mse = mean_squared_error(y_test, y_pred)\n",
    "r2 = r2_score(y_test, y_pred)\n",
    "\n",
    "print('Root Mean Squared Error:', np.sqrt(mse))\n",
    "print('R-squared Score:', r2)\n",
    "print('Best Hyperparameters:', grid_search.best_params_)\n"
   ],
   "metadata": {
    "collapsed": false,
    "ExecuteTime": {
     "end_time": "2023-07-05T05:27:58.311555100Z",
     "start_time": "2023-07-05T05:12:55.060489400Z"
    }
   }
  },
  {
   "cell_type": "markdown",
   "source": [
    "Neural network model without optimizing:"
   ],
   "metadata": {
    "collapsed": false
   }
  },
  {
   "cell_type": "code",
   "execution_count": 168,
   "outputs": [
    {
     "name": "stdout",
     "output_type": "stream",
     "text": [
      "Collecting tensorflow\n",
      "  Downloading tensorflow-2.12.0-cp310-cp310-win_amd64.whl (1.9 kB)\n",
      "Collecting tensorflow-intel==2.12.0\n",
      "  Downloading tensorflow_intel-2.12.0-cp310-cp310-win_amd64.whl (272.8 MB)\n",
      "     -------------------------------------- 272.8/272.8 MB 4.1 MB/s eta 0:00:00\n",
      "Collecting astunparse>=1.6.0\n",
      "  Using cached astunparse-1.6.3-py2.py3-none-any.whl (12 kB)\n",
      "Collecting tensorflow-estimator<2.13,>=2.12.0\n",
      "  Using cached tensorflow_estimator-2.12.0-py2.py3-none-any.whl (440 kB)\n",
      "Requirement already satisfied: numpy<1.24,>=1.22 in c:\\users\\droor\\anaconda3\\lib\\site-packages (from tensorflow-intel==2.12.0->tensorflow) (1.23.5)\n",
      "Requirement already satisfied: wrapt<1.15,>=1.11.0 in c:\\users\\droor\\anaconda3\\lib\\site-packages (from tensorflow-intel==2.12.0->tensorflow) (1.14.1)\n",
      "Collecting grpcio<2.0,>=1.24.3\n",
      "  Downloading grpcio-1.56.0-cp310-cp310-win_amd64.whl (4.2 MB)\n",
      "     ---------------------------------------- 4.2/4.2 MB 22.6 MB/s eta 0:00:00\n",
      "Collecting flatbuffers>=2.0\n",
      "  Using cached flatbuffers-23.5.26-py2.py3-none-any.whl (26 kB)\n",
      "Requirement already satisfied: h5py>=2.9.0 in c:\\users\\droor\\anaconda3\\lib\\site-packages (from tensorflow-intel==2.12.0->tensorflow) (3.7.0)\n",
      "Collecting tensorflow-io-gcs-filesystem>=0.23.1\n",
      "  Downloading tensorflow_io_gcs_filesystem-0.31.0-cp310-cp310-win_amd64.whl (1.5 MB)\n",
      "     ---------------------------------------- 1.5/1.5 MB 15.7 MB/s eta 0:00:00\n",
      "Collecting tensorboard<2.13,>=2.12\n",
      "  Using cached tensorboard-2.12.3-py3-none-any.whl (5.6 MB)\n",
      "Collecting opt-einsum>=2.3.2\n",
      "  Using cached opt_einsum-3.3.0-py3-none-any.whl (65 kB)\n",
      "Collecting google-pasta>=0.1.1\n",
      "  Using cached google_pasta-0.2.0-py3-none-any.whl (57 kB)\n",
      "Collecting protobuf!=4.21.0,!=4.21.1,!=4.21.2,!=4.21.3,!=4.21.4,!=4.21.5,<5.0.0dev,>=3.20.3\n",
      "  Downloading protobuf-4.23.3-cp310-abi3-win_amd64.whl (422 kB)\n",
      "     ------------------------------------- 422.5/422.5 kB 13.3 MB/s eta 0:00:00\n",
      "Collecting gast<=0.4.0,>=0.2.1\n",
      "  Using cached gast-0.4.0-py3-none-any.whl (9.8 kB)\n",
      "Requirement already satisfied: packaging in c:\\users\\droor\\anaconda3\\lib\\site-packages (from tensorflow-intel==2.12.0->tensorflow) (22.0)\n",
      "Requirement already satisfied: setuptools in c:\\users\\droor\\anaconda3\\lib\\site-packages (from tensorflow-intel==2.12.0->tensorflow) (65.6.3)\n",
      "Collecting termcolor>=1.1.0\n",
      "  Using cached termcolor-2.3.0-py3-none-any.whl (6.9 kB)\n",
      "Collecting keras<2.13,>=2.12.0\n",
      "  Using cached keras-2.12.0-py2.py3-none-any.whl (1.7 MB)\n",
      "Collecting libclang>=13.0.0\n",
      "  Using cached libclang-16.0.0-py2.py3-none-win_amd64.whl (24.4 MB)\n",
      "Collecting jax>=0.3.15\n",
      "  Using cached jax-0.4.13.tar.gz (1.3 MB)\n",
      "  Installing build dependencies: started\n",
      "  Installing build dependencies: finished with status 'done'\n",
      "  Getting requirements to build wheel: started\n",
      "  Getting requirements to build wheel: finished with status 'done'\n",
      "  Preparing metadata (pyproject.toml): started\n",
      "  Preparing metadata (pyproject.toml): finished with status 'done'\n",
      "Requirement already satisfied: typing-extensions>=3.6.6 in c:\\users\\droor\\anaconda3\\lib\\site-packages (from tensorflow-intel==2.12.0->tensorflow) (4.4.0)\n",
      "Collecting absl-py>=1.0.0\n",
      "  Using cached absl_py-1.4.0-py3-none-any.whl (126 kB)\n",
      "Requirement already satisfied: six>=1.12.0 in c:\\users\\droor\\anaconda3\\lib\\site-packages (from tensorflow-intel==2.12.0->tensorflow) (1.16.0)\n",
      "Requirement already satisfied: wheel<1.0,>=0.23.0 in c:\\users\\droor\\anaconda3\\lib\\site-packages (from astunparse>=1.6.0->tensorflow-intel==2.12.0->tensorflow) (0.38.4)\n",
      "Collecting ml-dtypes>=0.1.0\n",
      "  Downloading ml_dtypes-0.2.0-cp310-cp310-win_amd64.whl (938 kB)\n",
      "     ------------------------------------- 938.6/938.6 kB 19.8 MB/s eta 0:00:00\n",
      "Requirement already satisfied: scipy>=1.7 in c:\\users\\droor\\anaconda3\\lib\\site-packages (from jax>=0.3.15->tensorflow-intel==2.12.0->tensorflow) (1.10.0)\n",
      "Requirement already satisfied: werkzeug>=1.0.1 in c:\\users\\droor\\anaconda3\\lib\\site-packages (from tensorboard<2.13,>=2.12->tensorflow-intel==2.12.0->tensorflow) (2.2.2)\n",
      "Requirement already satisfied: markdown>=2.6.8 in c:\\users\\droor\\anaconda3\\lib\\site-packages (from tensorboard<2.13,>=2.12->tensorflow-intel==2.12.0->tensorflow) (3.4.1)\n",
      "Collecting tensorboard-data-server<0.8.0,>=0.7.0\n",
      "  Using cached tensorboard_data_server-0.7.1-py3-none-any.whl (2.4 kB)\n",
      "Collecting google-auth<3,>=1.6.3\n",
      "  Downloading google_auth-2.21.0-py2.py3-none-any.whl (182 kB)\n",
      "     ------------------------------------- 182.1/182.1 kB 10.7 MB/s eta 0:00:00\n",
      "Requirement already satisfied: requests<3,>=2.21.0 in c:\\users\\droor\\anaconda3\\lib\\site-packages (from tensorboard<2.13,>=2.12->tensorflow-intel==2.12.0->tensorflow) (2.28.1)\n",
      "Collecting google-auth-oauthlib<1.1,>=0.5\n",
      "  Using cached google_auth_oauthlib-1.0.0-py2.py3-none-any.whl (18 kB)\n",
      "Requirement already satisfied: urllib3<2.0 in c:\\users\\droor\\anaconda3\\lib\\site-packages (from google-auth<3,>=1.6.3->tensorboard<2.13,>=2.12->tensorflow-intel==2.12.0->tensorflow) (1.26.14)\n",
      "Requirement already satisfied: pyasn1-modules>=0.2.1 in c:\\users\\droor\\anaconda3\\lib\\site-packages (from google-auth<3,>=1.6.3->tensorboard<2.13,>=2.12->tensorflow-intel==2.12.0->tensorflow) (0.2.8)\n",
      "Collecting cachetools<6.0,>=2.0.0\n",
      "  Using cached cachetools-5.3.1-py3-none-any.whl (9.3 kB)\n",
      "Collecting rsa<5,>=3.1.4\n",
      "  Using cached rsa-4.9-py3-none-any.whl (34 kB)\n",
      "Collecting requests-oauthlib>=0.7.0\n",
      "  Using cached requests_oauthlib-1.3.1-py2.py3-none-any.whl (23 kB)\n",
      "Requirement already satisfied: charset-normalizer<3,>=2 in c:\\users\\droor\\anaconda3\\lib\\site-packages (from requests<3,>=2.21.0->tensorboard<2.13,>=2.12->tensorflow-intel==2.12.0->tensorflow) (2.0.4)\n",
      "Requirement already satisfied: idna<4,>=2.5 in c:\\users\\droor\\anaconda3\\lib\\site-packages (from requests<3,>=2.21.0->tensorboard<2.13,>=2.12->tensorflow-intel==2.12.0->tensorflow) (3.4)\n",
      "Requirement already satisfied: certifi>=2017.4.17 in c:\\users\\droor\\anaconda3\\lib\\site-packages (from requests<3,>=2.21.0->tensorboard<2.13,>=2.12->tensorflow-intel==2.12.0->tensorflow) (2023.5.7)\n",
      "Requirement already satisfied: MarkupSafe>=2.1.1 in c:\\users\\droor\\anaconda3\\lib\\site-packages (from werkzeug>=1.0.1->tensorboard<2.13,>=2.12->tensorflow-intel==2.12.0->tensorflow) (2.1.1)\n",
      "Requirement already satisfied: pyasn1<0.5.0,>=0.4.6 in c:\\users\\droor\\anaconda3\\lib\\site-packages (from pyasn1-modules>=0.2.1->google-auth<3,>=1.6.3->tensorboard<2.13,>=2.12->tensorflow-intel==2.12.0->tensorflow) (0.4.8)\n",
      "Collecting oauthlib>=3.0.0\n",
      "  Using cached oauthlib-3.2.2-py3-none-any.whl (151 kB)\n",
      "Building wheels for collected packages: jax\n",
      "  Building wheel for jax (pyproject.toml): started\n",
      "  Building wheel for jax (pyproject.toml): finished with status 'done'\n",
      "  Created wheel for jax: filename=jax-0.4.13-py3-none-any.whl size=1518835 sha256=68308c67eb0fa8a36ddb9d57d3c84fbdec3394ddbfc62d7fb5c954a8b4ebb034\n",
      "  Stored in directory: c:\\users\\droor\\appdata\\local\\pip\\cache\\wheels\\4c\\a3\\e7\\ea156aff3754a8f833f1b0c9587dec0bcfc9c551c439c9dcc7\n",
      "Successfully built jax\n",
      "Installing collected packages: libclang, flatbuffers, termcolor, tensorflow-io-gcs-filesystem, tensorflow-estimator, tensorboard-data-server, rsa, protobuf, opt-einsum, oauthlib, ml-dtypes, keras, grpcio, google-pasta, gast, cachetools, astunparse, absl-py, requests-oauthlib, jax, google-auth, google-auth-oauthlib, tensorboard, tensorflow-intel, tensorflow\n",
      "Successfully installed absl-py-1.4.0 astunparse-1.6.3 cachetools-5.3.1 flatbuffers-23.5.26 gast-0.4.0 google-auth-2.21.0 google-auth-oauthlib-1.0.0 google-pasta-0.2.0 grpcio-1.56.0 jax-0.4.13 keras-2.12.0 libclang-16.0.0 ml-dtypes-0.2.0 oauthlib-3.2.2 opt-einsum-3.3.0 protobuf-4.23.3 requests-oauthlib-1.3.1 rsa-4.9 tensorboard-2.12.3 tensorboard-data-server-0.7.1 tensorflow-2.12.0 tensorflow-estimator-2.12.0 tensorflow-intel-2.12.0 tensorflow-io-gcs-filesystem-0.31.0 termcolor-2.3.0\n"
     ]
    }
   ],
   "source": [
    "!pip install tensorflow"
   ],
   "metadata": {
    "collapsed": false,
    "ExecuteTime": {
     "end_time": "2023-07-05T05:32:29.823867100Z",
     "start_time": "2023-07-05T05:30:04.279143200Z"
    }
   }
  },
  {
   "cell_type": "code",
   "execution_count": 169,
   "outputs": [
    {
     "name": "stdout",
     "output_type": "stream",
     "text": [
      "Epoch 1/100\n",
      "342/342 [==============================] - 3s 3ms/step - loss: nan\n",
      "Epoch 2/100\n",
      "342/342 [==============================] - 1s 2ms/step - loss: nan\n",
      "Epoch 3/100\n",
      "342/342 [==============================] - 1s 2ms/step - loss: nan\n",
      "Epoch 4/100\n",
      "342/342 [==============================] - 1s 3ms/step - loss: nan\n",
      "Epoch 5/100\n",
      "342/342 [==============================] - 1s 3ms/step - loss: nan\n",
      "Epoch 6/100\n",
      "342/342 [==============================] - 1s 3ms/step - loss: nan\n",
      "Epoch 7/100\n",
      "342/342 [==============================] - 1s 3ms/step - loss: nan\n",
      "Epoch 8/100\n",
      "342/342 [==============================] - 1s 3ms/step - loss: nan\n",
      "Epoch 9/100\n",
      "342/342 [==============================] - 1s 3ms/step - loss: nan\n",
      "Epoch 10/100\n",
      "342/342 [==============================] - 1s 3ms/step - loss: nan\n",
      "Epoch 11/100\n",
      "342/342 [==============================] - 1s 2ms/step - loss: nan\n",
      "Epoch 12/100\n",
      "342/342 [==============================] - 1s 2ms/step - loss: nan\n",
      "Epoch 13/100\n",
      "342/342 [==============================] - 1s 3ms/step - loss: nan\n",
      "Epoch 14/100\n",
      "342/342 [==============================] - 1s 4ms/step - loss: nan\n",
      "Epoch 15/100\n",
      "342/342 [==============================] - 1s 4ms/step - loss: nan\n",
      "Epoch 16/100\n",
      "342/342 [==============================] - 2s 5ms/step - loss: nan\n",
      "Epoch 17/100\n",
      "342/342 [==============================] - 1s 3ms/step - loss: nan\n",
      "Epoch 18/100\n",
      "342/342 [==============================] - 2s 5ms/step - loss: nan\n",
      "Epoch 19/100\n",
      "342/342 [==============================] - 1s 4ms/step - loss: nan\n",
      "Epoch 20/100\n",
      "342/342 [==============================] - 2s 5ms/step - loss: nan\n",
      "Epoch 21/100\n",
      "342/342 [==============================] - 1s 4ms/step - loss: nan\n",
      "Epoch 22/100\n",
      "342/342 [==============================] - 1s 4ms/step - loss: nan\n",
      "Epoch 23/100\n",
      "342/342 [==============================] - 1s 3ms/step - loss: nan\n",
      "Epoch 24/100\n",
      "342/342 [==============================] - 1s 3ms/step - loss: nan\n",
      "Epoch 25/100\n",
      "342/342 [==============================] - 1s 4ms/step - loss: nan\n",
      "Epoch 26/100\n",
      "342/342 [==============================] - 1s 4ms/step - loss: nan\n",
      "Epoch 27/100\n",
      "342/342 [==============================] - 1s 4ms/step - loss: nan\n",
      "Epoch 28/100\n",
      "342/342 [==============================] - 2s 5ms/step - loss: nan\n",
      "Epoch 29/100\n",
      "342/342 [==============================] - 1s 4ms/step - loss: nan\n",
      "Epoch 30/100\n",
      "342/342 [==============================] - 1s 4ms/step - loss: nan\n",
      "Epoch 31/100\n",
      "342/342 [==============================] - 1s 3ms/step - loss: nan\n",
      "Epoch 32/100\n",
      "342/342 [==============================] - 1s 3ms/step - loss: nan\n",
      "Epoch 33/100\n",
      "342/342 [==============================] - 1s 4ms/step - loss: nan\n",
      "Epoch 34/100\n",
      "342/342 [==============================] - 2s 6ms/step - loss: nan\n",
      "Epoch 35/100\n",
      "342/342 [==============================] - 1s 4ms/step - loss: nan\n",
      "Epoch 36/100\n",
      "342/342 [==============================] - 1s 4ms/step - loss: nan\n",
      "Epoch 37/100\n",
      "342/342 [==============================] - 1s 3ms/step - loss: nan\n",
      "Epoch 38/100\n",
      "342/342 [==============================] - 1s 3ms/step - loss: nan\n",
      "Epoch 39/100\n",
      "342/342 [==============================] - 1s 4ms/step - loss: nan\n",
      "Epoch 40/100\n",
      "342/342 [==============================] - 1s 2ms/step - loss: nan\n",
      "Epoch 41/100\n",
      "342/342 [==============================] - 1s 3ms/step - loss: nan\n",
      "Epoch 42/100\n",
      "342/342 [==============================] - 1s 3ms/step - loss: nan\n",
      "Epoch 43/100\n",
      "342/342 [==============================] - 1s 3ms/step - loss: nan\n",
      "Epoch 44/100\n",
      "342/342 [==============================] - 1s 2ms/step - loss: nan\n",
      "Epoch 45/100\n",
      "342/342 [==============================] - 1s 2ms/step - loss: nan\n",
      "Epoch 46/100\n",
      "342/342 [==============================] - 1s 2ms/step - loss: nan\n",
      "Epoch 47/100\n",
      "342/342 [==============================] - 1s 3ms/step - loss: nan\n",
      "Epoch 48/100\n",
      "342/342 [==============================] - 1s 2ms/step - loss: nan\n",
      "Epoch 49/100\n",
      "342/342 [==============================] - 1s 2ms/step - loss: nan\n",
      "Epoch 50/100\n",
      "342/342 [==============================] - 1s 2ms/step - loss: nan\n",
      "Epoch 51/100\n",
      "342/342 [==============================] - 1s 2ms/step - loss: nan\n",
      "Epoch 52/100\n",
      "342/342 [==============================] - 1s 2ms/step - loss: nan\n",
      "Epoch 53/100\n",
      "342/342 [==============================] - 1s 3ms/step - loss: nan\n",
      "Epoch 54/100\n",
      "342/342 [==============================] - 1s 3ms/step - loss: nan\n",
      "Epoch 55/100\n",
      "342/342 [==============================] - 1s 3ms/step - loss: nan\n",
      "Epoch 56/100\n",
      "342/342 [==============================] - 1s 3ms/step - loss: nan\n",
      "Epoch 57/100\n",
      "342/342 [==============================] - 1s 3ms/step - loss: nan\n",
      "Epoch 58/100\n",
      "342/342 [==============================] - 1s 3ms/step - loss: nan\n",
      "Epoch 59/100\n",
      "342/342 [==============================] - 1s 3ms/step - loss: nan\n",
      "Epoch 60/100\n",
      "342/342 [==============================] - 1s 3ms/step - loss: nan\n",
      "Epoch 61/100\n",
      "342/342 [==============================] - 1s 3ms/step - loss: nan\n",
      "Epoch 62/100\n",
      "342/342 [==============================] - 1s 3ms/step - loss: nan\n",
      "Epoch 63/100\n",
      "342/342 [==============================] - 1s 3ms/step - loss: nan\n",
      "Epoch 64/100\n",
      "342/342 [==============================] - 1s 2ms/step - loss: nan\n",
      "Epoch 65/100\n",
      "342/342 [==============================] - 1s 2ms/step - loss: nan\n",
      "Epoch 66/100\n",
      "342/342 [==============================] - 1s 2ms/step - loss: nan\n",
      "Epoch 67/100\n",
      "342/342 [==============================] - 1s 2ms/step - loss: nan\n",
      "Epoch 68/100\n",
      "342/342 [==============================] - 1s 2ms/step - loss: nan\n",
      "Epoch 69/100\n",
      "342/342 [==============================] - 1s 2ms/step - loss: nan\n",
      "Epoch 70/100\n",
      "342/342 [==============================] - 1s 2ms/step - loss: nan\n",
      "Epoch 71/100\n",
      "342/342 [==============================] - 1s 2ms/step - loss: nan\n",
      "Epoch 72/100\n",
      "342/342 [==============================] - 1s 2ms/step - loss: nan\n",
      "Epoch 73/100\n",
      "342/342 [==============================] - 1s 2ms/step - loss: nan\n",
      "Epoch 74/100\n",
      "342/342 [==============================] - 1s 3ms/step - loss: nan\n",
      "Epoch 75/100\n",
      "342/342 [==============================] - 1s 3ms/step - loss: nan\n",
      "Epoch 76/100\n",
      "342/342 [==============================] - 1s 3ms/step - loss: nan\n",
      "Epoch 77/100\n",
      "342/342 [==============================] - 1s 3ms/step - loss: nan\n",
      "Epoch 78/100\n",
      "342/342 [==============================] - 1s 3ms/step - loss: nan\n",
      "Epoch 79/100\n",
      "342/342 [==============================] - 1s 3ms/step - loss: nan\n",
      "Epoch 80/100\n",
      "342/342 [==============================] - 1s 3ms/step - loss: nan\n",
      "Epoch 81/100\n",
      "342/342 [==============================] - 1s 3ms/step - loss: nan\n",
      "Epoch 82/100\n",
      "342/342 [==============================] - 1s 3ms/step - loss: nan\n",
      "Epoch 83/100\n",
      "342/342 [==============================] - 1s 2ms/step - loss: nan\n",
      "Epoch 84/100\n",
      "342/342 [==============================] - 1s 2ms/step - loss: nan\n",
      "Epoch 85/100\n",
      "342/342 [==============================] - 1s 2ms/step - loss: nan\n",
      "Epoch 86/100\n",
      "342/342 [==============================] - 1s 2ms/step - loss: nan\n",
      "Epoch 87/100\n",
      "342/342 [==============================] - 1s 2ms/step - loss: nan\n",
      "Epoch 88/100\n",
      "342/342 [==============================] - 1s 2ms/step - loss: nan\n",
      "Epoch 89/100\n",
      "342/342 [==============================] - 1s 2ms/step - loss: nan\n",
      "Epoch 90/100\n",
      "342/342 [==============================] - 1s 2ms/step - loss: nan\n",
      "Epoch 91/100\n",
      "342/342 [==============================] - 1s 2ms/step - loss: nan\n",
      "Epoch 92/100\n",
      "342/342 [==============================] - 1s 3ms/step - loss: nan\n",
      "Epoch 93/100\n",
      "342/342 [==============================] - 1s 3ms/step - loss: nan\n",
      "Epoch 94/100\n",
      "342/342 [==============================] - 1s 3ms/step - loss: nan\n",
      "Epoch 95/100\n",
      "342/342 [==============================] - 1s 3ms/step - loss: nan\n",
      "Epoch 96/100\n",
      "342/342 [==============================] - 1s 3ms/step - loss: nan\n",
      "Epoch 97/100\n",
      "342/342 [==============================] - 1s 3ms/step - loss: nan\n",
      "Epoch 98/100\n",
      "342/342 [==============================] - 1s 3ms/step - loss: nan\n",
      "Epoch 99/100\n",
      "342/342 [==============================] - 1s 3ms/step - loss: nan\n",
      "Epoch 100/100\n",
      "342/342 [==============================] - 1s 3ms/step - loss: nan\n",
      "114/114 [==============================] - 0s 2ms/step\n"
     ]
    },
    {
     "ename": "ValueError",
     "evalue": "Input contains NaN.",
     "output_type": "error",
     "traceback": [
      "\u001B[1;31m---------------------------------------------------------------------------\u001B[0m",
      "\u001B[1;31mValueError\u001B[0m                                Traceback (most recent call last)",
      "Cell \u001B[1;32mIn[169], line 31\u001B[0m\n\u001B[0;32m     28\u001B[0m y_pred \u001B[38;5;241m=\u001B[39m model\u001B[38;5;241m.\u001B[39mpredict(X_test)\n\u001B[0;32m     30\u001B[0m \u001B[38;5;66;03m# Step 7: Evaluate the model\u001B[39;00m\n\u001B[1;32m---> 31\u001B[0m mse \u001B[38;5;241m=\u001B[39m \u001B[43mmean_squared_error\u001B[49m\u001B[43m(\u001B[49m\u001B[43my_test\u001B[49m\u001B[43m,\u001B[49m\u001B[43m \u001B[49m\u001B[43my_pred\u001B[49m\u001B[43m)\u001B[49m\n\u001B[0;32m     32\u001B[0m r2 \u001B[38;5;241m=\u001B[39m r2_score(y_test, y_pred)\n\u001B[0;32m     34\u001B[0m \u001B[38;5;28mprint\u001B[39m(\u001B[38;5;124m'\u001B[39m\u001B[38;5;124mROOT Mean Squared Error:\u001B[39m\u001B[38;5;124m'\u001B[39m, np\u001B[38;5;241m.\u001B[39msqrt(mse))\n",
      "File \u001B[1;32m~\\anaconda3\\lib\\site-packages\\sklearn\\metrics\\_regression.py:442\u001B[0m, in \u001B[0;36mmean_squared_error\u001B[1;34m(y_true, y_pred, sample_weight, multioutput, squared)\u001B[0m\n\u001B[0;32m    382\u001B[0m \u001B[38;5;28;01mdef\u001B[39;00m \u001B[38;5;21mmean_squared_error\u001B[39m(\n\u001B[0;32m    383\u001B[0m     y_true, y_pred, \u001B[38;5;241m*\u001B[39m, sample_weight\u001B[38;5;241m=\u001B[39m\u001B[38;5;28;01mNone\u001B[39;00m, multioutput\u001B[38;5;241m=\u001B[39m\u001B[38;5;124m\"\u001B[39m\u001B[38;5;124muniform_average\u001B[39m\u001B[38;5;124m\"\u001B[39m, squared\u001B[38;5;241m=\u001B[39m\u001B[38;5;28;01mTrue\u001B[39;00m\n\u001B[0;32m    384\u001B[0m ):\n\u001B[0;32m    385\u001B[0m     \u001B[38;5;124;03m\"\"\"Mean squared error regression loss.\u001B[39;00m\n\u001B[0;32m    386\u001B[0m \n\u001B[0;32m    387\u001B[0m \u001B[38;5;124;03m    Read more in the :ref:`User Guide <mean_squared_error>`.\u001B[39;00m\n\u001B[1;32m   (...)\u001B[0m\n\u001B[0;32m    440\u001B[0m \u001B[38;5;124;03m    0.825...\u001B[39;00m\n\u001B[0;32m    441\u001B[0m \u001B[38;5;124;03m    \"\"\"\u001B[39;00m\n\u001B[1;32m--> 442\u001B[0m     y_type, y_true, y_pred, multioutput \u001B[38;5;241m=\u001B[39m \u001B[43m_check_reg_targets\u001B[49m\u001B[43m(\u001B[49m\n\u001B[0;32m    443\u001B[0m \u001B[43m        \u001B[49m\u001B[43my_true\u001B[49m\u001B[43m,\u001B[49m\u001B[43m \u001B[49m\u001B[43my_pred\u001B[49m\u001B[43m,\u001B[49m\u001B[43m \u001B[49m\u001B[43mmultioutput\u001B[49m\n\u001B[0;32m    444\u001B[0m \u001B[43m    \u001B[49m\u001B[43m)\u001B[49m\n\u001B[0;32m    445\u001B[0m     check_consistent_length(y_true, y_pred, sample_weight)\n\u001B[0;32m    446\u001B[0m     output_errors \u001B[38;5;241m=\u001B[39m np\u001B[38;5;241m.\u001B[39maverage((y_true \u001B[38;5;241m-\u001B[39m y_pred) \u001B[38;5;241m*\u001B[39m\u001B[38;5;241m*\u001B[39m \u001B[38;5;241m2\u001B[39m, axis\u001B[38;5;241m=\u001B[39m\u001B[38;5;241m0\u001B[39m, weights\u001B[38;5;241m=\u001B[39msample_weight)\n",
      "File \u001B[1;32m~\\anaconda3\\lib\\site-packages\\sklearn\\metrics\\_regression.py:102\u001B[0m, in \u001B[0;36m_check_reg_targets\u001B[1;34m(y_true, y_pred, multioutput, dtype)\u001B[0m\n\u001B[0;32m    100\u001B[0m check_consistent_length(y_true, y_pred)\n\u001B[0;32m    101\u001B[0m y_true \u001B[38;5;241m=\u001B[39m check_array(y_true, ensure_2d\u001B[38;5;241m=\u001B[39m\u001B[38;5;28;01mFalse\u001B[39;00m, dtype\u001B[38;5;241m=\u001B[39mdtype)\n\u001B[1;32m--> 102\u001B[0m y_pred \u001B[38;5;241m=\u001B[39m \u001B[43mcheck_array\u001B[49m\u001B[43m(\u001B[49m\u001B[43my_pred\u001B[49m\u001B[43m,\u001B[49m\u001B[43m \u001B[49m\u001B[43mensure_2d\u001B[49m\u001B[38;5;241;43m=\u001B[39;49m\u001B[38;5;28;43;01mFalse\u001B[39;49;00m\u001B[43m,\u001B[49m\u001B[43m \u001B[49m\u001B[43mdtype\u001B[49m\u001B[38;5;241;43m=\u001B[39;49m\u001B[43mdtype\u001B[49m\u001B[43m)\u001B[49m\n\u001B[0;32m    104\u001B[0m \u001B[38;5;28;01mif\u001B[39;00m y_true\u001B[38;5;241m.\u001B[39mndim \u001B[38;5;241m==\u001B[39m \u001B[38;5;241m1\u001B[39m:\n\u001B[0;32m    105\u001B[0m     y_true \u001B[38;5;241m=\u001B[39m y_true\u001B[38;5;241m.\u001B[39mreshape((\u001B[38;5;241m-\u001B[39m\u001B[38;5;241m1\u001B[39m, \u001B[38;5;241m1\u001B[39m))\n",
      "File \u001B[1;32m~\\anaconda3\\lib\\site-packages\\sklearn\\utils\\validation.py:921\u001B[0m, in \u001B[0;36mcheck_array\u001B[1;34m(array, accept_sparse, accept_large_sparse, dtype, order, copy, force_all_finite, ensure_2d, allow_nd, ensure_min_samples, ensure_min_features, estimator, input_name)\u001B[0m\n\u001B[0;32m    915\u001B[0m         \u001B[38;5;28;01mraise\u001B[39;00m \u001B[38;5;167;01mValueError\u001B[39;00m(\n\u001B[0;32m    916\u001B[0m             \u001B[38;5;124m\"\u001B[39m\u001B[38;5;124mFound array with dim \u001B[39m\u001B[38;5;132;01m%d\u001B[39;00m\u001B[38;5;124m. \u001B[39m\u001B[38;5;132;01m%s\u001B[39;00m\u001B[38;5;124m expected <= 2.\u001B[39m\u001B[38;5;124m\"\u001B[39m\n\u001B[0;32m    917\u001B[0m             \u001B[38;5;241m%\u001B[39m (array\u001B[38;5;241m.\u001B[39mndim, estimator_name)\n\u001B[0;32m    918\u001B[0m         )\n\u001B[0;32m    920\u001B[0m     \u001B[38;5;28;01mif\u001B[39;00m force_all_finite:\n\u001B[1;32m--> 921\u001B[0m         \u001B[43m_assert_all_finite\u001B[49m\u001B[43m(\u001B[49m\n\u001B[0;32m    922\u001B[0m \u001B[43m            \u001B[49m\u001B[43marray\u001B[49m\u001B[43m,\u001B[49m\n\u001B[0;32m    923\u001B[0m \u001B[43m            \u001B[49m\u001B[43minput_name\u001B[49m\u001B[38;5;241;43m=\u001B[39;49m\u001B[43minput_name\u001B[49m\u001B[43m,\u001B[49m\n\u001B[0;32m    924\u001B[0m \u001B[43m            \u001B[49m\u001B[43mestimator_name\u001B[49m\u001B[38;5;241;43m=\u001B[39;49m\u001B[43mestimator_name\u001B[49m\u001B[43m,\u001B[49m\n\u001B[0;32m    925\u001B[0m \u001B[43m            \u001B[49m\u001B[43mallow_nan\u001B[49m\u001B[38;5;241;43m=\u001B[39;49m\u001B[43mforce_all_finite\u001B[49m\u001B[43m \u001B[49m\u001B[38;5;241;43m==\u001B[39;49m\u001B[43m \u001B[49m\u001B[38;5;124;43m\"\u001B[39;49m\u001B[38;5;124;43mallow-nan\u001B[39;49m\u001B[38;5;124;43m\"\u001B[39;49m\u001B[43m,\u001B[49m\n\u001B[0;32m    926\u001B[0m \u001B[43m        \u001B[49m\u001B[43m)\u001B[49m\n\u001B[0;32m    928\u001B[0m \u001B[38;5;28;01mif\u001B[39;00m ensure_min_samples \u001B[38;5;241m>\u001B[39m \u001B[38;5;241m0\u001B[39m:\n\u001B[0;32m    929\u001B[0m     n_samples \u001B[38;5;241m=\u001B[39m _num_samples(array)\n",
      "File \u001B[1;32m~\\anaconda3\\lib\\site-packages\\sklearn\\utils\\validation.py:161\u001B[0m, in \u001B[0;36m_assert_all_finite\u001B[1;34m(X, allow_nan, msg_dtype, estimator_name, input_name)\u001B[0m\n\u001B[0;32m    144\u001B[0m \u001B[38;5;28;01mif\u001B[39;00m estimator_name \u001B[38;5;129;01mand\u001B[39;00m input_name \u001B[38;5;241m==\u001B[39m \u001B[38;5;124m\"\u001B[39m\u001B[38;5;124mX\u001B[39m\u001B[38;5;124m\"\u001B[39m \u001B[38;5;129;01mand\u001B[39;00m has_nan_error:\n\u001B[0;32m    145\u001B[0m     \u001B[38;5;66;03m# Improve the error message on how to handle missing values in\u001B[39;00m\n\u001B[0;32m    146\u001B[0m     \u001B[38;5;66;03m# scikit-learn.\u001B[39;00m\n\u001B[0;32m    147\u001B[0m     msg_err \u001B[38;5;241m+\u001B[39m\u001B[38;5;241m=\u001B[39m (\n\u001B[0;32m    148\u001B[0m         \u001B[38;5;124mf\u001B[39m\u001B[38;5;124m\"\u001B[39m\u001B[38;5;130;01m\\n\u001B[39;00m\u001B[38;5;132;01m{\u001B[39;00mestimator_name\u001B[38;5;132;01m}\u001B[39;00m\u001B[38;5;124m does not accept missing values\u001B[39m\u001B[38;5;124m\"\u001B[39m\n\u001B[0;32m    149\u001B[0m         \u001B[38;5;124m\"\u001B[39m\u001B[38;5;124m encoded as NaN natively. For supervised learning, you might want\u001B[39m\u001B[38;5;124m\"\u001B[39m\n\u001B[1;32m   (...)\u001B[0m\n\u001B[0;32m    159\u001B[0m         \u001B[38;5;124m\"\u001B[39m\u001B[38;5;124m#estimators-that-handle-nan-values\u001B[39m\u001B[38;5;124m\"\u001B[39m\n\u001B[0;32m    160\u001B[0m     )\n\u001B[1;32m--> 161\u001B[0m \u001B[38;5;28;01mraise\u001B[39;00m \u001B[38;5;167;01mValueError\u001B[39;00m(msg_err)\n",
      "\u001B[1;31mValueError\u001B[0m: Input contains NaN."
     ]
    }
   ],
   "source": [
    "import numpy as np\n",
    "import tensorflow as tf\n",
    "from tensorflow import keras\n",
    "from sklearn.model_selection import train_test_split\n",
    "from sklearn.metrics import mean_squared_error, r2_score\n",
    "\n",
    "# Step 1: Select the features and target variable\n",
    "X = updated_df.iloc[:, 8:].values\n",
    "y = updated_df['average_Tc'].values\n",
    "\n",
    "# Step 2: Split the data into training and testing sets\n",
    "X_train, X_test, y_train, y_test = train_test_split(X, y, test_size=0.25, random_state=33)\n",
    "\n",
    "# Step 3: Create a neural network model\n",
    "model = keras.Sequential([\n",
    "  keras.layers.Dense(32, activation='relu', input_shape=(X_train.shape[1],)),\n",
    "  keras.layers.Dense(16, activation='relu'),\n",
    "  keras.layers.Dense(1)\n",
    "])\n",
    "\n",
    "# Step 4: Compile the model\n",
    "model.compile(optimizer='adam', loss='mean_squared_error')\n",
    "\n",
    "# Step 5: Train the model on the training data\n",
    "model.fit(X_train, y_train, epochs=100, batch_size=32)\n",
    "\n",
    "# Step 6: Make predictions on the testing data\n",
    "y_pred = model.predict(X_test)\n",
    "\n",
    "# Step 7: Evaluate the model\n",
    "mse = mean_squared_error(y_test, y_pred)\n",
    "r2 = r2_score(y_test, y_pred)\n",
    "\n",
    "print('ROOT Mean Squared Error:', np.sqrt(mse))\n",
    "print('R-squared Score:', r2)\n"
   ],
   "metadata": {
    "collapsed": false,
    "ExecuteTime": {
     "end_time": "2023-07-05T05:34:49.993563600Z",
     "start_time": "2023-07-05T05:32:41.101172600Z"
    }
   }
  },
  {
   "cell_type": "code",
   "execution_count": 165,
   "outputs": [
    {
     "data": {
      "text/plain": "<Figure size 1000x600 with 1 Axes>",
      "image/png": "[encoded data removed]"
     },
     "metadata": {},
     "output_type": "display_data"
    }
   ],
   "source": [
    "# Plot the feature importances of the model\n",
    "# Get feature importances\n",
    "importance = model.feature_importances_\n",
    "\n",
    "# Create a DataFrame to store feature importances with column names\n",
    "feature_importances = pd.DataFrame({'Feature': feature_columns, 'Importance': importance})\n",
    "\n",
    "# Sort the DataFrame by importance in descending order\n",
    "sorted_feature_importances = feature_importances.sort_values(by='Importance', ascending=False)\n",
    "\n",
    "# Plot the top contributors\n",
    "plt.figure(figsize=(10, 6))\n",
    "plt.bar(sorted_feature_importances.head(20)['Feature'], sorted_feature_importances.head(20)['Importance'])\n",
    "plt.xlabel('Feature')\n",
    "plt.ylabel('Importance')\n",
    "plt.title('Top Contributors')\n",
    "plt.xticks(rotation=90)\n",
    "plt.show()"
   ],
   "metadata": {
    "collapsed": false,
    "ExecuteTime": {
     "end_time": "2023-07-05T05:09:59.160461300Z",
     "start_time": "2023-07-05T05:09:58.394766500Z"
    }
   }
  },
  {
   "cell_type": "code",
   "execution_count": null,
   "outputs": [],
   "source": [
    "# Potential direction 1: make similar software to Hamidieh that will predict Tc by inputting chemical formula (I'd need to decompose into dict, then get features, then run the model\n",
    "# 2: Get more element-data.\n",
    "# 3: Create double entries for entry_count\n",
    "# 4: Tune the XGBoost model\n",
    "# 5: Create a neural network model"
   ],
   "metadata": {
    "collapsed": false
   }
  },
  {
   "cell_type": "code",
   "execution_count": null,
   "outputs": [],
   "source": [],
   "metadata": {
    "collapsed": false
   }
  },
  {
   "cell_type": "raw",
   "source": [
    "END OF WHAT I DID, what follows is test code."
   ],
   "metadata": {
    "collapsed": false
   }
  },
  {
   "cell_type": "code",
   "execution_count": null,
   "outputs": [],
   "source": [
    "# Terrible way of being able to see the formula a guess and the real Tc\n",
    "# X = updated_df.iloc[14100:14150,8:].values\n",
    "# y = updated_df.iloc[14100:14150]['average_Tc'].values\n",
    "# names = updated_df.iloc[14100:14150]['supercon_formula'].values\n",
    "#\n",
    "# predictions = model.predict(X)\n",
    "# #\n",
    "#\n",
    "# for i, prediction in enumerate(predictions):\n",
    "#    print(f\"Formula: {names[i]}, Predicted Tc: {prediction}, Real Tc: {y[i]}\")"
   ],
   "metadata": {
    "collapsed": false
   }
  },
  {
   "cell_type": "code",
   "execution_count": null,
   "id": "90bcd620",
   "metadata": {
    "ExecuteTime": {
     "start_time": "2023-06-27T15:27:46.943739800Z"
    },
    "id": "iqxaQqHEBcB4"
   },
   "outputs": [],
   "source": [
    "from numpy import nanmean, nanstd, log, ptp\n",
    "from scipy.stats import gmean\n",
    "\n",
    "# We are going to create a 3D space with coordinates (material_name, property, feature)\n",
    "data = np.empty((9, 36, 14070), dtype=object)\n",
    "data.fill(None)\n",
    "\n",
    "# Get intermediate variables to calculate features\n",
    "elem_row = unique_mat_df_exploded.iloc[:, 5:86]\n",
    "mask = elem_row.notna()\n",
    "n_atoms = np.nansum(elem_row.values, axis=1)\n",
    "n_elements = np.sum(mask, axis=1)\n",
    "p_list = elem_row.values / n_atoms[:, np.newaxis]\n",
    "\n",
    "\n",
    "# # Iterate over every material\n",
    "# for material_index, row in unique_mat_df_exploded.iterrows():\n",
    "#     material_formula = row[0]\n",
    "\n",
    "#     t_list = element_data[element_data['Element'].isin(elem_row.loc[material_index][mask.loc[material_index]].index)][element_data.columns[1:]].values.flatten()\n",
    "#     w_list = t_list / np.sum(t_list)\n",
    "\n",
    "#     data[0, :, material_index] = nanmean(t_list, axis=0)\n",
    "#     data[1, :, material_index] = np.dot(t_list, p_list[material_index])\n",
    "#     data[2, :, material_index] = gmean(t_list)\n",
    "#     data[3, :, material_index] = np.prod(np.power(t_list, p_list[material_index]))\n",
    "#     data[4, :, material_index] = -np.sum(w_list * np.log(w_list))\n",
    "#     data[5, :, material_index] = ptp(t_list)\n",
    "#     data[6, :, material_index] = ptp(t_list * p_list[material_index])\n",
    "#     data[7, :, material_index] = nanstd(t_list, ddof=1)\n",
    "#     data[8, :, material_index] = DescrStatsW(t_list, weights=p_list[material_index], ddof=1).std\n"
   ]
  },
  {
   "cell_type": "code",
   "execution_count": null,
   "id": "f7c1bd6e",
   "metadata": {
    "ExecuteTime": {
     "start_time": "2023-06-27T15:27:46.947033900Z"
    },
    "id": "2XcaKIStXm23"
   },
   "outputs": [],
   "source": [
    "# Example Series with NaN values\n",
    "series = pd.Series([1, 2, np.nan, 4, 5, 6, 7, np.nan, 9, 10, np.nan, 12])\n",
    "\n",
    "# Create a Boolean mask for non-null entries\n",
    "mask = series.notna()\n",
    "\n",
    "# Iterate over the non-null entries preserving the original index\n",
    "for index, value in series[mask].iteritems():\n",
    "    print(f\"Index: {index}, Value: {value}\")"
   ]
  },
  {
   "cell_type": "code",
   "execution_count": null,
   "id": "38c5fe33",
   "metadata": {
    "ExecuteTime": {
     "start_time": "2023-06-27T15:27:46.951322200Z"
    },
    "id": "Zt3T46mUhiJE"
   },
   "outputs": [],
   "source": [
    "row = unique_mat_df_exploded.iloc[1]\n",
    "row = row[5:86]\n",
    "mask = row.notna()\n",
    "print(len(row[mask]))\n",
    "atom_name_list = []\n",
    "p_list = []\n",
    "\n",
    "for index1, value1 in elem_row[mask].iteritems():\n",
    "  atom_name_list.append(index1)\n",
    "  #p_list.append((value1)/(n_atoms))\n",
    "\n",
    "  # Iterate over every *property*\n",
    "  for property_index, property_name in enumerate(element_data.columns):\n",
    "    print(property_name)\n",
    "    print(property_index)\n",
    "    t_list = []\n",
    "\n",
    "    # Go through the atoms\n",
    "    for index2, value2 in elem_row[mask].iteritems():\n",
    "\n",
    "      # Find the row where 'Element' matches the value of index2\n",
    "      element_row = element_data[element_data['Element'] == index2]\n",
    "\n",
    "      # Extract the value from the specified column (property_name)\n",
    "      property_value = element_row[property_name].values[0]\n",
    "\n",
    "      # Append the property value to t_list\n",
    "      t_list.append(property_value)\n",
    "\n",
    "    p_list = np.array(p_list)\n",
    "    t_list = np.array(t_list)\n",
    "\n",
    "    print(t_list)\n",
    "    w_list = t_list / np.sum(t_list) # Could be wrong"
   ]
  },
  {
   "cell_type": "code",
   "execution_count": null,
   "id": "25a3e3e7",
   "metadata": {
    "ExecuteTime": {
     "start_time": "2023-06-27T15:27:46.955405800Z"
    },
    "id": "NWR4lTpSfANf"
   },
   "outputs": [],
   "source": [
    "t_list = np.array([1,2,3,3,4])\n",
    "p_list = np.array([53,4,83,2,3,1])\n",
    "print(t_list / np.sum(t_list))"
   ]
  },
  {
   "cell_type": "code",
   "execution_count": null,
   "id": "4aa4f3e1",
   "metadata": {
    "ExecuteTime": {
     "start_time": "2023-06-27T15:27:46.960061100Z"
    }
   },
   "outputs": [],
   "source": []
  }
 ],
 "metadata": {
  "kernelspec": {
   "display_name": "Python 3 (ipykernel)",
   "language": "python",
   "name": "python3"
  },
  "language_info": {
   "codemirror_mode": {
    "name": "ipython",
    "version": 3
   },
   "file_extension": ".py",
   "mimetype": "text/x-python",
   "name": "python",
   "nbconvert_exporter": "python",
   "pygments_lexer": "ipython3",
   "version": "3.10.9"
  }
 },
 "nbformat": 4,
 "nbformat_minor": 5
}
