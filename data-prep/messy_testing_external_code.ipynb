{
 "cells": [
  {
   "cell_type": "markdown",
   "metadata": {
    "id": "DaDOfSztC-p5"
   },
   "source": [
    "This in an unkempt mess of libraries and other scholar's code (dries) tried."
   ]
  },
  {
   "cell_type": "markdown",
   "metadata": {
    "id": "yhIEh3m3HBz4"
   },
   "source": [
    "# Import stuff"
   ]
  },
  {
   "cell_type": "code",
   "execution_count": 1,
   "metadata": {
    "colab": {
     "base_uri": "https://localhost:8080/"
    },
    "executionInfo": {
     "elapsed": 22366,
     "status": "ok",
     "timestamp": 1687535906899,
     "user": {
      "displayName": "Dries Rooryck",
      "userId": "11199910871077202539"
     },
     "user_tz": 240
    },
    "id": "ZwsO63BoCii2",
    "outputId": "88fbf069-001c-470a-b1d5-bd8669cf621d"
   },
   "outputs": [
    {
     "name": "stdout",
     "output_type": "stream",
     "text": [
      "Requirement already satisfied: pymatgen in c:\\users\\droor\\appdata\\roaming\\python\\python39\\site-packages (2023.5.31)\n",
      "Requirement already satisfied: matplotlib>=1.5 in c:\\programdata\\anaconda3\\lib\\site-packages (from pymatgen) (3.7.1)\n",
      "Requirement already satisfied: monty>=3.0.2 in c:\\users\\droor\\appdata\\roaming\\python\\python39\\site-packages (from pymatgen) (2023.5.8)\n",
      "Requirement already satisfied: mp-api>=0.27.3 in c:\\users\\droor\\appdata\\roaming\\python\\python39\\site-packages (from pymatgen) (0.33.3)\n",
      "Requirement already satisfied: networkx>=2.2 in c:\\programdata\\anaconda3\\lib\\site-packages (from pymatgen) (2.8.4)\n",
      "Requirement already satisfied: numpy>=1.20.1 in c:\\programdata\\anaconda3\\lib\\site-packages (from pymatgen) (1.23.5)\n",
      "Requirement already satisfied: palettable>=3.1.1 in c:\\users\\droor\\appdata\\roaming\\python\\python39\\site-packages (from pymatgen) (3.3.3)\n",
      "Requirement already satisfied: pandas in c:\\programdata\\anaconda3\\lib\\site-packages (from pymatgen) (1.4.2)\n",
      "Requirement already satisfied: plotly>=4.5.0 in c:\\programdata\\anaconda3\\lib\\site-packages (from pymatgen) (5.9.0)\n",
      "Requirement already satisfied: pybtex in c:\\users\\droor\\appdata\\roaming\\python\\python39\\site-packages (from pymatgen) (0.24.0)\n",
      "Requirement already satisfied: requests in c:\\programdata\\anaconda3\\lib\\site-packages (from pymatgen) (2.29.0)\n",
      "Requirement already satisfied: ruamel.yaml>=0.17.0 in c:\\users\\droor\\appdata\\roaming\\python\\python39\\site-packages (from pymatgen) (0.17.32)\n",
      "Requirement already satisfied: scipy>=1.5.0 in c:\\programdata\\anaconda3\\lib\\site-packages (from pymatgen) (1.10.1)\n",
      "Requirement already satisfied: spglib>=2.0.2 in c:\\users\\droor\\appdata\\roaming\\python\\python39\\site-packages (from pymatgen) (2.0.2)\n",
      "Requirement already satisfied: sympy in c:\\programdata\\anaconda3\\lib\\site-packages (from pymatgen) (1.11.1)\n",
      "Requirement already satisfied: tabulate in c:\\programdata\\anaconda3\\lib\\site-packages (from pymatgen) (0.8.10)\n",
      "Requirement already satisfied: tqdm in c:\\programdata\\anaconda3\\lib\\site-packages (from pymatgen) (4.65.0)\n",
      "Requirement already satisfied: uncertainties>=3.1.4 in c:\\users\\droor\\appdata\\roaming\\python\\python39\\site-packages (from pymatgen) (3.1.7)\n",
      "Requirement already satisfied: contourpy>=1.0.1 in c:\\programdata\\anaconda3\\lib\\site-packages (from matplotlib>=1.5->pymatgen) (1.0.5)\n",
      "Requirement already satisfied: cycler>=0.10 in c:\\programdata\\anaconda3\\lib\\site-packages (from matplotlib>=1.5->pymatgen) (0.11.0)\n",
      "Requirement already satisfied: fonttools>=4.22.0 in c:\\programdata\\anaconda3\\lib\\site-packages (from matplotlib>=1.5->pymatgen) (4.25.0)\n",
      "Requirement already satisfied: kiwisolver>=1.0.1 in c:\\programdata\\anaconda3\\lib\\site-packages (from matplotlib>=1.5->pymatgen) (1.4.4)\n",
      "Requirement already satisfied: packaging>=20.0 in c:\\programdata\\anaconda3\\lib\\site-packages (from matplotlib>=1.5->pymatgen) (23.0)\n",
      "Requirement already satisfied: pillow>=6.2.0 in c:\\programdata\\anaconda3\\lib\\site-packages (from matplotlib>=1.5->pymatgen) (9.4.0)\n",
      "Requirement already satisfied: pyparsing>=2.3.1 in c:\\programdata\\anaconda3\\lib\\site-packages (from matplotlib>=1.5->pymatgen) (3.0.9)\n",
      "Requirement already satisfied: python-dateutil>=2.7 in c:\\programdata\\anaconda3\\lib\\site-packages (from matplotlib>=1.5->pymatgen) (2.8.2)\n",
      "Requirement already satisfied: importlib-resources>=3.2.0 in c:\\programdata\\anaconda3\\lib\\site-packages (from matplotlib>=1.5->pymatgen) (5.2.0)\n",
      "Requirement already satisfied: setuptools in c:\\programdata\\anaconda3\\lib\\site-packages (from mp-api>=0.27.3->pymatgen) (67.8.0)\n",
      "Requirement already satisfied: msgpack in c:\\programdata\\anaconda3\\lib\\site-packages (from mp-api>=0.27.3->pymatgen) (1.0.3)\n",
      "Requirement already satisfied: typing-extensions>=3.7.4.1 in c:\\programdata\\anaconda3\\lib\\site-packages (from mp-api>=0.27.3->pymatgen) (4.6.3)\n",
      "Requirement already satisfied: emmet-core>=0.54.0 in c:\\users\\droor\\appdata\\roaming\\python\\python39\\site-packages (from mp-api>=0.27.3->pymatgen) (0.57.1)\n",
      "Requirement already satisfied: tenacity>=6.2.0 in c:\\programdata\\anaconda3\\lib\\site-packages (from plotly>=4.5.0->pymatgen) (8.2.2)\n",
      "Requirement already satisfied: charset-normalizer<4,>=2 in c:\\programdata\\anaconda3\\lib\\site-packages (from requests->pymatgen) (2.0.4)\n",
      "Requirement already satisfied: idna<4,>=2.5 in c:\\programdata\\anaconda3\\lib\\site-packages (from requests->pymatgen) (3.4)\n",
      "Requirement already satisfied: urllib3<1.27,>=1.21.1 in c:\\programdata\\anaconda3\\lib\\site-packages (from requests->pymatgen) (1.26.16)\n",
      "Requirement already satisfied: certifi>=2017.4.17 in c:\\programdata\\anaconda3\\lib\\site-packages (from requests->pymatgen) (2023.5.7)\n",
      "Requirement already satisfied: ruamel.yaml.clib>=0.2.7 in c:\\users\\droor\\appdata\\roaming\\python\\python39\\site-packages (from ruamel.yaml>=0.17.0->pymatgen) (0.2.7)\n",
      "Requirement already satisfied: future in c:\\programdata\\anaconda3\\lib\\site-packages (from uncertainties>=3.1.4->pymatgen) (0.18.3)\n",
      "Requirement already satisfied: pytz>=2020.1 in c:\\programdata\\anaconda3\\lib\\site-packages (from pandas->pymatgen) (2022.7)\n",
      "Requirement already satisfied: PyYAML>=3.01 in c:\\programdata\\anaconda3\\lib\\site-packages (from pybtex->pymatgen) (6.0)\n",
      "Requirement already satisfied: latexcodec>=1.0.4 in c:\\users\\droor\\appdata\\roaming\\python\\python39\\site-packages (from pybtex->pymatgen) (2.0.1)\n",
      "Requirement already satisfied: six in c:\\programdata\\anaconda3\\lib\\site-packages (from pybtex->pymatgen) (1.16.0)\n",
      "Requirement already satisfied: mpmath>=0.19 in c:\\programdata\\anaconda3\\lib\\site-packages (from sympy->pymatgen) (1.2.1)\n",
      "Requirement already satisfied: colorama in c:\\programdata\\anaconda3\\lib\\site-packages (from tqdm->pymatgen) (0.4.6)\n",
      "Requirement already satisfied: pydantic>=1.10.2 in c:\\users\\droor\\appdata\\roaming\\python\\python39\\site-packages (from emmet-core>=0.54.0->mp-api>=0.27.3->pymatgen) (1.10.9)\n",
      "Requirement already satisfied: zipp>=3.1.0 in c:\\programdata\\anaconda3\\lib\\site-packages (from importlib-resources>=3.2.0->matplotlib>=1.5->pymatgen) (3.11.0)\n",
      "Requirement already satisfied: mp_api in c:\\users\\droor\\appdata\\roaming\\python\\python39\\site-packages (0.33.3)\n",
      "Requirement already satisfied: setuptools in c:\\programdata\\anaconda3\\lib\\site-packages (from mp_api) (67.8.0)\n",
      "Requirement already satisfied: msgpack in c:\\programdata\\anaconda3\\lib\\site-packages (from mp_api) (1.0.3)\n",
      "Requirement already satisfied: pymatgen>=2022.3.7 in c:\\users\\droor\\appdata\\roaming\\python\\python39\\site-packages (from mp_api) (2023.5.31)\n",
      "Requirement already satisfied: typing-extensions>=3.7.4.1 in c:\\programdata\\anaconda3\\lib\\site-packages (from mp_api) (4.6.3)\n",
      "Requirement already satisfied: requests>=2.23.0 in c:\\programdata\\anaconda3\\lib\\site-packages (from mp_api) (2.29.0)\n",
      "Requirement already satisfied: monty>=2021.3.12 in c:\\users\\droor\\appdata\\roaming\\python\\python39\\site-packages (from mp_api) (2023.5.8)\n",
      "Requirement already satisfied: emmet-core>=0.54.0 in c:\\users\\droor\\appdata\\roaming\\python\\python39\\site-packages (from mp_api) (0.57.1)\n",
      "Requirement already satisfied: pydantic>=1.10.2 in c:\\users\\droor\\appdata\\roaming\\python\\python39\\site-packages (from emmet-core>=0.54.0->mp_api) (1.10.9)\n",
      "Requirement already satisfied: pybtex~=0.24 in c:\\users\\droor\\appdata\\roaming\\python\\python39\\site-packages (from emmet-core>=0.54.0->mp_api) (0.24.0)\n",
      "Requirement already satisfied: spglib>=2.0.1 in c:\\users\\droor\\appdata\\roaming\\python\\python39\\site-packages (from emmet-core>=0.54.0->mp_api) (2.0.2)\n",
      "Requirement already satisfied: matplotlib>=1.5 in c:\\programdata\\anaconda3\\lib\\site-packages (from pymatgen>=2022.3.7->mp_api) (3.7.1)\n",
      "Requirement already satisfied: networkx>=2.2 in c:\\programdata\\anaconda3\\lib\\site-packages (from pymatgen>=2022.3.7->mp_api) (2.8.4)\n",
      "Requirement already satisfied: numpy>=1.20.1 in c:\\programdata\\anaconda3\\lib\\site-packages (from pymatgen>=2022.3.7->mp_api) (1.23.5)\n",
      "Requirement already satisfied: palettable>=3.1.1 in c:\\users\\droor\\appdata\\roaming\\python\\python39\\site-packages (from pymatgen>=2022.3.7->mp_api) (3.3.3)\n",
      "Requirement already satisfied: pandas in c:\\programdata\\anaconda3\\lib\\site-packages (from pymatgen>=2022.3.7->mp_api) (1.4.2)\n",
      "Requirement already satisfied: plotly>=4.5.0 in c:\\programdata\\anaconda3\\lib\\site-packages (from pymatgen>=2022.3.7->mp_api) (5.9.0)\n",
      "Requirement already satisfied: ruamel.yaml>=0.17.0 in c:\\users\\droor\\appdata\\roaming\\python\\python39\\site-packages (from pymatgen>=2022.3.7->mp_api) (0.17.32)\n",
      "Requirement already satisfied: scipy>=1.5.0 in c:\\programdata\\anaconda3\\lib\\site-packages (from pymatgen>=2022.3.7->mp_api) (1.10.1)\n",
      "Requirement already satisfied: sympy in c:\\programdata\\anaconda3\\lib\\site-packages (from pymatgen>=2022.3.7->mp_api) (1.11.1)\n",
      "Requirement already satisfied: tabulate in c:\\programdata\\anaconda3\\lib\\site-packages (from pymatgen>=2022.3.7->mp_api) (0.8.10)\n",
      "Requirement already satisfied: tqdm in c:\\programdata\\anaconda3\\lib\\site-packages (from pymatgen>=2022.3.7->mp_api) (4.65.0)\n",
      "Requirement already satisfied: uncertainties>=3.1.4 in c:\\users\\droor\\appdata\\roaming\\python\\python39\\site-packages (from pymatgen>=2022.3.7->mp_api) (3.1.7)\n",
      "Requirement already satisfied: charset-normalizer<4,>=2 in c:\\programdata\\anaconda3\\lib\\site-packages (from requests>=2.23.0->mp_api) (2.0.4)\n",
      "Requirement already satisfied: idna<4,>=2.5 in c:\\programdata\\anaconda3\\lib\\site-packages (from requests>=2.23.0->mp_api) (3.4)\n",
      "Requirement already satisfied: urllib3<1.27,>=1.21.1 in c:\\programdata\\anaconda3\\lib\\site-packages (from requests>=2.23.0->mp_api) (1.26.16)\n",
      "Requirement already satisfied: certifi>=2017.4.17 in c:\\programdata\\anaconda3\\lib\\site-packages (from requests>=2.23.0->mp_api) (2023.5.7)\n",
      "Requirement already satisfied: contourpy>=1.0.1 in c:\\programdata\\anaconda3\\lib\\site-packages (from matplotlib>=1.5->pymatgen>=2022.3.7->mp_api) (1.0.5)\n",
      "Requirement already satisfied: cycler>=0.10 in c:\\programdata\\anaconda3\\lib\\site-packages (from matplotlib>=1.5->pymatgen>=2022.3.7->mp_api) (0.11.0)\n",
      "Requirement already satisfied: fonttools>=4.22.0 in c:\\programdata\\anaconda3\\lib\\site-packages (from matplotlib>=1.5->pymatgen>=2022.3.7->mp_api) (4.25.0)\n",
      "Requirement already satisfied: kiwisolver>=1.0.1 in c:\\programdata\\anaconda3\\lib\\site-packages (from matplotlib>=1.5->pymatgen>=2022.3.7->mp_api) (1.4.4)\n",
      "Requirement already satisfied: packaging>=20.0 in c:\\programdata\\anaconda3\\lib\\site-packages (from matplotlib>=1.5->pymatgen>=2022.3.7->mp_api) (23.0)\n",
      "Requirement already satisfied: pillow>=6.2.0 in c:\\programdata\\anaconda3\\lib\\site-packages (from matplotlib>=1.5->pymatgen>=2022.3.7->mp_api) (9.4.0)\n",
      "Requirement already satisfied: pyparsing>=2.3.1 in c:\\programdata\\anaconda3\\lib\\site-packages (from matplotlib>=1.5->pymatgen>=2022.3.7->mp_api) (3.0.9)\n",
      "Requirement already satisfied: python-dateutil>=2.7 in c:\\programdata\\anaconda3\\lib\\site-packages (from matplotlib>=1.5->pymatgen>=2022.3.7->mp_api) (2.8.2)\n",
      "Requirement already satisfied: importlib-resources>=3.2.0 in c:\\programdata\\anaconda3\\lib\\site-packages (from matplotlib>=1.5->pymatgen>=2022.3.7->mp_api) (5.2.0)\n",
      "Requirement already satisfied: tenacity>=6.2.0 in c:\\programdata\\anaconda3\\lib\\site-packages (from plotly>=4.5.0->pymatgen>=2022.3.7->mp_api) (8.2.2)\n",
      "Requirement already satisfied: PyYAML>=3.01 in c:\\programdata\\anaconda3\\lib\\site-packages (from pybtex~=0.24->emmet-core>=0.54.0->mp_api) (6.0)\n",
      "Requirement already satisfied: latexcodec>=1.0.4 in c:\\users\\droor\\appdata\\roaming\\python\\python39\\site-packages (from pybtex~=0.24->emmet-core>=0.54.0->mp_api) (2.0.1)\n",
      "Requirement already satisfied: six in c:\\programdata\\anaconda3\\lib\\site-packages (from pybtex~=0.24->emmet-core>=0.54.0->mp_api) (1.16.0)\n",
      "Requirement already satisfied: ruamel.yaml.clib>=0.2.7 in c:\\users\\droor\\appdata\\roaming\\python\\python39\\site-packages (from ruamel.yaml>=0.17.0->pymatgen>=2022.3.7->mp_api) (0.2.7)\n",
      "Requirement already satisfied: future in c:\\programdata\\anaconda3\\lib\\site-packages (from uncertainties>=3.1.4->pymatgen>=2022.3.7->mp_api) (0.18.3)\n",
      "Requirement already satisfied: pytz>=2020.1 in c:\\programdata\\anaconda3\\lib\\site-packages (from pandas->pymatgen>=2022.3.7->mp_api) (2022.7)\n",
      "Requirement already satisfied: mpmath>=0.19 in c:\\programdata\\anaconda3\\lib\\site-packages (from sympy->pymatgen>=2022.3.7->mp_api) (1.2.1)\n",
      "Requirement already satisfied: colorama in c:\\programdata\\anaconda3\\lib\\site-packages (from tqdm->pymatgen>=2022.3.7->mp_api) (0.4.6)\n",
      "Requirement already satisfied: zipp>=3.1.0 in c:\\programdata\\anaconda3\\lib\\site-packages (from importlib-resources>=3.2.0->matplotlib>=1.5->pymatgen>=2022.3.7->mp_api) (3.11.0)\n"
     ]
    }
   ],
   "source": [
    "!pip install pymatgen\n",
    "!pip install mp_api"
   ]
  },
  {
   "cell_type": "code",
   "execution_count": 2,
   "metadata": {
    "executionInfo": {
     "elapsed": 16834,
     "status": "ok",
     "timestamp": 1687535923726,
     "user": {
      "displayName": "Dries Rooryck",
      "userId": "11199910871077202539"
     },
     "user_tz": 240
    },
    "id": "VETiSkBu7ezi"
   },
   "outputs": [],
   "source": [
    "import pymatgen as pm\n",
    "from pymatgen.core.structure import Composition\n",
    "from mp_api.client import MPRester\n",
    "import pandas as pd"
   ]
  },
  {
   "cell_type": "markdown",
   "metadata": {
    "id": "jxr7JBGEC5jg"
   },
   "source": [
    "# pymatgen"
   ]
  },
  {
   "cell_type": "code",
   "execution_count": 3,
   "metadata": {
    "executionInfo": {
     "elapsed": 19,
     "status": "ok",
     "timestamp": 1687535923727,
     "user": {
      "displayName": "Dries Rooryck",
      "userId": "11199910871077202539"
     },
     "user_tz": 240
    },
    "id": "Zva0fI21C0Tr"
   },
   "outputs": [],
   "source": [
    "# Composition.reduced_formula('NaCl')"
   ]
  },
  {
   "cell_type": "markdown",
   "metadata": {
    "id": "-pQp-9tuGU9v"
   },
   "source": [
    "# ThermoDoc."
   ]
  },
  {
   "cell_type": "code",
   "execution_count": 4,
   "metadata": {
    "executionInfo": {
     "elapsed": 200,
     "status": "ok",
     "timestamp": 1687536414364,
     "user": {
      "displayName": "Dries Rooryck",
      "userId": "11199910871077202539"
     },
     "user_tz": 240
    },
    "id": "rF7HPXQcGWh0"
   },
   "outputs": [],
   "source": [
    "# # EXAMPLE of using formula elements:\n",
    "# with MPRester(\"KW2m7Cp4Xm5qNFwmnp2Xas8kfB8ILxuy\") as mpr:\n",
    "#   info = mpr.thermo.search(chemsys=['Na', 'Cl'])\n",
    "#   print(info[0])"
   ]
  },
  {
   "cell_type": "code",
   "execution_count": null,
   "metadata": {
    "executionInfo": {
     "elapsed": 9,
     "status": "ok",
     "timestamp": 1687536414618,
     "user": {
      "displayName": "Dries Rooryck",
      "userId": "11199910871077202539"
     },
     "user_tz": 240
    },
    "id": "RwZ9qqnPG43Z"
   },
   "outputs": [],
   "source": []
  },
  {
   "cell_type": "markdown",
   "metadata": {
    "id": "yX9PiMgUOIYG"
   },
   "source": [
    "# Matminer"
   ]
  },
  {
   "cell_type": "code",
   "execution_count": 5,
   "metadata": {
    "colab": {
     "base_uri": "https://localhost:8080/"
    },
    "executionInfo": {
     "elapsed": 5792,
     "status": "ok",
     "timestamp": 1687536420402,
     "user": {
      "displayName": "Dries Rooryck",
      "userId": "11199910871077202539"
     },
     "user_tz": 240
    },
    "id": "_Yr9cOR1OqC6",
    "outputId": "5c512c7b-bfa1-46b4-c4ef-51c93ba84b40"
   },
   "outputs": [
    {
     "name": "stdout",
     "output_type": "stream",
     "text": [
      "Requirement already satisfied: matminer in c:\\users\\droor\\appdata\\roaming\\python\\python39\\site-packages (0.8.0)\n",
      "Requirement already satisfied: numpy>=1.20.1 in c:\\programdata\\anaconda3\\lib\\site-packages (from matminer) (1.23.5)\n",
      "Requirement already satisfied: requests in c:\\programdata\\anaconda3\\lib\\site-packages (from matminer) (2.29.0)\n",
      "Requirement already satisfied: pandas in c:\\programdata\\anaconda3\\lib\\site-packages (from matminer) (1.4.2)\n",
      "Requirement already satisfied: tqdm in c:\\programdata\\anaconda3\\lib\\site-packages (from matminer) (4.65.0)\n",
      "Requirement already satisfied: pymongo in c:\\users\\droor\\appdata\\roaming\\python\\python39\\site-packages (from matminer) (4.4.0)\n",
      "Requirement already satisfied: future in c:\\programdata\\anaconda3\\lib\\site-packages (from matminer) (0.18.3)\n",
      "Requirement already satisfied: scikit-learn in c:\\programdata\\anaconda3\\lib\\site-packages (from matminer) (1.2.2)\n",
      "Requirement already satisfied: sympy in c:\\programdata\\anaconda3\\lib\\site-packages (from matminer) (1.11.1)\n",
      "Requirement already satisfied: monty in c:\\users\\droor\\appdata\\roaming\\python\\python39\\site-packages (from matminer) (2023.5.8)\n",
      "Requirement already satisfied: pymatgen in c:\\users\\droor\\appdata\\roaming\\python\\python39\\site-packages (from matminer) (2023.5.31)\n",
      "Requirement already satisfied: python-dateutil>=2.8.1 in c:\\programdata\\anaconda3\\lib\\site-packages (from pandas->matminer) (2.8.2)\n",
      "Requirement already satisfied: pytz>=2020.1 in c:\\programdata\\anaconda3\\lib\\site-packages (from pandas->matminer) (2022.7)\n",
      "Requirement already satisfied: matplotlib>=1.5 in c:\\programdata\\anaconda3\\lib\\site-packages (from pymatgen->matminer) (3.7.1)\n",
      "Requirement already satisfied: mp-api>=0.27.3 in c:\\users\\droor\\appdata\\roaming\\python\\python39\\site-packages (from pymatgen->matminer) (0.33.3)\n",
      "Requirement already satisfied: networkx>=2.2 in c:\\programdata\\anaconda3\\lib\\site-packages (from pymatgen->matminer) (2.8.4)\n",
      "Requirement already satisfied: palettable>=3.1.1 in c:\\users\\droor\\appdata\\roaming\\python\\python39\\site-packages (from pymatgen->matminer) (3.3.3)\n",
      "Requirement already satisfied: plotly>=4.5.0 in c:\\programdata\\anaconda3\\lib\\site-packages (from pymatgen->matminer) (5.9.0)\n",
      "Requirement already satisfied: pybtex in c:\\users\\droor\\appdata\\roaming\\python\\python39\\site-packages (from pymatgen->matminer) (0.24.0)\n",
      "Requirement already satisfied: ruamel.yaml>=0.17.0 in c:\\users\\droor\\appdata\\roaming\\python\\python39\\site-packages (from pymatgen->matminer) (0.17.32)\n",
      "Requirement already satisfied: scipy>=1.5.0 in c:\\programdata\\anaconda3\\lib\\site-packages (from pymatgen->matminer) (1.10.1)\n",
      "Requirement already satisfied: spglib>=2.0.2 in c:\\users\\droor\\appdata\\roaming\\python\\python39\\site-packages (from pymatgen->matminer) (2.0.2)\n",
      "Requirement already satisfied: tabulate in c:\\programdata\\anaconda3\\lib\\site-packages (from pymatgen->matminer) (0.8.10)\n",
      "Requirement already satisfied: uncertainties>=3.1.4 in c:\\users\\droor\\appdata\\roaming\\python\\python39\\site-packages (from pymatgen->matminer) (3.1.7)\n",
      "Requirement already satisfied: dnspython<3.0.0,>=1.16.0 in c:\\users\\droor\\appdata\\roaming\\python\\python39\\site-packages (from pymongo->matminer) (2.3.0)\n",
      "Requirement already satisfied: charset-normalizer<4,>=2 in c:\\programdata\\anaconda3\\lib\\site-packages (from requests->matminer) (2.0.4)\n",
      "Requirement already satisfied: idna<4,>=2.5 in c:\\programdata\\anaconda3\\lib\\site-packages (from requests->matminer) (3.4)\n",
      "Requirement already satisfied: urllib3<1.27,>=1.21.1 in c:\\programdata\\anaconda3\\lib\\site-packages (from requests->matminer) (1.26.16)\n",
      "Requirement already satisfied: certifi>=2017.4.17 in c:\\programdata\\anaconda3\\lib\\site-packages (from requests->matminer) (2023.5.7)\n",
      "Requirement already satisfied: joblib>=1.1.1 in c:\\programdata\\anaconda3\\lib\\site-packages (from scikit-learn->matminer) (1.2.0)\n",
      "Requirement already satisfied: threadpoolctl>=2.0.0 in c:\\programdata\\anaconda3\\lib\\site-packages (from scikit-learn->matminer) (2.2.0)\n",
      "Requirement already satisfied: mpmath>=0.19 in c:\\programdata\\anaconda3\\lib\\site-packages (from sympy->matminer) (1.2.1)\n",
      "Requirement already satisfied: colorama in c:\\programdata\\anaconda3\\lib\\site-packages (from tqdm->matminer) (0.4.6)\n",
      "Requirement already satisfied: contourpy>=1.0.1 in c:\\programdata\\anaconda3\\lib\\site-packages (from matplotlib>=1.5->pymatgen->matminer) (1.0.5)\n",
      "Requirement already satisfied: cycler>=0.10 in c:\\programdata\\anaconda3\\lib\\site-packages (from matplotlib>=1.5->pymatgen->matminer) (0.11.0)\n",
      "Requirement already satisfied: fonttools>=4.22.0 in c:\\programdata\\anaconda3\\lib\\site-packages (from matplotlib>=1.5->pymatgen->matminer) (4.25.0)\n",
      "Requirement already satisfied: kiwisolver>=1.0.1 in c:\\programdata\\anaconda3\\lib\\site-packages (from matplotlib>=1.5->pymatgen->matminer) (1.4.4)\n",
      "Requirement already satisfied: packaging>=20.0 in c:\\programdata\\anaconda3\\lib\\site-packages (from matplotlib>=1.5->pymatgen->matminer) (23.0)\n",
      "Requirement already satisfied: pillow>=6.2.0 in c:\\programdata\\anaconda3\\lib\\site-packages (from matplotlib>=1.5->pymatgen->matminer) (9.4.0)\n",
      "Requirement already satisfied: pyparsing>=2.3.1 in c:\\programdata\\anaconda3\\lib\\site-packages (from matplotlib>=1.5->pymatgen->matminer) (3.0.9)\n",
      "Requirement already satisfied: importlib-resources>=3.2.0 in c:\\programdata\\anaconda3\\lib\\site-packages (from matplotlib>=1.5->pymatgen->matminer) (5.2.0)\n",
      "Requirement already satisfied: setuptools in c:\\programdata\\anaconda3\\lib\\site-packages (from mp-api>=0.27.3->pymatgen->matminer) (67.8.0)\n",
      "Requirement already satisfied: msgpack in c:\\programdata\\anaconda3\\lib\\site-packages (from mp-api>=0.27.3->pymatgen->matminer) (1.0.3)\n",
      "Requirement already satisfied: typing-extensions>=3.7.4.1 in c:\\programdata\\anaconda3\\lib\\site-packages (from mp-api>=0.27.3->pymatgen->matminer) (4.6.3)\n",
      "Requirement already satisfied: emmet-core>=0.54.0 in c:\\users\\droor\\appdata\\roaming\\python\\python39\\site-packages (from mp-api>=0.27.3->pymatgen->matminer) (0.57.1)\n",
      "Requirement already satisfied: tenacity>=6.2.0 in c:\\programdata\\anaconda3\\lib\\site-packages (from plotly>=4.5.0->pymatgen->matminer) (8.2.2)\n",
      "Requirement already satisfied: six>=1.5 in c:\\programdata\\anaconda3\\lib\\site-packages (from python-dateutil>=2.8.1->pandas->matminer) (1.16.0)\n",
      "Requirement already satisfied: ruamel.yaml.clib>=0.2.7 in c:\\users\\droor\\appdata\\roaming\\python\\python39\\site-packages (from ruamel.yaml>=0.17.0->pymatgen->matminer) (0.2.7)\n",
      "Requirement already satisfied: PyYAML>=3.01 in c:\\programdata\\anaconda3\\lib\\site-packages (from pybtex->pymatgen->matminer) (6.0)\n",
      "Requirement already satisfied: latexcodec>=1.0.4 in c:\\users\\droor\\appdata\\roaming\\python\\python39\\site-packages (from pybtex->pymatgen->matminer) (2.0.1)\n",
      "Requirement already satisfied: pydantic>=1.10.2 in c:\\users\\droor\\appdata\\roaming\\python\\python39\\site-packages (from emmet-core>=0.54.0->mp-api>=0.27.3->pymatgen->matminer) (1.10.9)\n",
      "Requirement already satisfied: zipp>=3.1.0 in c:\\programdata\\anaconda3\\lib\\site-packages (from importlib-resources>=3.2.0->matplotlib>=1.5->pymatgen->matminer) (3.11.0)\n"
     ]
    }
   ],
   "source": [
    "# We have a species-number dict for each material, and we have cleaned formulas.\n",
    "# Let's see what we can do with this using matminer.\n",
    "!pip install matminer\n",
    "from matminer.datasets import get_available_datasets\n",
    "from matminer.data_retrieval.retrieve_MP import MPDataRetrieval"
   ]
  },
  {
   "cell_type": "code",
   "execution_count": 6,
   "metadata": {
    "executionInfo": {
     "elapsed": 9,
     "status": "ok",
     "timestamp": 1687536420402,
     "user": {
      "displayName": "Dries Rooryck",
      "userId": "11199910871077202539"
     },
     "user_tz": 240
    },
    "id": "-ZSVqKmZajE9"
   },
   "outputs": [],
   "source": [
    "# get_available_datasets()"
   ]
  },
  {
   "cell_type": "code",
   "execution_count": 7,
   "metadata": {
    "colab": {
     "base_uri": "https://localhost:8080/"
    },
    "executionInfo": {
     "elapsed": 1401,
     "status": "ok",
     "timestamp": 1687536421795,
     "user": {
      "displayName": "Dries Rooryck",
      "userId": "11199910871077202539"
     },
     "user_tz": 240
    },
    "id": "knyLJQrwa7_l",
    "outputId": "48ad7ba7-3160-4799-ea10-4b38501f3c2b"
   },
   "outputs": [
    {
     "name": "stderr",
     "output_type": "stream",
     "text": [
      "C:\\Users\\Droor\\AppData\\Roaming\\Python\\Python39\\site-packages\\pymatgen\\ext\\matproj.py:185: UserWarning: You are using the legacy MPRester. This version of the MPRester will no longer be updated. To access the latest data with the new MPRester, obtain a new API key from https://materialsproject.org/api and consult the docs at https://docs.materialsproject.org/ for more information.\n",
      "  warnings.warn(\n",
      "100%|██████████████████████████████████████████████████████████████████████████████| 716/716 [00:00<00:00, 1360.39it/s]\n"
     ]
    }
   ],
   "source": [
    "mpdr = MPDataRetrieval(api_key=\"RIzgnTy5xQwTDjjSwx\")\n",
    "df = mpdr.get_dataframe(criteria={\"nelements\": 1}, properties=['density', 'pretty_formula'])"
   ]
  },
  {
   "cell_type": "code",
   "execution_count": 10,
   "metadata": {
    "executionInfo": {
     "elapsed": 180,
     "status": "ok",
     "timestamp": 1687536421970,
     "user": {
      "displayName": "Dries Rooryck",
      "userId": "11199910871077202539"
     },
     "user_tz": 240
    },
    "id": "hqFEUSoycPNX"
   },
   "outputs": [],
   "source": [
    "df = pd.read_json(\"C:/Users/Droor/OneDrive - Harvard University/Desktop/Master Folder/College (2022-2026)/Hoffman summer/own code/unique_mat_df.json\")"
   ]
  },
  {
   "cell_type": "code",
   "execution_count": 11,
   "metadata": {
    "executionInfo": {
     "elapsed": 10,
     "status": "ok",
     "timestamp": 1687536421971,
     "user": {
      "displayName": "Dries Rooryck",
      "userId": "11199910871077202539"
     },
     "user_tz": 240
    },
    "id": "nTh9Y3m6lfPs"
   },
   "outputs": [],
   "source": [
    "# Want to: get back the original data from my other file. And then use some of the below code to see if using matminer is quicker to gather all data."
   ]
  },
  {
   "cell_type": "code",
   "execution_count": 12,
   "metadata": {
    "executionInfo": {
     "elapsed": 10,
     "status": "ok",
     "timestamp": 1687536421972,
     "user": {
      "displayName": "Dries Rooryck",
      "userId": "11199910871077202539"
     },
     "user_tz": 240
    },
    "id": "dJh-kFz0gOHU"
   },
   "outputs": [],
   "source": [
    "# for index, row in df.iterrows():\n",
    "#     # Store the element-keys as a list\n",
    "#     for key in df[\"material_dict\"][index].to_dict().keys():\n",
    "#       list_elements.append(key)\n",
    "\n",
    "#     # Iterate over every material the MP returns (so one by one in a list)\n",
    "#     for SumDoc in mpr.summary.search(elements=list_elements, num_elements=len(list_elements), is_stable=True):\n",
    "#       if SumDoc.composition.as_dict() == df_nonfractional_mats[\"material_dict\"][i]:\n",
    "#         list_formulas1.append(SumDoc.formula_pretty)\n",
    "#         l1.append(SumDoc.material_id)\n",
    "#         l2.append(SumDoc.volume)\n",
    "#         l3.append(SumDoc)\n",
    "#       list_formulas2.append(SumDoc.formula_pretty)\n"
   ]
  },
  {
   "cell_type": "code",
   "execution_count": 13,
   "metadata": {
    "executionInfo": {
     "elapsed": 10,
     "status": "ok",
     "timestamp": 1687536421972,
     "user": {
      "displayName": "Dries Rooryck",
      "userId": "11199910871077202539"
     },
     "user_tz": 240
    },
    "id": "G4TTssLojMtu"
   },
   "outputs": [],
   "source": [
    "# df[\"material_dict\"][1].to_dict().keys()"
   ]
  },
  {
   "cell_type": "code",
   "execution_count": 14,
   "metadata": {
    "executionInfo": {
     "elapsed": 10,
     "status": "ok",
     "timestamp": 1687536421973,
     "user": {
      "displayName": "Dries Rooryck",
      "userId": "11199910871077202539"
     },
     "user_tz": 240
    },
    "id": "jC-P9ggybnfs"
   },
   "outputs": [],
   "source": [
    "# # Lists to append to a df later\n",
    "# dict_matches = []\n",
    "# all_elem_matches = []\n",
    "# mp_id = []\n",
    "# volumes =[]\n",
    "# mucho_info =[]\n",
    "\n",
    "# with MPRester(\"KW2m7Cp4Xm5qNFwmnp2Xas8kfB8ILxuy\") as mpr:\n",
    "\n",
    "#   # Iterate over every entry in SuperCon\n",
    "#   for i in range(len(df_nonfractional_mats)):\n",
    "#     # temp variables\n",
    "#     list_elements = []\n",
    "#     list_formulas1 = []\n",
    "#     list_formulas2 = []\n",
    "#     list_formulas3 = []\n",
    "#     l1 = []\n",
    "#     l2 =[]\n",
    "#     l3 =[]\n",
    "\n",
    "#     # Store the element-keys as a list\n",
    "#     for key in df_nonfractional_mats[\"material_dict\"][i].keys():\n",
    "#       list_elements.append(key)\n",
    "\n",
    "#     # Iterate over every material the MP returns (so one by one in a list)\n",
    "#     for SumDoc in mpr.summary.search(elements=list_elements, num_elements=len(list_elements), is_stable=True):\n",
    "#       if SumDoc.composition.as_dict() == df_nonfractional_mats[\"material_dict\"][i]:\n",
    "#         list_formulas1.append(SumDoc.formula_pretty)\n",
    "#         l1.append(SumDoc.material_id)\n",
    "#         l2.append(SumDoc.volume)\n",
    "#         l3.append(SumDoc)\n",
    "#       list_formulas2.append(SumDoc.formula_pretty)\n",
    "\n",
    "#     # Add those pretty formulae to our big list\n",
    "#     dict_matches.append(list_formulas1)\n",
    "#     all_elem_matches.append(list_formulas2)\n",
    "#     mp_id.append(l1)\n",
    "#     volumes.append(l2)\n",
    "#     mucho_info.append(l3)\n",
    "\n",
    "\n",
    "# df_nonfractional_mats['mp_id'] = mp_id\n",
    "# df_nonfractional_mats['all_material_matches'] = all_elem_matches\n",
    "# df_nonfractional_mats['only_dict_matches'] = dict_matches\n",
    "# df_nonfractional_mats['volumes'] = volumes\n",
    "# df_nonfractional_mats['mucho_info'] = mucho_info\n",
    "\n",
    "# # CLEANUP of our df_nonfractional_mats\n",
    "\n",
    "# # Function to check and replace improperly formatted data\n",
    "# def fix_format(row):\n",
    "#     for col_name, value in row.items():\n",
    "#         if isinstance(value, list):\n",
    "#           if len(value) > 0:\n",
    "#             row[col_name] = value[0]\n",
    "#           else:\n",
    "#             row[col_name] = \"\"\n",
    "#     return row\n",
    "\n",
    "# # Iterate over rows and fix the format\n",
    "# for index, row in df_nonfractional_mats.iterrows():\n",
    "#     df_nonfractional_mats.loc[index] = fix_format(row)\n",
    "\n",
    "# # Convert 'volumes' column to floats\n",
    "# if 'volumes' in df_nonfractional_mats:\n",
    "#     df_nonfractional_mats['volumes'] = pd.to_numeric(df_nonfractional_mats['volumes'], errors='coerce')\n",
    "\n"
   ]
  },
  {
   "cell_type": "code",
   "execution_count": null,
   "metadata": {
    "executionInfo": {
     "elapsed": 10,
     "status": "ok",
     "timestamp": 1687536421973,
     "user": {
      "displayName": "Dries Rooryck",
      "userId": "11199910871077202539"
     },
     "user_tz": 240
    },
    "id": "m8ooHJ0Mboy7"
   },
   "outputs": [],
   "source": []
  },
  {
   "cell_type": "markdown",
   "metadata": {
    "id": "TSFITM-YjYqu"
   },
   "source": [
    "# ICSD api?"
   ]
  },
  {
   "cell_type": "code",
   "execution_count": 16,
   "metadata": {
    "colab": {
     "base_uri": "https://localhost:8080/"
    },
    "executionInfo": {
     "elapsed": 679,
     "status": "ok",
     "timestamp": 1687536422642,
     "user": {
      "displayName": "Dries Rooryck",
      "userId": "11199910871077202539"
     },
     "user_tz": 240
    },
    "id": "Tmcj_GN2mAMx",
    "outputId": "32c5ecd0-5e20-49ea-8ebc-55c32d9380e5"
   },
   "outputs": [
    {
     "data": {
      "text/html": [
       "<div>\n",
       "<style scoped>\n",
       "    .dataframe tbody tr th:only-of-type {\n",
       "        vertical-align: middle;\n",
       "    }\n",
       "\n",
       "    .dataframe tbody tr th {\n",
       "        vertical-align: top;\n",
       "    }\n",
       "\n",
       "    .dataframe thead th {\n",
       "        text-align: right;\n",
       "    }\n",
       "</style>\n",
       "<table border=\"1\" class=\"dataframe\">\n",
       "  <thead>\n",
       "    <tr style=\"text-align: right;\">\n",
       "      <th></th>\n",
       "      <th>Unnamed: 0</th>\n",
       "      <th>sc_id</th>\n",
       "      <th>supercon_formula</th>\n",
       "      <th>cleaned_formula</th>\n",
       "      <th>material_dict</th>\n",
       "      <th>highest_Tc</th>\n",
       "      <th>average_Tc</th>\n",
       "      <th>std_Tc</th>\n",
       "      <th>entry_count</th>\n",
       "    </tr>\n",
       "  </thead>\n",
       "  <tbody>\n",
       "    <tr>\n",
       "      <th>0</th>\n",
       "      <td>0</td>\n",
       "      <td>[12787]</td>\n",
       "      <td>Ag0.002Al0.998</td>\n",
       "      <td>Ag0.002Al0.998</td>\n",
       "      <td>{'Ag': 0.002, 'Al': 0.998}</td>\n",
       "      <td>1.128</td>\n",
       "      <td>1.128000</td>\n",
       "      <td>0.000000</td>\n",
       "      <td>1</td>\n",
       "    </tr>\n",
       "    <tr>\n",
       "      <th>1</th>\n",
       "      <td>1</td>\n",
       "      <td>[12816]</td>\n",
       "      <td>Ag0.005Zn0.995</td>\n",
       "      <td>Ag0.005Zn0.995</td>\n",
       "      <td>{'Ag': 0.005, 'Zn': 0.995}</td>\n",
       "      <td>0.763</td>\n",
       "      <td>0.763000</td>\n",
       "      <td>0.000000</td>\n",
       "      <td>1</td>\n",
       "    </tr>\n",
       "    <tr>\n",
       "      <th>2</th>\n",
       "      <td>2</td>\n",
       "      <td>[25145]</td>\n",
       "      <td>Bi3.99Ag0.01S3O4</td>\n",
       "      <td>Bi3.99Ag0.01S3O4</td>\n",
       "      <td>{'Ag': 0.01, 'Bi': 3.99, 'O': 4.0, 'S': 3.0}</td>\n",
       "      <td>4.310</td>\n",
       "      <td>4.310000</td>\n",
       "      <td>0.000000</td>\n",
       "      <td>1</td>\n",
       "    </tr>\n",
       "    <tr>\n",
       "      <th>3</th>\n",
       "      <td>3</td>\n",
       "      <td>[23179]</td>\n",
       "      <td>Sr1Pd1.98Ag0.02Ge2</td>\n",
       "      <td>Sr1Pd1.98Ag0.02Ge2</td>\n",
       "      <td>{'Ag': 0.02, 'Ge': 2.0, 'Pd': 1.98, 'Sr': 1.0}</td>\n",
       "      <td>2.640</td>\n",
       "      <td>2.640000</td>\n",
       "      <td>0.000000</td>\n",
       "      <td>1</td>\n",
       "    </tr>\n",
       "    <tr>\n",
       "      <th>4</th>\n",
       "      <td>4</td>\n",
       "      <td>[25146]</td>\n",
       "      <td>Bi3.97Ag0.03S3O4</td>\n",
       "      <td>Bi3.97Ag0.03S3O4</td>\n",
       "      <td>{'Ag': 0.03, 'Bi': 3.97, 'O': 4.0, 'S': 3.0}</td>\n",
       "      <td>4.200</td>\n",
       "      <td>4.200000</td>\n",
       "      <td>0.000000</td>\n",
       "      <td>1</td>\n",
       "    </tr>\n",
       "    <tr>\n",
       "      <th>...</th>\n",
       "      <td>...</td>\n",
       "      <td>...</td>\n",
       "      <td>...</td>\n",
       "      <td>...</td>\n",
       "      <td>...</td>\n",
       "      <td>...</td>\n",
       "      <td>...</td>\n",
       "      <td>...</td>\n",
       "      <td>...</td>\n",
       "    </tr>\n",
       "    <tr>\n",
       "      <th>14572</th>\n",
       "      <td>14572</td>\n",
       "      <td>[11721, 12140, 14375, 17473, 17493, 18816]</td>\n",
       "      <td>Y1</td>\n",
       "      <td>Y1</td>\n",
       "      <td>{'Y': 1.0}</td>\n",
       "      <td>19.500</td>\n",
       "      <td>7.700000</td>\n",
       "      <td>7.500889</td>\n",
       "      <td>6</td>\n",
       "    </tr>\n",
       "    <tr>\n",
       "      <th>14573</th>\n",
       "      <td>14573</td>\n",
       "      <td>[25802]</td>\n",
       "      <td>Yb1</td>\n",
       "      <td>Yb1</td>\n",
       "      <td>{'Yb': 1.0}</td>\n",
       "      <td>1.040</td>\n",
       "      <td>1.040000</td>\n",
       "      <td>0.000000</td>\n",
       "      <td>1</td>\n",
       "    </tr>\n",
       "    <tr>\n",
       "      <th>14574</th>\n",
       "      <td>14574</td>\n",
       "      <td>[11452, 14374, 19814, 20650, 20826]</td>\n",
       "      <td>Zn1</td>\n",
       "      <td>Zn1</td>\n",
       "      <td>{'Zn': 1.0}</td>\n",
       "      <td>0.867</td>\n",
       "      <td>0.850800</td>\n",
       "      <td>0.014034</td>\n",
       "      <td>5</td>\n",
       "    </tr>\n",
       "    <tr>\n",
       "      <th>14575</th>\n",
       "      <td>14575</td>\n",
       "      <td>[11397, 16334]</td>\n",
       "      <td>Zn2Zr1</td>\n",
       "      <td>Zn2Zr1</td>\n",
       "      <td>{'Zn': 2.0, 'Zr': 1.0}</td>\n",
       "      <td>0.600</td>\n",
       "      <td>0.445000</td>\n",
       "      <td>0.155000</td>\n",
       "      <td>2</td>\n",
       "    </tr>\n",
       "    <tr>\n",
       "      <th>14576</th>\n",
       "      <td>14576</td>\n",
       "      <td>[11450, 12538, 19391, 19392, 19397, 21767]</td>\n",
       "      <td>Zr1</td>\n",
       "      <td>Zr1</td>\n",
       "      <td>{'Zr': 1.0}</td>\n",
       "      <td>3.500</td>\n",
       "      <td>1.083333</td>\n",
       "      <td>1.090729</td>\n",
       "      <td>6</td>\n",
       "    </tr>\n",
       "  </tbody>\n",
       "</table>\n",
       "<p>14577 rows × 9 columns</p>\n",
       "</div>"
      ],
      "text/plain": [
       "       Unnamed: 0                                       sc_id  \\\n",
       "0               0                                     [12787]   \n",
       "1               1                                     [12816]   \n",
       "2               2                                     [25145]   \n",
       "3               3                                     [23179]   \n",
       "4               4                                     [25146]   \n",
       "...           ...                                         ...   \n",
       "14572       14572  [11721, 12140, 14375, 17473, 17493, 18816]   \n",
       "14573       14573                                     [25802]   \n",
       "14574       14574         [11452, 14374, 19814, 20650, 20826]   \n",
       "14575       14575                              [11397, 16334]   \n",
       "14576       14576  [11450, 12538, 19391, 19392, 19397, 21767]   \n",
       "\n",
       "         supercon_formula     cleaned_formula  \\\n",
       "0          Ag0.002Al0.998      Ag0.002Al0.998   \n",
       "1          Ag0.005Zn0.995      Ag0.005Zn0.995   \n",
       "2        Bi3.99Ag0.01S3O4    Bi3.99Ag0.01S3O4   \n",
       "3      Sr1Pd1.98Ag0.02Ge2  Sr1Pd1.98Ag0.02Ge2   \n",
       "4        Bi3.97Ag0.03S3O4    Bi3.97Ag0.03S3O4   \n",
       "...                   ...                 ...   \n",
       "14572                  Y1                  Y1   \n",
       "14573                 Yb1                 Yb1   \n",
       "14574                 Zn1                 Zn1   \n",
       "14575              Zn2Zr1              Zn2Zr1   \n",
       "14576                 Zr1                 Zr1   \n",
       "\n",
       "                                        material_dict  highest_Tc  average_Tc  \\\n",
       "0                          {'Ag': 0.002, 'Al': 0.998}       1.128    1.128000   \n",
       "1                          {'Ag': 0.005, 'Zn': 0.995}       0.763    0.763000   \n",
       "2        {'Ag': 0.01, 'Bi': 3.99, 'O': 4.0, 'S': 3.0}       4.310    4.310000   \n",
       "3      {'Ag': 0.02, 'Ge': 2.0, 'Pd': 1.98, 'Sr': 1.0}       2.640    2.640000   \n",
       "4        {'Ag': 0.03, 'Bi': 3.97, 'O': 4.0, 'S': 3.0}       4.200    4.200000   \n",
       "...                                               ...         ...         ...   \n",
       "14572                                      {'Y': 1.0}      19.500    7.700000   \n",
       "14573                                     {'Yb': 1.0}       1.040    1.040000   \n",
       "14574                                     {'Zn': 1.0}       0.867    0.850800   \n",
       "14575                          {'Zn': 2.0, 'Zr': 1.0}       0.600    0.445000   \n",
       "14576                                     {'Zr': 1.0}       3.500    1.083333   \n",
       "\n",
       "         std_Tc  entry_count  \n",
       "0      0.000000            1  \n",
       "1      0.000000            1  \n",
       "2      0.000000            1  \n",
       "3      0.000000            1  \n",
       "4      0.000000            1  \n",
       "...         ...          ...  \n",
       "14572  7.500889            6  \n",
       "14573  0.000000            1  \n",
       "14574  0.014034            5  \n",
       "14575  0.155000            2  \n",
       "14576  1.090729            6  \n",
       "\n",
       "[14577 rows x 9 columns]"
      ]
     },
     "execution_count": 16,
     "metadata": {},
     "output_type": "execute_result"
    }
   ],
   "source": [
    "pd.read_csv(\"C:/Users/Droor/OneDrive - Harvard University/Desktop/Master Folder/College (2022-2026)/Hoffman summer/main_notebook/unique_mat_df.csv\")"
   ]
  },
  {
   "cell_type": "code",
   "execution_count": null,
   "metadata": {
    "id": "wNG9jbJlo5lo"
   },
   "outputs": [],
   "source": [
    "# Install the ICSDClient\n",
    "# !git clone https://github.com/lrcfmd/ICSDClient/\n",
    "# !pip install -r \"C:/Users/Droor/OneDrive/Desktop/Master Folder/College (2022-2026)/Hoffman summer/main_notebook/ICSDClient\""
   ]
  },
  {
   "cell_type": "code",
   "execution_count": null,
   "metadata": {
    "id": "4qHzAM9WJXXK"
   },
   "outputs": [],
   "source": [
    "# client = ICSDClient(\"YOUR_USERNAME\", \"YOUR_PASSWORD\")"
   ]
  },
  {
   "cell_type": "markdown",
   "metadata": {
    "id": "nwZsK0sMPujK"
   },
   "source": [
    "# OQMD database"
   ]
  },
  {
   "cell_type": "code",
   "execution_count": null,
   "metadata": {
    "id": "pO5vn6iQPwHn"
   },
   "outputs": [],
   "source": []
  },
  {
   "cell_type": "markdown",
   "metadata": {},
   "source": [
    "# Fixing my MP matching"
   ]
  },
  {
   "cell_type": "code",
   "execution_count": 17,
   "metadata": {},
   "outputs": [
    {
     "name": "stdout",
     "output_type": "stream",
     "text": [
      "Requirement already satisfied: mpcontribs-client in c:\\programdata\\anaconda3\\lib\\site-packages (5.4.0)\n",
      "Requirement already satisfied: boltons in c:\\programdata\\anaconda3\\lib\\site-packages (from mpcontribs-client) (23.0.0)\n",
      "Requirement already satisfied: bravado in c:\\programdata\\anaconda3\\lib\\site-packages (from mpcontribs-client) (11.0.3)\n",
      "Requirement already satisfied: filetype in c:\\programdata\\anaconda3\\lib\\site-packages (from mpcontribs-client) (1.2.0)\n",
      "Requirement already satisfied: flatten-dict in c:\\programdata\\anaconda3\\lib\\site-packages (from mpcontribs-client) (0.4.2)\n",
      "Requirement already satisfied: ipython in c:\\programdata\\anaconda3\\lib\\site-packages (from mpcontribs-client) (8.12.0)\n",
      "Requirement already satisfied: json2html in c:\\programdata\\anaconda3\\lib\\site-packages (from mpcontribs-client) (1.3.0)\n",
      "Requirement already satisfied: pandas in c:\\programdata\\anaconda3\\lib\\site-packages (from mpcontribs-client) (1.4.2)\n",
      "Requirement already satisfied: pint<0.20 in c:\\programdata\\anaconda3\\lib\\site-packages (from mpcontribs-client) (0.19.2)\n",
      "Requirement already satisfied: plotly in c:\\programdata\\anaconda3\\lib\\site-packages (from mpcontribs-client) (5.9.0)\n",
      "Requirement already satisfied: pyIsEmail in c:\\programdata\\anaconda3\\lib\\site-packages (from mpcontribs-client) (2.0.1)\n",
      "Requirement already satisfied: pymatgen in c:\\users\\droor\\appdata\\roaming\\python\\python39\\site-packages (from mpcontribs-client) (2023.5.31)\n",
      "Requirement already satisfied: pymongo in c:\\users\\droor\\appdata\\roaming\\python\\python39\\site-packages (from mpcontribs-client) (4.4.0)\n",
      "Requirement already satisfied: requests-futures in c:\\programdata\\anaconda3\\lib\\site-packages (from mpcontribs-client) (1.0.1)\n",
      "Requirement already satisfied: swagger-spec-validator in c:\\programdata\\anaconda3\\lib\\site-packages (from mpcontribs-client) (3.0.3)\n",
      "Requirement already satisfied: tqdm in c:\\programdata\\anaconda3\\lib\\site-packages (from mpcontribs-client) (4.65.0)\n",
      "Requirement already satisfied: ujson in c:\\programdata\\anaconda3\\lib\\site-packages (from mpcontribs-client) (5.4.0)\n",
      "Requirement already satisfied: semantic-version in c:\\programdata\\anaconda3\\lib\\site-packages (from mpcontribs-client) (2.10.0)\n",
      "Requirement already satisfied: bravado-core>=5.16.1 in c:\\programdata\\anaconda3\\lib\\site-packages (from bravado->mpcontribs-client) (5.17.1)\n",
      "Requirement already satisfied: msgpack in c:\\programdata\\anaconda3\\lib\\site-packages (from bravado->mpcontribs-client) (1.0.3)\n",
      "Requirement already satisfied: python-dateutil in c:\\programdata\\anaconda3\\lib\\site-packages (from bravado->mpcontribs-client) (2.8.2)\n",
      "Requirement already satisfied: pyyaml in c:\\programdata\\anaconda3\\lib\\site-packages (from bravado->mpcontribs-client) (6.0)\n",
      "Requirement already satisfied: requests>=2.17 in c:\\programdata\\anaconda3\\lib\\site-packages (from bravado->mpcontribs-client) (2.29.0)\n",
      "Requirement already satisfied: six in c:\\programdata\\anaconda3\\lib\\site-packages (from bravado->mpcontribs-client) (1.16.0)\n",
      "Requirement already satisfied: simplejson in c:\\programdata\\anaconda3\\lib\\site-packages (from bravado->mpcontribs-client) (3.19.1)\n",
      "Requirement already satisfied: monotonic in c:\\programdata\\anaconda3\\lib\\site-packages (from bravado->mpcontribs-client) (1.6)\n",
      "Requirement already satisfied: typing-extensions in c:\\programdata\\anaconda3\\lib\\site-packages (from bravado->mpcontribs-client) (4.6.3)\n",
      "Requirement already satisfied: backcall in c:\\programdata\\anaconda3\\lib\\site-packages (from ipython->mpcontribs-client) (0.2.0)\n",
      "Requirement already satisfied: decorator in c:\\programdata\\anaconda3\\lib\\site-packages (from ipython->mpcontribs-client) (5.1.1)\n",
      "Requirement already satisfied: jedi>=0.16 in c:\\programdata\\anaconda3\\lib\\site-packages (from ipython->mpcontribs-client) (0.18.1)\n",
      "Requirement already satisfied: matplotlib-inline in c:\\programdata\\anaconda3\\lib\\site-packages (from ipython->mpcontribs-client) (0.1.6)\n",
      "Requirement already satisfied: pickleshare in c:\\programdata\\anaconda3\\lib\\site-packages (from ipython->mpcontribs-client) (0.7.5)\n",
      "Requirement already satisfied: prompt-toolkit!=3.0.37,<3.1.0,>=3.0.30 in c:\\programdata\\anaconda3\\lib\\site-packages (from ipython->mpcontribs-client) (3.0.36)\n",
      "Requirement already satisfied: pygments>=2.4.0 in c:\\programdata\\anaconda3\\lib\\site-packages (from ipython->mpcontribs-client) (2.15.1)\n",
      "Requirement already satisfied: stack-data in c:\\programdata\\anaconda3\\lib\\site-packages (from ipython->mpcontribs-client) (0.2.0)\n",
      "Requirement already satisfied: traitlets>=5 in c:\\programdata\\anaconda3\\lib\\site-packages (from ipython->mpcontribs-client) (5.7.1)\n",
      "Requirement already satisfied: colorama in c:\\programdata\\anaconda3\\lib\\site-packages (from ipython->mpcontribs-client) (0.4.6)\n",
      "Requirement already satisfied: pytz>=2020.1 in c:\\programdata\\anaconda3\\lib\\site-packages (from pandas->mpcontribs-client) (2022.7)\n",
      "Requirement already satisfied: numpy>=1.18.5 in c:\\programdata\\anaconda3\\lib\\site-packages (from pandas->mpcontribs-client) (1.23.5)\n",
      "Requirement already satisfied: tenacity>=6.2.0 in c:\\programdata\\anaconda3\\lib\\site-packages (from plotly->mpcontribs-client) (8.2.2)\n",
      "Requirement already satisfied: dnspython>=2.0.0 in c:\\users\\droor\\appdata\\roaming\\python\\python39\\site-packages (from pyIsEmail->mpcontribs-client) (2.3.0)\n",
      "Requirement already satisfied: matplotlib>=1.5 in c:\\programdata\\anaconda3\\lib\\site-packages (from pymatgen->mpcontribs-client) (3.7.1)\n",
      "Requirement already satisfied: monty>=3.0.2 in c:\\users\\droor\\appdata\\roaming\\python\\python39\\site-packages (from pymatgen->mpcontribs-client) (2023.5.8)\n",
      "Requirement already satisfied: mp-api>=0.27.3 in c:\\users\\droor\\appdata\\roaming\\python\\python39\\site-packages (from pymatgen->mpcontribs-client) (0.33.3)\n",
      "Requirement already satisfied: networkx>=2.2 in c:\\programdata\\anaconda3\\lib\\site-packages (from pymatgen->mpcontribs-client) (2.8.4)\n",
      "Requirement already satisfied: palettable>=3.1.1 in c:\\users\\droor\\appdata\\roaming\\python\\python39\\site-packages (from pymatgen->mpcontribs-client) (3.3.3)\n",
      "Requirement already satisfied: pybtex in c:\\users\\droor\\appdata\\roaming\\python\\python39\\site-packages (from pymatgen->mpcontribs-client) (0.24.0)\n",
      "Requirement already satisfied: ruamel.yaml>=0.17.0 in c:\\users\\droor\\appdata\\roaming\\python\\python39\\site-packages (from pymatgen->mpcontribs-client) (0.17.32)\n",
      "Requirement already satisfied: scipy>=1.5.0 in c:\\programdata\\anaconda3\\lib\\site-packages (from pymatgen->mpcontribs-client) (1.10.1)\n",
      "Requirement already satisfied: spglib>=2.0.2 in c:\\users\\droor\\appdata\\roaming\\python\\python39\\site-packages (from pymatgen->mpcontribs-client) (2.0.2)\n",
      "Requirement already satisfied: sympy in c:\\programdata\\anaconda3\\lib\\site-packages (from pymatgen->mpcontribs-client) (1.11.1)\n",
      "Requirement already satisfied: tabulate in c:\\programdata\\anaconda3\\lib\\site-packages (from pymatgen->mpcontribs-client) (0.8.10)\n",
      "Requirement already satisfied: uncertainties>=3.1.4 in c:\\users\\droor\\appdata\\roaming\\python\\python39\\site-packages (from pymatgen->mpcontribs-client) (3.1.7)\n",
      "Requirement already satisfied: jsonschema in c:\\programdata\\anaconda3\\lib\\site-packages (from swagger-spec-validator->mpcontribs-client) (4.17.3)\n",
      "Requirement already satisfied: jsonref in c:\\programdata\\anaconda3\\lib\\site-packages (from bravado-core>=5.16.1->bravado->mpcontribs-client) (1.1.0)\n",
      "Requirement already satisfied: parso<0.9.0,>=0.8.0 in c:\\programdata\\anaconda3\\lib\\site-packages (from jedi>=0.16->ipython->mpcontribs-client) (0.8.3)\n",
      "Requirement already satisfied: contourpy>=1.0.1 in c:\\programdata\\anaconda3\\lib\\site-packages (from matplotlib>=1.5->pymatgen->mpcontribs-client) (1.0.5)\n",
      "Requirement already satisfied: cycler>=0.10 in c:\\programdata\\anaconda3\\lib\\site-packages (from matplotlib>=1.5->pymatgen->mpcontribs-client) (0.11.0)\n",
      "Requirement already satisfied: fonttools>=4.22.0 in c:\\programdata\\anaconda3\\lib\\site-packages (from matplotlib>=1.5->pymatgen->mpcontribs-client) (4.25.0)\n",
      "Requirement already satisfied: kiwisolver>=1.0.1 in c:\\programdata\\anaconda3\\lib\\site-packages (from matplotlib>=1.5->pymatgen->mpcontribs-client) (1.4.4)\n",
      "Requirement already satisfied: packaging>=20.0 in c:\\programdata\\anaconda3\\lib\\site-packages (from matplotlib>=1.5->pymatgen->mpcontribs-client) (23.0)\n",
      "Requirement already satisfied: pillow>=6.2.0 in c:\\programdata\\anaconda3\\lib\\site-packages (from matplotlib>=1.5->pymatgen->mpcontribs-client) (9.4.0)\n",
      "Requirement already satisfied: pyparsing>=2.3.1 in c:\\programdata\\anaconda3\\lib\\site-packages (from matplotlib>=1.5->pymatgen->mpcontribs-client) (3.0.9)\n",
      "Requirement already satisfied: importlib-resources>=3.2.0 in c:\\programdata\\anaconda3\\lib\\site-packages (from matplotlib>=1.5->pymatgen->mpcontribs-client) (5.2.0)\n",
      "Requirement already satisfied: setuptools in c:\\programdata\\anaconda3\\lib\\site-packages (from mp-api>=0.27.3->pymatgen->mpcontribs-client) (67.8.0)\n",
      "Requirement already satisfied: emmet-core>=0.54.0 in c:\\users\\droor\\appdata\\roaming\\python\\python39\\site-packages (from mp-api>=0.27.3->pymatgen->mpcontribs-client) (0.57.1)\n",
      "Requirement already satisfied: wcwidth in c:\\programdata\\anaconda3\\lib\\site-packages (from prompt-toolkit!=3.0.37,<3.1.0,>=3.0.30->ipython->mpcontribs-client) (0.2.5)\n",
      "Requirement already satisfied: charset-normalizer<4,>=2 in c:\\programdata\\anaconda3\\lib\\site-packages (from requests>=2.17->bravado->mpcontribs-client) (2.0.4)\n",
      "Requirement already satisfied: idna<4,>=2.5 in c:\\programdata\\anaconda3\\lib\\site-packages (from requests>=2.17->bravado->mpcontribs-client) (3.4)\n",
      "Requirement already satisfied: urllib3<1.27,>=1.21.1 in c:\\programdata\\anaconda3\\lib\\site-packages (from requests>=2.17->bravado->mpcontribs-client) (1.26.16)\n",
      "Requirement already satisfied: certifi>=2017.4.17 in c:\\programdata\\anaconda3\\lib\\site-packages (from requests>=2.17->bravado->mpcontribs-client) (2023.5.7)\n",
      "Requirement already satisfied: ruamel.yaml.clib>=0.2.7 in c:\\users\\droor\\appdata\\roaming\\python\\python39\\site-packages (from ruamel.yaml>=0.17.0->pymatgen->mpcontribs-client) (0.2.7)\n",
      "Requirement already satisfied: future in c:\\programdata\\anaconda3\\lib\\site-packages (from uncertainties>=3.1.4->pymatgen->mpcontribs-client) (0.18.3)\n",
      "Requirement already satisfied: attrs>=17.4.0 in c:\\programdata\\anaconda3\\lib\\site-packages (from jsonschema->swagger-spec-validator->mpcontribs-client) (22.1.0)\n",
      "Requirement already satisfied: pyrsistent!=0.17.0,!=0.17.1,!=0.17.2,>=0.14.0 in c:\\programdata\\anaconda3\\lib\\site-packages (from jsonschema->swagger-spec-validator->mpcontribs-client) (0.18.0)\n",
      "Requirement already satisfied: latexcodec>=1.0.4 in c:\\users\\droor\\appdata\\roaming\\python\\python39\\site-packages (from pybtex->pymatgen->mpcontribs-client) (2.0.1)\n",
      "Requirement already satisfied: executing in c:\\programdata\\anaconda3\\lib\\site-packages (from stack-data->ipython->mpcontribs-client) (0.8.3)\n",
      "Requirement already satisfied: asttokens in c:\\programdata\\anaconda3\\lib\\site-packages (from stack-data->ipython->mpcontribs-client) (2.0.5)\n",
      "Requirement already satisfied: pure-eval in c:\\programdata\\anaconda3\\lib\\site-packages (from stack-data->ipython->mpcontribs-client) (0.2.2)\n",
      "Requirement already satisfied: mpmath>=0.19 in c:\\programdata\\anaconda3\\lib\\site-packages (from sympy->pymatgen->mpcontribs-client) (1.2.1)\n",
      "Requirement already satisfied: pydantic>=1.10.2 in c:\\users\\droor\\appdata\\roaming\\python\\python39\\site-packages (from emmet-core>=0.54.0->mp-api>=0.27.3->pymatgen->mpcontribs-client) (1.10.9)\n",
      "Requirement already satisfied: zipp>=3.1.0 in c:\\programdata\\anaconda3\\lib\\site-packages (from importlib-resources>=3.2.0->matplotlib>=1.5->pymatgen->mpcontribs-client) (3.11.0)\n",
      "Requirement already satisfied: fqdn in c:\\programdata\\anaconda3\\lib\\site-packages (from jsonschema->swagger-spec-validator->mpcontribs-client) (1.5.1)\n",
      "Requirement already satisfied: isoduration in c:\\programdata\\anaconda3\\lib\\site-packages (from jsonschema->swagger-spec-validator->mpcontribs-client) (20.11.0)\n",
      "Requirement already satisfied: jsonpointer>1.13 in c:\\programdata\\anaconda3\\lib\\site-packages (from jsonschema->swagger-spec-validator->mpcontribs-client) (2.4)\n",
      "Requirement already satisfied: rfc3339-validator in c:\\programdata\\anaconda3\\lib\\site-packages (from jsonschema->swagger-spec-validator->mpcontribs-client) (0.1.4)\n",
      "Requirement already satisfied: rfc3987 in c:\\programdata\\anaconda3\\lib\\site-packages (from jsonschema->swagger-spec-validator->mpcontribs-client) (1.3.8)\n",
      "Requirement already satisfied: uri-template in c:\\programdata\\anaconda3\\lib\\site-packages (from jsonschema->swagger-spec-validator->mpcontribs-client) (1.3.0)\n",
      "Requirement already satisfied: webcolors>=1.11 in c:\\programdata\\anaconda3\\lib\\site-packages (from jsonschema->swagger-spec-validator->mpcontribs-client) (1.13)\n",
      "Requirement already satisfied: arrow>=0.15.0 in c:\\programdata\\anaconda3\\lib\\site-packages (from isoduration->jsonschema->swagger-spec-validator->mpcontribs-client) (1.2.3)\n"
     ]
    }
   ],
   "source": [
    "# !pip install gemmi\n",
    "# !pip install chemml\n",
    "# !pip install rdkit\n",
    "!pip install mpcontribs-client"
   ]
  },
  {
   "cell_type": "code",
   "execution_count": 19,
   "metadata": {},
   "outputs": [],
   "source": [
    "import sys\n",
    "\n",
    "# Add the folder path to the system path\n",
    "sys.path.append(\"C:/Users/Droor/OneDrive - Harvard University/Desktop/Master Folder/College (2022-2026)/Hoffman summer/main_notebook/3DSC\")\n",
    "\n",
    "from superconductors_3D.dataset_preparation.utils.check_dataset import if_valid_formula, set_column_type, correct_symmetry_cell_setting, extract_float_values, standardise_chem_formula, get_chem_dict, consistent_spacegroup_and_crystal_system, get_normalised_spg, check_and_complement_structure, filter_entries, get_chemical_composition, normalise_pymatgen_spacegroups, normalise_AFLOW_prototype_spacegroups, normalise_quantities, prepare_df_sc, normalise_chemdict"
   ]
  },
  {
   "cell_type": "code",
   "execution_count": 30,
   "metadata": {},
   "outputs": [
    {
     "data": {
      "application/vnd.jupyter.widget-view+json": {
       "model_id": "6ff411ecf6ab4eb998020bcb5289e6dc",
       "version_major": 2,
       "version_minor": 0
      },
      "text/plain": [
       "Retrieving SummaryDoc documents:   0%|          | 0/13 [00:00<?, ?it/s]"
      ]
     },
     "metadata": {},
     "output_type": "display_data"
    },
    {
     "name": "stdout",
     "output_type": "stream",
     "text": [
      "Full Formula (Na6 Cl6)\n",
      "Reduced Formula: NaCl\n",
      "abc   :   6.799634   6.799635   7.094838\n",
      "angles:  90.000000  90.000000 120.000006\n",
      "pbc   :       True       True       True\n",
      "Sites (12)\n",
      "  #  SP           a         b         c    magmom\n",
      "---  ----  --------  --------  --------  --------\n",
      "  0  Na    0         0.6692    0.5              0\n",
      "  1  Na    0.3308    0.3308    0.5              0\n",
      "  2  Na    0.6692    0         0.5              0\n",
      "  3  Na    0         0.336571  0                0\n",
      "  4  Na    0.663429  0.663429  0                0\n",
      "  5  Na    0.336571  0         0                0\n",
      "  6  Cl    0.666667  0.333333  0.250447        -0\n",
      "  7  Cl    0.666667  0.333333  0.749553        -0\n",
      "  8  Cl    0.333333  0.666667  0.749553        -0\n",
      "  9  Cl    0.333333  0.666667  0.250447        -0\n",
      " 10  Cl    0         0         0.750912        -0\n",
      " 11  Cl    0         0         0.249088        -0\n"
     ]
    }
   ],
   "source": [
    "with MPRester(\"KW2m7Cp4Xm5qNFwmnp2Xas8kfB8ILxuy\") as mpr:\n",
    "    docs = mpr.summary.search(elements=['Na', 'Cl'], num_elements=2)\n",
    "    print(docs[6])"
   ]
  },
  {
   "cell_type": "code",
   "execution_count": 37,
   "metadata": {},
   "outputs": [
    {
     "data": {
      "application/vnd.jupyter.widget-view+json": {
       "model_id": "e48bbfe1d4a049bfa3e58cd98328166e",
       "version_major": 2,
       "version_minor": 0
      },
      "text/plain": [
       "Retrieving SummaryDoc documents:   0%|          | 0/11 [00:00<?, ?it/s]"
      ]
     },
     "metadata": {},
     "output_type": "display_data"
    },
    {
     "name": "stdout",
     "output_type": "stream",
     "text": [
      "In9Ag17\n",
      "InAg3\n",
      "InAg3\n",
      "In3Ag\n",
      "In4Ag9\n",
      "InAg3\n",
      "In3Ag\n",
      "InAg\n",
      "In2Ag\n",
      "In2Ag\n",
      "InAg4\n"
     ]
    }
   ],
   "source": [
    "mdict = {'Ag': 2.0, 'Ce': 1.0, 'Si': 2.0}\n",
    "elemlist = []\n",
    "\n",
    "for key in dict_asked.keys():\n",
    "        elemlist.append(key)\n",
    "\n",
    "with MPRester(\"KW2m7Cp4Xm5qNFwmnp2Xas8kfB8ILxuy\") as mpr:\n",
    "    docs = mpr.summary.search(elements=elemlist, num_elements=len(elemlist))\n",
    "    for material in docs:\n",
    "        print(material.formula_pretty)"
   ]
  },
  {
   "cell_type": "code",
   "execution_count": 39,
   "metadata": {},
   "outputs": [
    {
     "name": "stdout",
     "output_type": "stream",
     "text": [
      "['Ag', 'B']\n"
     ]
    },
    {
     "data": {
      "application/vnd.jupyter.widget-view+json": {
       "model_id": "56a44fcb96bc48a29a929c1da5808a9c",
       "version_major": 2,
       "version_minor": 0
      },
      "text/plain": [
       "Retrieving SummaryDoc documents:   0%|          | 0/1 [00:00<?, ?it/s]"
      ]
     },
     "metadata": {},
     "output_type": "display_data"
    },
    {
     "name": "stdout",
     "output_type": "stream",
     "text": [
      "defaultdict(<class 'float'>, {'Ag': 1.0, 'B': 2.0})\n",
      "[[<bound method Composition.as_dict of Comp: Ag1 B2>]]\n",
      "\n",
      "[[{'Ag': 1.0, 'B': 2.0}]]\n",
      "\n",
      "[[<bound method Composition.as_dict of Comp: Ag1 B2>]]\n",
      "\n",
      "\n",
      "[<bound method Composition.as_dict of Comp: Ag1 B2>]\n",
      "\n",
      "[{'Ag': 1.0, 'B': 2.0}]\n",
      "\n",
      "[<bound method Composition.as_dict of Comp: Ag1 B2>]\n"
     ]
    }
   ],
   "source": [
    "long0 = []\n",
    "long1 = []\n",
    "long2 = []\n",
    "\n",
    "l0 = []\n",
    "l1 = []\n",
    "l2 = []\n",
    "\n",
    "list_elements = []\n",
    "\n",
    "dict_asked = {'Ag': 1.0, 'B': 2.0}\n",
    "\n",
    "with MPRester(\"KW2m7Cp4Xm5qNFwmnp2Xas8kfB8ILxuy\") as mpr:\n",
    "\n",
    "    # Store the element-keys as a list\n",
    "    for key in dict_asked.keys():\n",
    "        list_elements.append(key)\n",
    "    print(list_elements)\n",
    "\n",
    "    # Iterate over every material the MP returns (so one by one in a list)\n",
    "    for SumDoc in mpr.summary.search(elements=list_elements, num_elements=len(list_elements)):\n",
    "        \n",
    "        l2.append(SumDoc.composition.as_dict)\n",
    "        dict_back_normalized = normalise_chemdict(SumDoc.composition.as_dict(), dict_asked)\n",
    "        l1.append(dict_back_normalized)\n",
    "        \n",
    "        print(SumDoc.composition.as_dict())\n",
    "\n",
    "    if dict_back_normalized == dict_asked:\n",
    "        l0.append(SumDoc.composition.as_dict)\n",
    "\n",
    "    long0.append(l0)\n",
    "    long1.append(l1)\n",
    "    long2.append(l2)\n",
    "\n",
    "print(long0)\n",
    "print()\n",
    "print(long1)\n",
    "print()\n",
    "print(long2)\n",
    "print()\n",
    "print()\n",
    "print(l0)\n",
    "print()\n",
    "print(l1)\n",
    "print()\n",
    "print(l2)"
   ]
  },
  {
   "cell_type": "code",
   "execution_count": null,
   "metadata": {},
   "outputs": [],
   "source": [
    "normalise_chemdict({'Ba': 2.0, 'As': 4.0, 'Pt': 2.0}, matdict)"
   ]
  },
  {
   "cell_type": "code",
   "execution_count": null,
   "metadata": {},
   "outputs": [],
   "source": [
    "l1[2] == dict_asked"
   ]
  }
 ],
 "metadata": {
  "colab": {
   "authorship_tag": "ABX9TyMhiHNg7L9FJvr82z7qQ/3B",
   "mount_file_id": "1RSKV5Gc2cLAKz1ehLqLg98wPzmrV_Quv",
   "provenance": []
  },
  "kernelspec": {
   "display_name": "Python 3 (ipykernel)",
   "language": "python",
   "name": "python3"
  },
  "language_info": {
   "codemirror_mode": {
    "name": "ipython",
    "version": 3
   },
   "file_extension": ".py",
   "mimetype": "text/x-python",
   "name": "python",
   "nbconvert_exporter": "python",
   "pygments_lexer": "ipython3",
   "version": "3.9.12"
  }
 },
 "nbformat": 4,
 "nbformat_minor": 1
}
