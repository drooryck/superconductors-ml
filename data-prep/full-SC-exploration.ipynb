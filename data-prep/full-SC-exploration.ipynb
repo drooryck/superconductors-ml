{
 "cells": [
  {
   "cell_type": "code",
   "execution_count": 1,
   "metadata": {
    "collapsed": true,
    "ExecuteTime": {
     "end_time": "2023-06-30T17:43:38.231802200Z",
     "start_time": "2023-06-30T17:43:38.221859700Z"
    }
   },
   "outputs": [],
   "source": [
    "import pandas as pd\n",
    "import numpy as np\n",
    "import matplotlib.pyplot as plt\n",
    "import seaborn as sns\n",
    "import copy\n",
    "import pymatgen"
   ]
  },
  {
   "cell_type": "code",
   "execution_count": 25,
   "outputs": [
    {
     "data": {
      "text/plain": "  data number reference number comment common formula of materials  \\\n0         num            refno   commt                        name   \n1           2       JJP0260223     NaN                (Ba,La)2CuO4   \n2           3       JJP0260223     NaN             (Ba,La,Ag)2CuO4   \n3           4       JJP0260223     NaN               (Ba,La,)2CuO4   \n4           5       JJP0260223     NaN                (Ba,La)2CuO4   \n\n           chemical formula element name of materials composition of MA1  \\\n0                   element                       ma1                ma2   \n1         Ba0.2La1.8Cu1O4-Y                        Ba                0.2   \n2  Ba0.1La1.9Ag0.1Cu0.9O4-Y                        Ba                0.1   \n3         Ba0.1La1.9Cu1O4-Y                        Ba                0.1   \n4       Ba0.15La1.85Cu1O4-Y                        Ba               0.15   \n\n  element name of materials.1 composition of MA2 element name of materials.2  \\\n0                         mb1                mb2                         mc1   \n1                          La                1.8                          Cu   \n2                          La                1.9                          Ag   \n3                          La                1.9                          Cu   \n4                          La               1.85                          Cu   \n\n   ... target material process comments  \\\n0  ...          target         pr_commt   \n1  ...             NaN              NaN   \n2  ...             NaN              NaN   \n3  ...             NaN              NaN   \n4  ...             NaN              NaN   \n\n                                  title of reference  \\\n0                                              title   \n1  Composition dependence of the high temperature...   \n2  Composition dependence of the high temperature...   \n3  Composition dependence of the high temperature...   \n4  Composition dependence of the high temperature...   \n\n  publication year of reference.1 month of reference  keyword  institute  \\\n0                            year              month  keyword  institute   \n1                            1987                NaN      NaN        NaN   \n2                            1987                NaN      NaN        NaN   \n3                            1987                NaN      NaN        NaN   \n4                            1987                NaN      NaN        NaN   \n\n                          journal  sample  comments  \n0                         journal  sample  comments  \n1  Jpn.J.Appl.Phys., 26(1987)L223     NaN       NaN  \n2  Jpn.J.Appl.Phys., 26(1987)L223     NaN       NaN  \n3  Jpn.J.Appl.Phys., 26(1987)L223     NaN       NaN  \n4  Jpn.J.Appl.Phys., 26(1987)L223     NaN       NaN  \n\n[5 rows x 191 columns]",
      "text/html": "<div>\n<style scoped>\n    .dataframe tbody tr th:only-of-type {\n        vertical-align: middle;\n    }\n\n    .dataframe tbody tr th {\n        vertical-align: top;\n    }\n\n    .dataframe thead th {\n        text-align: right;\n    }\n</style>\n<table border=\"1\" class=\"dataframe\">\n  <thead>\n    <tr style=\"text-align: right;\">\n      <th></th>\n      <th>data number</th>\n      <th>reference number</th>\n      <th>comment</th>\n      <th>common formula of materials</th>\n      <th>chemical formula</th>\n      <th>element name of materials</th>\n      <th>composition of MA1</th>\n      <th>element name of materials.1</th>\n      <th>composition of MA2</th>\n      <th>element name of materials.2</th>\n      <th>...</th>\n      <th>target material</th>\n      <th>process comments</th>\n      <th>title of reference</th>\n      <th>publication year of reference.1</th>\n      <th>month of reference</th>\n      <th>keyword</th>\n      <th>institute</th>\n      <th>journal</th>\n      <th>sample</th>\n      <th>comments</th>\n    </tr>\n  </thead>\n  <tbody>\n    <tr>\n      <th>0</th>\n      <td>num</td>\n      <td>refno</td>\n      <td>commt</td>\n      <td>name</td>\n      <td>element</td>\n      <td>ma1</td>\n      <td>ma2</td>\n      <td>mb1</td>\n      <td>mb2</td>\n      <td>mc1</td>\n      <td>...</td>\n      <td>target</td>\n      <td>pr_commt</td>\n      <td>title</td>\n      <td>year</td>\n      <td>month</td>\n      <td>keyword</td>\n      <td>institute</td>\n      <td>journal</td>\n      <td>sample</td>\n      <td>comments</td>\n    </tr>\n    <tr>\n      <th>1</th>\n      <td>2</td>\n      <td>JJP0260223</td>\n      <td>NaN</td>\n      <td>(Ba,La)2CuO4</td>\n      <td>Ba0.2La1.8Cu1O4-Y</td>\n      <td>Ba</td>\n      <td>0.2</td>\n      <td>La</td>\n      <td>1.8</td>\n      <td>Cu</td>\n      <td>...</td>\n      <td>NaN</td>\n      <td>NaN</td>\n      <td>Composition dependence of the high temperature...</td>\n      <td>1987</td>\n      <td>NaN</td>\n      <td>NaN</td>\n      <td>NaN</td>\n      <td>Jpn.J.Appl.Phys., 26(1987)L223</td>\n      <td>NaN</td>\n      <td>NaN</td>\n    </tr>\n    <tr>\n      <th>2</th>\n      <td>3</td>\n      <td>JJP0260223</td>\n      <td>NaN</td>\n      <td>(Ba,La,Ag)2CuO4</td>\n      <td>Ba0.1La1.9Ag0.1Cu0.9O4-Y</td>\n      <td>Ba</td>\n      <td>0.1</td>\n      <td>La</td>\n      <td>1.9</td>\n      <td>Ag</td>\n      <td>...</td>\n      <td>NaN</td>\n      <td>NaN</td>\n      <td>Composition dependence of the high temperature...</td>\n      <td>1987</td>\n      <td>NaN</td>\n      <td>NaN</td>\n      <td>NaN</td>\n      <td>Jpn.J.Appl.Phys., 26(1987)L223</td>\n      <td>NaN</td>\n      <td>NaN</td>\n    </tr>\n    <tr>\n      <th>3</th>\n      <td>4</td>\n      <td>JJP0260223</td>\n      <td>NaN</td>\n      <td>(Ba,La,)2CuO4</td>\n      <td>Ba0.1La1.9Cu1O4-Y</td>\n      <td>Ba</td>\n      <td>0.1</td>\n      <td>La</td>\n      <td>1.9</td>\n      <td>Cu</td>\n      <td>...</td>\n      <td>NaN</td>\n      <td>NaN</td>\n      <td>Composition dependence of the high temperature...</td>\n      <td>1987</td>\n      <td>NaN</td>\n      <td>NaN</td>\n      <td>NaN</td>\n      <td>Jpn.J.Appl.Phys., 26(1987)L223</td>\n      <td>NaN</td>\n      <td>NaN</td>\n    </tr>\n    <tr>\n      <th>4</th>\n      <td>5</td>\n      <td>JJP0260223</td>\n      <td>NaN</td>\n      <td>(Ba,La)2CuO4</td>\n      <td>Ba0.15La1.85Cu1O4-Y</td>\n      <td>Ba</td>\n      <td>0.15</td>\n      <td>La</td>\n      <td>1.85</td>\n      <td>Cu</td>\n      <td>...</td>\n      <td>NaN</td>\n      <td>NaN</td>\n      <td>Composition dependence of the high temperature...</td>\n      <td>1987</td>\n      <td>NaN</td>\n      <td>NaN</td>\n      <td>NaN</td>\n      <td>Jpn.J.Appl.Phys., 26(1987)L223</td>\n      <td>NaN</td>\n      <td>NaN</td>\n    </tr>\n  </tbody>\n</table>\n<p>5 rows × 191 columns</p>\n</div>"
     },
     "execution_count": 25,
     "metadata": {},
     "output_type": "execute_result"
    }
   ],
   "source": [
    "# CHARDET pkg says it is encoded using SHIFT JIS.\n",
    "df = pd.read_excel(\"C:/Users/Droor/OneDrive - Harvard University/Desktop/Master Folder/College (2022-2026)/Hoffman summer/git-clone/superconductors-ml/datasets/220808_MDR_OAndM.xlsx\", header = 2)\n",
    "\n",
    "df.head()"
   ],
   "metadata": {
    "collapsed": false,
    "ExecuteTime": {
     "end_time": "2023-06-30T18:22:40.458074100Z",
     "start_time": "2023-06-30T18:20:56.672655300Z"
    }
   }
  },
  {
   "cell_type": "code",
   "execution_count": 31,
   "outputs": [
    {
     "name": "stdout",
     "output_type": "stream",
     "text": [
      "Index(['data number', 'reference number', 'comment',\n",
      "       'common formula of materials', 'chemical formula',\n",
      "       'element name of materials', 'composition of MA1',\n",
      "       'element name of materials.1', 'composition of MA2',\n",
      "       'element name of materials.2',\n",
      "       ...\n",
      "       'target material', 'process comments', 'title of reference',\n",
      "       'publication year of reference.1', 'month of reference', 'keyword',\n",
      "       'institute', 'journal', 'sample', 'comments'],\n",
      "      dtype='object', length=191)\n",
      "(33408, 191)\n"
     ]
    }
   ],
   "source": [
    "# Print the column names\n",
    "print(df.columns)\n",
    "print(df.shape)"
   ],
   "metadata": {
    "collapsed": false,
    "ExecuteTime": {
     "end_time": "2023-06-30T18:43:51.854793300Z",
     "start_time": "2023-06-30T18:43:51.845253300Z"
    }
   }
  },
  {
   "cell_type": "code",
   "execution_count": 32,
   "outputs": [
    {
     "data": {
      "text/plain": "data number                                        0\nreference number                                   0\nunit of Tc                                         0\nchemical formula                                   0\nelement name of materials                          0\n                                               ...  \ntemperature dependence of LATB                 33402\nsound velocity at 4.2 K                        33405\nelement name of materials.9                    33406\ncomposition of MA10                            33406\nthermopower at 300 K for normal to ab-plane    33407\nLength: 191, dtype: int64"
     },
     "execution_count": 32,
     "metadata": {},
     "output_type": "execute_result"
    }
   ],
   "source": [
    "# Rank the columns by the least number of missing values\n",
    "df.isnull().sum().sort_values(ascending = True)"
   ],
   "metadata": {
    "collapsed": false,
    "ExecuteTime": {
     "end_time": "2023-06-30T18:43:53.721724800Z",
     "start_time": "2023-06-30T18:43:53.700770900Z"
    }
   }
  },
  {
   "cell_type": "code",
   "execution_count": 33,
   "outputs": [
    {
     "data": {
      "text/plain": "26322"
     },
     "execution_count": 33,
     "metadata": {},
     "output_type": "execute_result"
    }
   ],
   "source": [
    "33408 - 7086"
   ],
   "metadata": {
    "collapsed": false,
    "ExecuteTime": {
     "end_time": "2023-06-30T18:45:03.859274200Z",
     "start_time": "2023-06-30T18:45:03.845509200Z"
    }
   }
  },
  {
   "cell_type": "raw",
   "source": [
    "This confirms that the primary.tsv file just keeps the non-zero Tc materials from the bigger file."
   ],
   "metadata": {
    "collapsed": false
   }
  }
 ],
 "metadata": {
  "kernelspec": {
   "display_name": "Python 3",
   "language": "python",
   "name": "python3"
  },
  "language_info": {
   "codemirror_mode": {
    "name": "ipython",
    "version": 2
   },
   "file_extension": ".py",
   "mimetype": "text/x-python",
   "name": "python",
   "nbconvert_exporter": "python",
   "pygments_lexer": "ipython2",
   "version": "2.7.6"
  }
 },
 "nbformat": 4,
 "nbformat_minor": 0
}
