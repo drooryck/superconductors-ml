{
 "cells": [
  {
   "cell_type": "markdown",
   "id": "9cb1ba4d",
   "metadata": {},
   "source": [
    "# Install pre-reqs"
   ]
  },
  {
   "cell_type": "code",
   "execution_count": 1,
   "id": "bf693765",
   "metadata": {
    "ExecuteTime": {
     "end_time": "2023-06-27T17:51:06.480779900Z",
     "start_time": "2023-06-27T17:50:43.482421200Z"
    }
   },
   "outputs": [
    {
     "name": "stdout",
     "output_type": "stream",
     "text": [
      "Collecting qmpy\n",
      "  Using cached qmpy-1.4.0-py3-none-any.whl (12.7 MB)\n",
      "Requirement already satisfied: pyparsing in c:\\users\\droor\\anaconda3\\lib\\site-packages (from qmpy) (3.0.9)\n",
      "Requirement already satisfied: bokeh in c:\\users\\droor\\anaconda3\\lib\\site-packages (from qmpy) (2.4.3)\n",
      "Collecting djangorestframework-xml\n",
      "  Using cached djangorestframework_xml-2.0.0-py2.py3-none-any.whl (6.0 kB)\n",
      "Requirement already satisfied: lark-parser in c:\\users\\droor\\anaconda3\\lib\\site-packages (from qmpy) (0.12.0)\n",
      "Collecting mysqlclient\n",
      "  Using cached mysqlclient-2.2.0-cp310-cp310-win_amd64.whl (199 kB)\n",
      "Requirement already satisfied: scikit-learn in c:\\users\\droor\\anaconda3\\lib\\site-packages (from qmpy) (1.2.1)\n",
      "Requirement already satisfied: PyYAML in c:\\users\\droor\\anaconda3\\lib\\site-packages (from qmpy) (6.0)\n",
      "Requirement already satisfied: pexpect in c:\\users\\droor\\anaconda3\\lib\\site-packages (from qmpy) (4.8.0)\n",
      "Requirement already satisfied: spglib>1.10 in c:\\users\\droor\\anaconda3\\lib\\site-packages (from qmpy) (2.0.2)\n",
      "Collecting Django<2.3\n",
      "  Using cached Django-2.2.28-py3-none-any.whl (7.5 MB)\n",
      "Requirement already satisfied: lxml in c:\\users\\droor\\anaconda3\\lib\\site-packages (from qmpy) (4.9.1)\n",
      "Requirement already satisfied: matplotlib in c:\\users\\droor\\anaconda3\\lib\\site-packages (from qmpy) (3.7.0)\n",
      "Collecting pygraphviz\n",
      "  Using cached pygraphviz-1.11.zip (120 kB)\n",
      "  Preparing metadata (setup.py): started\n",
      "  Preparing metadata (setup.py): finished with status 'done'\n",
      "Requirement already satisfied: PyCifRW>=4.3 in c:\\users\\droor\\anaconda3\\lib\\site-packages (from qmpy) (4.4.5)\n",
      "Collecting djangorestframework-filters\n",
      "  Using cached djangorestframework_filters-0.11.1-py2.py3-none-any.whl (12 kB)\n",
      "Requirement already satisfied: scipy in c:\\users\\droor\\anaconda3\\lib\\site-packages (from qmpy) (1.10.0)\n",
      "Requirement already satisfied: numpy in c:\\users\\droor\\anaconda3\\lib\\site-packages (from qmpy) (1.23.5)\n",
      "Collecting ase\n",
      "  Using cached ase-3.22.1-py3-none-any.whl (2.2 MB)\n",
      "Collecting django-extensions>2.2.5\n",
      "  Using cached django_extensions-3.2.3-py3-none-any.whl (229 kB)\n",
      "Requirement already satisfied: requests in c:\\users\\droor\\anaconda3\\lib\\site-packages (from qmpy) (2.28.1)\n",
      "Requirement already satisfied: djangorestframework-queryfields in c:\\users\\droor\\anaconda3\\lib\\site-packages (from qmpy) (1.0.0)\n",
      "Requirement already satisfied: networkx in c:\\users\\droor\\anaconda3\\lib\\site-packages (from qmpy) (2.8.4)\n",
      "Collecting djangorestframework>3.10.0\n",
      "  Using cached djangorestframework-3.14.0-py3-none-any.whl (1.1 MB)\n",
      "Requirement already satisfied: pytest in c:\\users\\droor\\anaconda3\\lib\\site-packages (from qmpy) (7.1.2)\n",
      "Requirement already satisfied: PuLP in c:\\users\\droor\\anaconda3\\lib\\site-packages (from qmpy) (2.7.0)\n",
      "Collecting Jinja2<3.0\n",
      "  Using cached Jinja2-2.11.3-py2.py3-none-any.whl (125 kB)\n",
      "Collecting djangorestframework-yaml\n",
      "  Using cached djangorestframework_yaml-2.0.0-py2.py3-none-any.whl (6.7 kB)\n",
      "Requirement already satisfied: python-memcached in c:\\users\\droor\\anaconda3\\lib\\site-packages (from qmpy) (1.59)\n",
      "Collecting django-crispy-forms\n",
      "  Using cached django_crispy_forms-2.0-py3-none-any.whl (31 kB)\n",
      "Requirement already satisfied: pytz in c:\\users\\droor\\anaconda3\\lib\\site-packages (from Django<2.3->qmpy) (2022.7)\n",
      "Requirement already satisfied: sqlparse>=0.2.2 in c:\\users\\droor\\anaconda3\\lib\\site-packages (from Django<2.3->qmpy) (0.4.4)\n",
      "Collecting django-extensions>2.2.5\n",
      "  Using cached django_extensions-3.2.1-py3-none-any.whl (229 kB)\n",
      "  Using cached django_extensions-3.2.0-py3-none-any.whl (229 kB)\n",
      "  Using cached django_extensions-3.1.5-py3-none-any.whl (224 kB)\n",
      "Collecting djangorestframework>3.10.0\n",
      "  Using cached djangorestframework-3.13.1-py3-none-any.whl (958 kB)\n",
      "Requirement already satisfied: MarkupSafe>=0.23 in c:\\users\\droor\\anaconda3\\lib\\site-packages (from Jinja2<3.0->qmpy) (2.1.1)\n",
      "Requirement already satisfied: fonttools>=4.22.0 in c:\\users\\droor\\anaconda3\\lib\\site-packages (from matplotlib->qmpy) (4.25.0)\n",
      "Requirement already satisfied: pillow>=6.2.0 in c:\\users\\droor\\anaconda3\\lib\\site-packages (from matplotlib->qmpy) (9.4.0)\n",
      "Requirement already satisfied: packaging>=20.0 in c:\\users\\droor\\anaconda3\\lib\\site-packages (from matplotlib->qmpy) (22.0)\n",
      "Requirement already satisfied: cycler>=0.10 in c:\\users\\droor\\anaconda3\\lib\\site-packages (from matplotlib->qmpy) (0.11.0)\n",
      "Requirement already satisfied: contourpy>=1.0.1 in c:\\users\\droor\\anaconda3\\lib\\site-packages (from matplotlib->qmpy) (1.0.5)\n",
      "Requirement already satisfied: kiwisolver>=1.0.1 in c:\\users\\droor\\anaconda3\\lib\\site-packages (from matplotlib->qmpy) (1.4.4)\n",
      "Requirement already satisfied: python-dateutil>=2.7 in c:\\users\\droor\\anaconda3\\lib\\site-packages (from matplotlib->qmpy) (2.8.2)\n",
      "Requirement already satisfied: tornado>=5.1 in c:\\users\\droor\\anaconda3\\lib\\site-packages (from bokeh->qmpy) (6.1)\n",
      "Requirement already satisfied: typing-extensions>=3.10.0 in c:\\users\\droor\\anaconda3\\lib\\site-packages (from bokeh->qmpy) (4.4.0)\n",
      "Collecting django-crispy-forms\n",
      "  Using cached django_crispy_forms-1.14.0-py3-none-any.whl (133 kB)\n",
      "Requirement already satisfied: django-filter~=1.1 in c:\\users\\droor\\anaconda3\\lib\\site-packages (from djangorestframework-filters->qmpy) (1.1.0)\n",
      "Requirement already satisfied: defusedxml>=0.6.0 in c:\\users\\droor\\anaconda3\\lib\\site-packages (from djangorestframework-xml->qmpy) (0.7.1)\n",
      "Requirement already satisfied: ptyprocess>=0.5 in c:\\users\\droor\\anaconda3\\lib\\site-packages (from pexpect->qmpy) (0.7.0)\n",
      "Requirement already satisfied: attrs>=19.2.0 in c:\\users\\droor\\anaconda3\\lib\\site-packages (from pytest->qmpy) (22.1.0)\n",
      "Requirement already satisfied: iniconfig in c:\\users\\droor\\anaconda3\\lib\\site-packages (from pytest->qmpy) (1.1.1)\n",
      "Requirement already satisfied: pluggy<2.0,>=0.12 in c:\\users\\droor\\anaconda3\\lib\\site-packages (from pytest->qmpy) (1.0.0)\n",
      "Requirement already satisfied: py>=1.8.2 in c:\\users\\droor\\anaconda3\\lib\\site-packages (from pytest->qmpy) (1.11.0)\n",
      "Requirement already satisfied: tomli>=1.0.0 in c:\\users\\droor\\anaconda3\\lib\\site-packages (from pytest->qmpy) (2.0.1)\n",
      "Requirement already satisfied: atomicwrites>=1.0 in c:\\users\\droor\\anaconda3\\lib\\site-packages (from pytest->qmpy) (1.4.0)\n",
      "Requirement already satisfied: colorama in c:\\users\\droor\\anaconda3\\lib\\site-packages (from pytest->qmpy) (0.4.6)\n",
      "Requirement already satisfied: six>=1.4.0 in c:\\users\\droor\\anaconda3\\lib\\site-packages (from python-memcached->qmpy) (1.16.0)\n",
      "Requirement already satisfied: idna<4,>=2.5 in c:\\users\\droor\\anaconda3\\lib\\site-packages (from requests->qmpy) (3.4)\n",
      "Requirement already satisfied: certifi>=2017.4.17 in c:\\users\\droor\\anaconda3\\lib\\site-packages (from requests->qmpy) (2023.5.7)\n",
      "Requirement already satisfied: urllib3<1.27,>=1.21.1 in c:\\users\\droor\\anaconda3\\lib\\site-packages (from requests->qmpy) (1.26.14)\n",
      "Requirement already satisfied: charset-normalizer<3,>=2 in c:\\users\\droor\\anaconda3\\lib\\site-packages (from requests->qmpy) (2.0.4)\n",
      "Requirement already satisfied: threadpoolctl>=2.0.0 in c:\\users\\droor\\anaconda3\\lib\\site-packages (from scikit-learn->qmpy) (2.2.0)\n",
      "Requirement already satisfied: joblib>=1.1.1 in c:\\users\\droor\\anaconda3\\lib\\site-packages (from scikit-learn->qmpy) (1.1.1)\n",
      "Building wheels for collected packages: pygraphviz\n",
      "  Building wheel for pygraphviz (setup.py): started\n",
      "  Building wheel for pygraphviz (setup.py): finished with status 'error'\n",
      "  Running setup.py clean for pygraphviz\n",
      "Failed to build pygraphviz\n",
      "Installing collected packages: pygraphviz, mysqlclient, Jinja2, djangorestframework-yaml, djangorestframework-xml, django-crispy-forms, Django, djangorestframework, django-extensions, djangorestframework-filters, ase, qmpy\n",
      "  Running setup.py install for pygraphviz: started\n",
      "  Running setup.py install for pygraphviz: finished with status 'error'\n"
     ]
    },
    {
     "name": "stderr",
     "output_type": "stream",
     "text": [
      "  error: subprocess-exited-with-error\n",
      "  \n",
      "  python setup.py bdist_wheel did not run successfully.\n",
      "  exit code: 1\n",
      "  \n",
      "  [48 lines of output]\n",
      "  running bdist_wheel\n",
      "  running build\n",
      "  running build_py\n",
      "  creating build\n",
      "  creating build\\lib.win-amd64-cpython-310\n",
      "  creating build\\lib.win-amd64-cpython-310\\pygraphviz\n",
      "  copying pygraphviz\\agraph.py -> build\\lib.win-amd64-cpython-310\\pygraphviz\n",
      "  copying pygraphviz\\graphviz.py -> build\\lib.win-amd64-cpython-310\\pygraphviz\n",
      "  copying pygraphviz\\scraper.py -> build\\lib.win-amd64-cpython-310\\pygraphviz\n",
      "  copying pygraphviz\\testing.py -> build\\lib.win-amd64-cpython-310\\pygraphviz\n",
      "  copying pygraphviz\\__init__.py -> build\\lib.win-amd64-cpython-310\\pygraphviz\n",
      "  creating build\\lib.win-amd64-cpython-310\\pygraphviz\\tests\n",
      "  copying pygraphviz\\tests\\test_attribute_defaults.py -> build\\lib.win-amd64-cpython-310\\pygraphviz\\tests\n",
      "  copying pygraphviz\\tests\\test_clear.py -> build\\lib.win-amd64-cpython-310\\pygraphviz\\tests\n",
      "  copying pygraphviz\\tests\\test_close.py -> build\\lib.win-amd64-cpython-310\\pygraphviz\\tests\n",
      "  copying pygraphviz\\tests\\test_drawing.py -> build\\lib.win-amd64-cpython-310\\pygraphviz\\tests\n",
      "  copying pygraphviz\\tests\\test_edge_attributes.py -> build\\lib.win-amd64-cpython-310\\pygraphviz\\tests\n",
      "  copying pygraphviz\\tests\\test_graph.py -> build\\lib.win-amd64-cpython-310\\pygraphviz\\tests\n",
      "  copying pygraphviz\\tests\\test_html.py -> build\\lib.win-amd64-cpython-310\\pygraphviz\\tests\n",
      "  copying pygraphviz\\tests\\test_layout.py -> build\\lib.win-amd64-cpython-310\\pygraphviz\\tests\n",
      "  copying pygraphviz\\tests\\test_node_attributes.py -> build\\lib.win-amd64-cpython-310\\pygraphviz\\tests\n",
      "  copying pygraphviz\\tests\\test_readwrite.py -> build\\lib.win-amd64-cpython-310\\pygraphviz\\tests\n",
      "  copying pygraphviz\\tests\\test_repr_mimebundle.py -> build\\lib.win-amd64-cpython-310\\pygraphviz\\tests\n",
      "  copying pygraphviz\\tests\\test_scraper.py -> build\\lib.win-amd64-cpython-310\\pygraphviz\\tests\n",
      "  copying pygraphviz\\tests\\test_string.py -> build\\lib.win-amd64-cpython-310\\pygraphviz\\tests\n",
      "  copying pygraphviz\\tests\\test_subgraph.py -> build\\lib.win-amd64-cpython-310\\pygraphviz\\tests\n",
      "  copying pygraphviz\\tests\\test_unicode.py -> build\\lib.win-amd64-cpython-310\\pygraphviz\\tests\n",
      "  copying pygraphviz\\tests\\__init__.py -> build\\lib.win-amd64-cpython-310\\pygraphviz\\tests\n",
      "  running egg_info\n",
      "  writing pygraphviz.egg-info\\PKG-INFO\n",
      "  writing dependency_links to pygraphviz.egg-info\\dependency_links.txt\n",
      "  writing top-level names to pygraphviz.egg-info\\top_level.txt\n",
      "  reading manifest file 'pygraphviz.egg-info\\SOURCES.txt'\n",
      "  reading manifest template 'MANIFEST.in'\n",
      "  warning: no files found matching '*.png' under directory 'doc'\n",
      "  warning: no files found matching '*.txt' under directory 'doc'\n",
      "  warning: no files found matching '*.css' under directory 'doc'\n",
      "  warning: no previously-included files matching '*~' found anywhere in distribution\n",
      "  warning: no previously-included files matching '*.pyc' found anywhere in distribution\n",
      "  warning: no previously-included files matching '.svn' found anywhere in distribution\n",
      "  no previously-included directories found matching 'doc\\build'\n",
      "  adding license file 'LICENSE'\n",
      "  writing manifest file 'pygraphviz.egg-info\\SOURCES.txt'\n",
      "  copying pygraphviz\\graphviz.i -> build\\lib.win-amd64-cpython-310\\pygraphviz\n",
      "  copying pygraphviz\\graphviz_wrap.c -> build\\lib.win-amd64-cpython-310\\pygraphviz\n",
      "  running build_ext\n",
      "  building 'pygraphviz._graphviz' extension\n",
      "  error: Microsoft Visual C++ 14.0 or greater is required. Get it with \"Microsoft C++ Build Tools\": https://visualstudio.microsoft.com/visual-cpp-build-tools/\n",
      "  [end of output]\n",
      "  \n",
      "  note: This error originates from a subprocess, and is likely not a problem with pip.\n",
      "  ERROR: Failed building wheel for pygraphviz\n",
      "  error: subprocess-exited-with-error\n",
      "  \n",
      "  Running setup.py install for pygraphviz did not run successfully.\n",
      "  exit code: 1\n",
      "  \n",
      "  [50 lines of output]\n",
      "  running install\n",
      "  C:\\Users\\Droor\\anaconda3\\lib\\site-packages\\setuptools\\command\\install.py:34: SetuptoolsDeprecationWarning: setup.py install is deprecated. Use build and pip and other standards-based tools.\n",
      "    warnings.warn(\n",
      "  running build\n",
      "  running build_py\n",
      "  creating build\n",
      "  creating build\\lib.win-amd64-cpython-310\n",
      "  creating build\\lib.win-amd64-cpython-310\\pygraphviz\n",
      "  copying pygraphviz\\agraph.py -> build\\lib.win-amd64-cpython-310\\pygraphviz\n",
      "  copying pygraphviz\\graphviz.py -> build\\lib.win-amd64-cpython-310\\pygraphviz\n",
      "  copying pygraphviz\\scraper.py -> build\\lib.win-amd64-cpython-310\\pygraphviz\n",
      "  copying pygraphviz\\testing.py -> build\\lib.win-amd64-cpython-310\\pygraphviz\n",
      "  copying pygraphviz\\__init__.py -> build\\lib.win-amd64-cpython-310\\pygraphviz\n",
      "  creating build\\lib.win-amd64-cpython-310\\pygraphviz\\tests\n",
      "  copying pygraphviz\\tests\\test_attribute_defaults.py -> build\\lib.win-amd64-cpython-310\\pygraphviz\\tests\n",
      "  copying pygraphviz\\tests\\test_clear.py -> build\\lib.win-amd64-cpython-310\\pygraphviz\\tests\n",
      "  copying pygraphviz\\tests\\test_close.py -> build\\lib.win-amd64-cpython-310\\pygraphviz\\tests\n",
      "  copying pygraphviz\\tests\\test_drawing.py -> build\\lib.win-amd64-cpython-310\\pygraphviz\\tests\n",
      "  copying pygraphviz\\tests\\test_edge_attributes.py -> build\\lib.win-amd64-cpython-310\\pygraphviz\\tests\n",
      "  copying pygraphviz\\tests\\test_graph.py -> build\\lib.win-amd64-cpython-310\\pygraphviz\\tests\n",
      "  copying pygraphviz\\tests\\test_html.py -> build\\lib.win-amd64-cpython-310\\pygraphviz\\tests\n",
      "  copying pygraphviz\\tests\\test_layout.py -> build\\lib.win-amd64-cpython-310\\pygraphviz\\tests\n",
      "  copying pygraphviz\\tests\\test_node_attributes.py -> build\\lib.win-amd64-cpython-310\\pygraphviz\\tests\n",
      "  copying pygraphviz\\tests\\test_readwrite.py -> build\\lib.win-amd64-cpython-310\\pygraphviz\\tests\n",
      "  copying pygraphviz\\tests\\test_repr_mimebundle.py -> build\\lib.win-amd64-cpython-310\\pygraphviz\\tests\n",
      "  copying pygraphviz\\tests\\test_scraper.py -> build\\lib.win-amd64-cpython-310\\pygraphviz\\tests\n",
      "  copying pygraphviz\\tests\\test_string.py -> build\\lib.win-amd64-cpython-310\\pygraphviz\\tests\n",
      "  copying pygraphviz\\tests\\test_subgraph.py -> build\\lib.win-amd64-cpython-310\\pygraphviz\\tests\n",
      "  copying pygraphviz\\tests\\test_unicode.py -> build\\lib.win-amd64-cpython-310\\pygraphviz\\tests\n",
      "  copying pygraphviz\\tests\\__init__.py -> build\\lib.win-amd64-cpython-310\\pygraphviz\\tests\n",
      "  running egg_info\n",
      "  writing pygraphviz.egg-info\\PKG-INFO\n",
      "  writing dependency_links to pygraphviz.egg-info\\dependency_links.txt\n",
      "  writing top-level names to pygraphviz.egg-info\\top_level.txt\n",
      "  reading manifest file 'pygraphviz.egg-info\\SOURCES.txt'\n",
      "  reading manifest template 'MANIFEST.in'\n",
      "  warning: no files found matching '*.png' under directory 'doc'\n",
      "  warning: no files found matching '*.txt' under directory 'doc'\n",
      "  warning: no files found matching '*.css' under directory 'doc'\n",
      "  warning: no previously-included files matching '*~' found anywhere in distribution\n",
      "  warning: no previously-included files matching '*.pyc' found anywhere in distribution\n",
      "  warning: no previously-included files matching '.svn' found anywhere in distribution\n",
      "  no previously-included directories found matching 'doc\\build'\n",
      "  adding license file 'LICENSE'\n",
      "  writing manifest file 'pygraphviz.egg-info\\SOURCES.txt'\n",
      "  copying pygraphviz\\graphviz.i -> build\\lib.win-amd64-cpython-310\\pygraphviz\n",
      "  copying pygraphviz\\graphviz_wrap.c -> build\\lib.win-amd64-cpython-310\\pygraphviz\n",
      "  running build_ext\n",
      "  building 'pygraphviz._graphviz' extension\n",
      "  error: Microsoft Visual C++ 14.0 or greater is required. Get it with \"Microsoft C++ Build Tools\": https://visualstudio.microsoft.com/visual-cpp-build-tools/\n",
      "  [end of output]\n",
      "  \n",
      "  note: This error originates from a subprocess, and is likely not a problem with pip.\n",
      "error: legacy-install-failure\n",
      "\n",
      "Encountered error while trying to install package.\n",
      "\n",
      "pygraphviz\n",
      "\n",
      "note: This is an issue with the package mentioned above, not pip.\n",
      "hint: See above for output from the failure.\n"
     ]
    },
    {
     "name": "stdout",
     "output_type": "stream",
     "text": [
      "Requirement already satisfied: qmpy_rester in c:\\users\\droor\\anaconda3\\lib\\site-packages (0.2.0)\n",
      "Requirement already satisfied: requests in c:\\users\\droor\\anaconda3\\lib\\site-packages (from qmpy_rester) (2.28.1)\n",
      "Requirement already satisfied: certifi>=2017.4.17 in c:\\users\\droor\\anaconda3\\lib\\site-packages (from requests->qmpy_rester) (2023.5.7)\n",
      "Requirement already satisfied: idna<4,>=2.5 in c:\\users\\droor\\anaconda3\\lib\\site-packages (from requests->qmpy_rester) (3.4)\n",
      "Requirement already satisfied: charset-normalizer<3,>=2 in c:\\users\\droor\\anaconda3\\lib\\site-packages (from requests->qmpy_rester) (2.0.4)\n",
      "Requirement already satisfied: urllib3<1.27,>=1.21.1 in c:\\users\\droor\\anaconda3\\lib\\site-packages (from requests->qmpy_rester) (1.26.14)\n"
     ]
    }
   ],
   "source": [
    "!pip install qmpy\n",
    "!pip install qmpy_rester"
   ]
  },
  {
   "cell_type": "code",
   "execution_count": 75,
   "id": "e8ea9a3c",
   "metadata": {
    "ExecuteTime": {
     "end_time": "2023-06-27T17:51:06.489786400Z",
     "start_time": "2023-06-27T17:51:06.479251300Z"
    }
   },
   "outputs": [],
   "source": [
    "import requests\n",
    "import pandas as pd\n",
    "import concurrent.futures"
   ]
  },
  {
   "cell_type": "markdown",
   "id": "7d7367ec",
   "metadata": {},
   "source": [
    "# Get SuperCon data"
   ]
  },
  {
   "cell_type": "code",
   "execution_count": 40,
   "id": "b3624ee7",
   "metadata": {
    "ExecuteTime": {
     "end_time": "2023-06-27T17:51:06.545904200Z",
     "start_time": "2023-06-27T17:51:06.491659100Z"
    }
   },
   "outputs": [],
   "source": [
    "# df_stable_mp_matches.to_csv('output_revised.csv')\n",
    "df_non_doped_materials = pd.read_json(\"C:/Users/Droor/OneDrive - Harvard University/Desktop/Master Folder/College (2022-2026)/Hoffman summer/git-clone/superconductors-ml/datasets/non_doped_materials.json\")"
   ]
  },
  {
   "cell_type": "code",
   "execution_count": 87,
   "id": "c63270ed",
   "metadata": {
    "ExecuteTime": {
     "end_time": "2023-06-27T17:51:06.567608200Z",
     "start_time": "2023-06-27T17:51:06.535442300Z"
    }
   },
   "outputs": [
    {
     "data": {
      "text/plain": [
       "(2105, 8)"
      ]
     },
     "execution_count": 87,
     "metadata": {},
     "output_type": "execute_result"
    }
   ],
   "source": [
    "df_non_doped_materials.shape"
   ]
  },
  {
   "cell_type": "code",
   "execution_count": 88,
   "id": "1eec1bb6",
   "metadata": {},
   "outputs": [
    {
     "data": {
      "text/html": [
       "<div>\n",
       "<style scoped>\n",
       "    .dataframe tbody tr th:only-of-type {\n",
       "        vertical-align: middle;\n",
       "    }\n",
       "\n",
       "    .dataframe tbody tr th {\n",
       "        vertical-align: top;\n",
       "    }\n",
       "\n",
       "    .dataframe thead th {\n",
       "        text-align: right;\n",
       "    }\n",
       "</style>\n",
       "<table border=\"1\" class=\"dataframe\">\n",
       "  <thead>\n",
       "    <tr style=\"text-align: right;\">\n",
       "      <th></th>\n",
       "      <th>sc_id</th>\n",
       "      <th>supercon_formula</th>\n",
       "      <th>cleaned_formula</th>\n",
       "      <th>material_dict</th>\n",
       "      <th>highest_Tc</th>\n",
       "      <th>average_Tc</th>\n",
       "      <th>std_Tc</th>\n",
       "      <th>entry_count</th>\n",
       "    </tr>\n",
       "  </thead>\n",
       "  <tbody>\n",
       "    <tr>\n",
       "      <th>0</th>\n",
       "      <td>[18852]</td>\n",
       "      <td>Ag1B2</td>\n",
       "      <td>Ag1B2</td>\n",
       "      <td>{'Ag': 1.0, 'B': 2.0}</td>\n",
       "      <td>6.7</td>\n",
       "      <td>6.7</td>\n",
       "      <td>0.0</td>\n",
       "      <td>1</td>\n",
       "    </tr>\n",
       "    <tr>\n",
       "      <th>1</th>\n",
       "      <td>[20016]</td>\n",
       "      <td>Ag1Ba2Ca2Cu3O9-z</td>\n",
       "      <td>Ag1Ba2Ca2Cu3O9</td>\n",
       "      <td>{'Ag': 1.0, 'Ba': 2.0, 'Ca': 2.0, 'Cu': 3.0, '...</td>\n",
       "      <td>110.0</td>\n",
       "      <td>110.0</td>\n",
       "      <td>0.0</td>\n",
       "      <td>1</td>\n",
       "    </tr>\n",
       "    <tr>\n",
       "      <th>2</th>\n",
       "      <td>[20017]</td>\n",
       "      <td>Ag1Ba2Ca3Cu4O11-z</td>\n",
       "      <td>Ag1Ba2Ca3Cu4O11</td>\n",
       "      <td>{'Ag': 1.0, 'Ba': 2.0, 'Ca': 3.0, 'Cu': 4.0, '...</td>\n",
       "      <td>117.0</td>\n",
       "      <td>117.0</td>\n",
       "      <td>0.0</td>\n",
       "      <td>1</td>\n",
       "    </tr>\n",
       "    <tr>\n",
       "      <th>3</th>\n",
       "      <td>[20018]</td>\n",
       "      <td>Ag1Ba2Ca4Cu5O13-z</td>\n",
       "      <td>Ag1Ba2Ca4Cu5O13</td>\n",
       "      <td>{'Ag': 1.0, 'Ba': 2.0, 'Ca': 4.0, 'Cu': 5.0, '...</td>\n",
       "      <td>105.0</td>\n",
       "      <td>105.0</td>\n",
       "      <td>0.0</td>\n",
       "      <td>1</td>\n",
       "    </tr>\n",
       "    <tr>\n",
       "      <th>4</th>\n",
       "      <td>[20019]</td>\n",
       "      <td>Ag1Ba2Ca5Cu6O15-z</td>\n",
       "      <td>Ag1Ba2Ca5Cu6O15</td>\n",
       "      <td>{'Ag': 1.0, 'Ba': 2.0, 'Ca': 5.0, 'Cu': 6.0, '...</td>\n",
       "      <td>80.0</td>\n",
       "      <td>80.0</td>\n",
       "      <td>0.0</td>\n",
       "      <td>1</td>\n",
       "    </tr>\n",
       "  </tbody>\n",
       "</table>\n",
       "</div>"
      ],
      "text/plain": [
       "     sc_id   supercon_formula  cleaned_formula  \\\n",
       "0  [18852]              Ag1B2            Ag1B2   \n",
       "1  [20016]   Ag1Ba2Ca2Cu3O9-z   Ag1Ba2Ca2Cu3O9   \n",
       "2  [20017]  Ag1Ba2Ca3Cu4O11-z  Ag1Ba2Ca3Cu4O11   \n",
       "3  [20018]  Ag1Ba2Ca4Cu5O13-z  Ag1Ba2Ca4Cu5O13   \n",
       "4  [20019]  Ag1Ba2Ca5Cu6O15-z  Ag1Ba2Ca5Cu6O15   \n",
       "\n",
       "                                       material_dict  highest_Tc  average_Tc  \\\n",
       "0                              {'Ag': 1.0, 'B': 2.0}         6.7         6.7   \n",
       "1  {'Ag': 1.0, 'Ba': 2.0, 'Ca': 2.0, 'Cu': 3.0, '...       110.0       110.0   \n",
       "2  {'Ag': 1.0, 'Ba': 2.0, 'Ca': 3.0, 'Cu': 4.0, '...       117.0       117.0   \n",
       "3  {'Ag': 1.0, 'Ba': 2.0, 'Ca': 4.0, 'Cu': 5.0, '...       105.0       105.0   \n",
       "4  {'Ag': 1.0, 'Ba': 2.0, 'Ca': 5.0, 'Cu': 6.0, '...        80.0        80.0   \n",
       "\n",
       "   std_Tc  entry_count  \n",
       "0     0.0            1  \n",
       "1     0.0            1  \n",
       "2     0.0            1  \n",
       "3     0.0            1  \n",
       "4     0.0            1  "
      ]
     },
     "execution_count": 88,
     "metadata": {},
     "output_type": "execute_result"
    }
   ],
   "source": [
    "df_non_doped_materials.head()"
   ]
  },
  {
   "cell_type": "markdown",
   "id": "a8a2b648",
   "metadata": {},
   "source": [
    "# Query OQMD function definitions"
   ]
  },
  {
   "cell_type": "code",
   "execution_count": 67,
   "id": "1d2533ef",
   "metadata": {
    "ExecuteTime": {
     "end_time": "2023-06-27T17:51:22.526825600Z",
     "start_time": "2023-06-27T17:51:06.567608200Z"
    },
    "scrolled": true
   },
   "outputs": [],
   "source": [
    "def convert_material_dict_to_element_set(material_dict):\n",
    "    elements = list(material_dict.keys())\n",
    "    element_set = \"(\" + \",\".join(elements) + \")\"\n",
    "    return element_set\n",
    "\n",
    "# Define the base URL and endpoint\n",
    "base_url = \"http://oqmd.org\"\n",
    "endpoint = \"/oqmdapi/formationenergy\"\n",
    "\n",
    "# Define the query parameters\n",
    "fields = \"name,entry_id,volume,stability,band_gap\"\n",
    "\n",
    "def get_json_oqmd(material_dict):\n",
    "    element_set = convert_material_dict_to_element_set(material_dict)\n",
    "    filter_params = f\"element_set={element_set} AND ntypes={len(material_dict)}\"\n",
    "\n",
    "    # Build the complete URL\n",
    "    url = f\"{base_url}{endpoint}?fields={fields}&filter={filter_params}\"\n",
    "\n",
    "    # Send a GET request to the URL\n",
    "    response = requests.get(url)\n",
    "\n",
    "    # Check if the request was successful\n",
    "    if response.status_code == 200:\n",
    "        docs = response.json()\n",
    "        # Process the retrieved data as needed\n",
    "        return docs\n",
    "    else:\n",
    "        return \"Error occurred: \" + response.text"
   ]
  },
  {
   "cell_type": "markdown",
   "id": "5d0fa268",
   "metadata": {},
   "source": [
    "# Query OQMD examples:"
   ]
  },
  {
   "cell_type": "code",
   "execution_count": 68,
   "id": "07e00d51",
   "metadata": {},
   "outputs": [
    {
     "data": {
      "text/plain": [
       "{'links': {'next': None,\n",
       "  'previous': None,\n",
       "  'base_url': {'href': 'https://oqmd.org/oqmdapi',\n",
       "   'meta': {'_oqmd_version': '1.0'}}},\n",
       " 'resource': {},\n",
       " 'data': [{'name': 'NaCl', 'entry_id': 3735},\n",
       "  {'name': 'NaCl', 'entry_id': 8090},\n",
       "  {'name': 'NaCl', 'entry_id': 306107},\n",
       "  {'name': 'NaCl', 'entry_id': 327191},\n",
       "  {'name': 'NaCl', 'entry_id': 337649},\n",
       "  {'name': 'NaCl', 'entry_id': 1105292},\n",
       "  {'name': 'NaCl', 'entry_id': 1219220},\n",
       "  {'name': 'NaCl', 'entry_id': 1228899},\n",
       "  {'name': 'NaCl', 'entry_id': 1343977},\n",
       "  {'name': 'NaCl', 'entry_id': 1344030},\n",
       "  {'name': 'NaCl', 'entry_id': 1443309},\n",
       "  {'name': 'NaCl', 'entry_id': 1440231},\n",
       "  {'name': 'NaCl', 'entry_id': 1443293},\n",
       "  {'name': 'NaCl', 'entry_id': 1441702},\n",
       "  {'name': 'NaCl', 'entry_id': 1442208},\n",
       "  {'name': 'NaCl', 'entry_id': 1440375},\n",
       "  {'name': 'NaCl', 'entry_id': 1479442},\n",
       "  {'name': 'Na2Cl', 'entry_id': 1239302},\n",
       "  {'name': 'Na2Cl', 'entry_id': 1589887},\n",
       "  {'name': 'Na3Cl', 'entry_id': 298919},\n",
       "  {'name': 'Na3Cl', 'entry_id': 309460},\n",
       "  {'name': 'Na3Cl', 'entry_id': 321907},\n",
       "  {'name': 'Na3Cl', 'entry_id': 346393},\n",
       "  {'name': 'NaCl2', 'entry_id': 1232385},\n",
       "  {'name': 'NaCl2', 'entry_id': 1239303},\n",
       "  {'name': 'NaCl2', 'entry_id': 1590334},\n",
       "  {'name': 'Na3Cl2', 'entry_id': 426463},\n",
       "  {'name': 'Na3Cl2', 'entry_id': 1428239},\n",
       "  {'name': 'NaCl3', 'entry_id': 300823},\n",
       "  {'name': 'NaCl3', 'entry_id': 311365},\n",
       "  {'name': 'NaCl3', 'entry_id': 320002},\n",
       "  {'name': 'NaCl3', 'entry_id': 344488},\n",
       "  {'name': 'NaCl3', 'entry_id': 1482279},\n",
       "  {'name': 'NaCl4', 'entry_id': 1450761},\n",
       "  {'name': 'NaCl4', 'entry_id': 1450756},\n",
       "  {'name': 'NaCl4', 'entry_id': 1450768},\n",
       "  {'name': 'NaCl5', 'entry_id': 1436217},\n",
       "  {'name': 'NaCl5', 'entry_id': 1603325},\n",
       "  {'name': 'NaCl8', 'entry_id': 1450528}],\n",
       " 'meta': {'query': {'representation': 'http://oqmd.org/oqmdapi/formationenergy?fields=name,entry_id&filter=element_set=(Na,Cl)%20AND%20ntypes=2'},\n",
       "  'api_version': '1.0',\n",
       "  'time_stamp': '2023-06-27 15:30:44',\n",
       "  'data_returned': 39,\n",
       "  'data_available': 39,\n",
       "  'comments': '',\n",
       "  'query_tree': '',\n",
       "  'more_data_available': False},\n",
       " 'response_message': 'OK'}"
      ]
     },
     "execution_count": 68,
     "metadata": {},
     "output_type": "execute_result"
    }
   ],
   "source": [
    "get_json_oqmd({'Na': 1.0, 'Cl': 1.0})"
   ]
  },
  {
   "cell_type": "markdown",
   "id": "74f71eb3",
   "metadata": {},
   "source": [
    "# Query OQMD in our database."
   ]
  },
  {
   "cell_type": "code",
   "execution_count": 86,
   "id": "ad516f15",
   "metadata": {},
   "outputs": [
    {
     "name": "stdout",
     "output_type": "stream",
     "text": [
      "CPU times: total: 1.16 s\n",
      "Wall time: 2min 29s\n"
     ]
    }
   ],
   "source": [
    "%%time\n",
    "\n",
    "# List of material dictionaries\n",
    "material_dicts = df_non_doped_materials.head(100)['material_dict'].tolist()\n",
    "\n",
    "results = []\n",
    "# Use concurrent execution to process the material dictionaries\n",
    "with concurrent.futures.ThreadPoolExecutor() as executor:\n",
    "    # Submit tasks for each material dictionary\n",
    "    futures = [executor.submit(get_json_oqmd, material_dict) for material_dict in material_dicts]\n",
    "    for future in concurrent.futures.as_completed(futures):\n",
    "        result = future.result()\n",
    "        results.append(result)"
   ]
  },
  {
   "cell_type": "code",
   "execution_count": 116,
   "id": "244b6ecf",
   "metadata": {},
   "outputs": [
    {
     "ename": "TypeError",
     "evalue": "string indices must be integers",
     "output_type": "error",
     "traceback": [
      "\u001b[1;31m---------------------------------------------------------------------------\u001b[0m",
      "\u001b[1;31mTypeError\u001b[0m                                 Traceback (most recent call last)",
      "Cell \u001b[1;32mIn[116], line 3\u001b[0m\n\u001b[0;32m      1\u001b[0m list2 \u001b[38;5;241m=\u001b[39m []\n\u001b[0;32m      2\u001b[0m \u001b[38;5;28;01mfor\u001b[39;00m i \u001b[38;5;129;01min\u001b[39;00m \u001b[38;5;28mrange\u001b[39m(\u001b[38;5;28mlen\u001b[39m(results)):\n\u001b[1;32m----> 3\u001b[0m     list2\u001b[38;5;241m.\u001b[39mappend(\u001b[43mresults\u001b[49m\u001b[43m[\u001b[49m\u001b[43mi\u001b[49m\u001b[43m]\u001b[49m\u001b[43m[\u001b[49m\u001b[38;5;124;43m'\u001b[39;49m\u001b[38;5;124;43mmeta\u001b[39;49m\u001b[38;5;124;43m'\u001b[39;49m\u001b[43m]\u001b[49m[\u001b[38;5;124m'\u001b[39m\u001b[38;5;124mdata_returned\u001b[39m\u001b[38;5;124m'\u001b[39m])\n",
      "\u001b[1;31mTypeError\u001b[0m: string indices must be integers"
     ]
    }
   ],
   "source": [
    "list2 = []\n",
    "for i in range(len(results)):\n",
    "    list2.append(results[i]['meta']['data_returned'])"
   ]
  },
  {
   "cell_type": "code",
   "execution_count": 119,
   "id": "4e6e1c8b",
   "metadata": {},
   "outputs": [
    {
     "data": {
      "image/png": "[encoded data removed]",
      "text/plain": [
       "<Figure size 640x480 with 1 Axes>"
      ]
     },
     "metadata": {},
     "output_type": "display_data"
    }
   ],
   "source": [
    "import matplotlib.pyplot as plt\n",
    "\n",
    "# Create histogram\n",
    "plt.hist(list2, bins=10, alpha=0.7, color='blue')\n",
    "\n",
    "# Set labels and title\n",
    "plt.xlabel('Value')\n",
    "plt.ylabel('Frequency')\n",
    "plt.title('Histogram of how many we get back from OQMD')\n",
    "\n",
    "# Display the plot\n",
    "plt.show()"
   ]
  }
 ],
 "metadata": {
  "kernelspec": {
   "display_name": "Python 3 (ipykernel)",
   "language": "python",
   "name": "python3"
  },
  "language_info": {
   "codemirror_mode": {
    "name": "ipython",
    "version": 3
   },
   "file_extension": ".py",
   "mimetype": "text/x-python",
   "name": "python",
   "nbconvert_exporter": "python",
   "pygments_lexer": "ipython3",
   "version": "3.10.9"
  }
 },
 "nbformat": 4,
 "nbformat_minor": 5
}
